{
 "cells": [
  {
   "cell_type": "markdown",
   "metadata": {
    "id": "j9rSMgKytN9V"
   },
   "source": [
    "## Read Data from JSON"
   ]
  },
  {
   "cell_type": "code",
   "execution_count": 94,
   "metadata": {},
   "outputs": [],
   "source": [
    "import json\n",
    "from datetime import datetime"
   ]
  },
  {
   "cell_type": "code",
   "execution_count": 95,
   "metadata": {
    "id": "wlQdKmzYpRok"
   },
   "outputs": [],
   "source": [
    "fd = open(\"record.json\",'r')\n",
    "db = fd.read()\n",
    "fd.close()"
   ]
  },
  {
   "cell_type": "code",
   "execution_count": 96,
   "metadata": {},
   "outputs": [
    {
     "data": {
      "text/plain": [
       "'{\"1001\": {\"name\": \"Choco Cake\", \"qn\": 34, \"pr\": 100, \"category\": \"Grocery\", \"time_add\": \"06-09-2021T08:23:12\"}, \"1002\": {\"name\": \"Milk Cake\", \"pr\": 800, \"qn\": 84, \"category\": \"Grocery\", \"time_add\": \"06-09-2021T09:18:49\"}, \"1003\": {\"name\": \"drink\", \"pr\": 85, \"qn\": 258, \"category\": \"Grocery\", \"time_add\": \"06-09-2021T09:24:27\"}, \"1004\": {\"name\": \"Candy\", \"pr\": 5, \"qn\": 935, \"category\": \"Grocery\", \"time_add\": \"06-09-2021T09:33:11\"}, \"1005\": {\"name\": \"Pen\", \"pr\": 20, \"qn\": 93, \"category\": \"Stationery\", \"time_add\": \"06-09-2021T09:43:17\"}, \"1006\": {\"name\": \"Phone\", \"pr\": 50000, \"qn\": 5, \"category\": \"Electronic\", \"time_add\": \"06-09-2021T09:46:15\"}, \"1007\": {\"name\": \"Mic\", \"pr\": 1500, \"qn\": 0, \"category\": \"Electronic\", \"time_add\": \"06-09-2021T09:55:57\"}, \"1008\": {\"name\": \"Case\", \"pr\": 599, \"qn\": 2, \"category\": \"Stationery\", \"time_add\": \"06-09-2021T10:04:22\"}, \"1009\": {\"name\": \"Keyboard\", \"pr\": 1999, \"qn\": 9, \"category\": \"Electronic\", \"time_add\": \"06-09-2021T10:13:29\"}, \"1110\": {\"name\": \"Dvd\", \"pr\": 25, \"qn\": 10, \"category\": \"Electronic\", \"time_add\": \"06-09-2021T10:17:45\"}, \"1111\": {\"name\": \"stapler\", \"pr\": 25, \"qn\": 500, \"category\": \"Stationery\", \"time_add\": \"06-09-2021T10:23:39\"}, \"1112\": {\"name\": \"Bulbs\", \"pr\": 30, \"qn\": 355, \"category\": \"Electronic\", \"time_add\": \"06-09-2021T10:38:25\"}, \"1113\": {\"name\": \"Lamp\", \"pr\": 5000, \"qn\": 16, \"category\": \"Electronic\", \"time_add\": \"06-09-2021T10:43:46\"}, \"1114\": {\"name\": \"Apples\", \"pr\": 5, \"qn\": 172, \"category\": \"Fruits\", \"time_add\": \"06-09-2021T10:49:15\"}, \"1115\": {\"name\": \"Headphones\", \"pr\": 670, \"qn\": 20, \"category\": \"Electronic\", \"time_add\": \"06-09-2021T10:56:59\"}, \"1116\": {\"name\": \"Power ranger toy\", \"pr\": 70, \"qn\": 20, \"category\": \"Kids\", \"time_add\": \"06-09-2021T11:04:45\"}, \"1117\": {\"name\": \"Jersey\", \"pr\": 700, \"qn\": 50, \"category\": \"Sports\", \"time_add\": \"06-09-2021T11:13:38\"}, \"1118\": {\"name\": \"Football studs\", \"pr\": 797, \"qn\": 15, \"category\": \"Sports\", \"time_add\": \"06-09-2021T11:23:59\"}, \"1119\": {\"name\": \"Aeroplane\", \"pr\": 50, \"qn\": 12, \"category\": \"Kids\", \"time_add\": \"06-09-2021T11:39:22\"}, \"1120\": {\"name\": \"Sanitizer\", \"pr\": 220, \"qn\": 20, \"category\": \"Medical\", \"time_add\": \"06-09-2021T12:24:55\"}, \"1121\": {\"name\": \"Tshirt\", \"pr\": 500, \"qn\": 27, \"category\": \"Fashion\", \"time_add\": \"06-09-2021T12:26:47\"}, \"1122\": {\"name\": \"Sunfeast\", \"pr\": 20, \"qn\": 32, \"category\": \"Grocery\", \"time_add\": \"06-09-2021T12:29:03\"}, \"1123\": {\"name\": \"Tube light\", \"pr\": 350, \"qn\": 10, \"category\": \"Electronic\", \"time_add\": \"06-09-2021T12:30:31\"}, \"1124\": {\"name\": \"Bag\", \"pr\": 700, \"qn\": 8, \"category\": \"Fashion\", \"time_add\": \"06-09-2021T12:31:46\"}, \"1125\": {\"name\": \"Trousers\", \"pr\": 800, \"qn\": 14, \"category\": \"Fashion\", \"time_add\": \"06-09-2021T12:32:38\"}, \"1126\": {\"name\": \"Dermicool\", \"pr\": 30, \"qn\": 10, \"category\": \"Medicine\", \"time_add\": \"06-09-2021T12:33:42\"}, \"1127\": {\"name\": \"Football\", \"pr\": 800, \"qn\": 20, \"category\": \"Sports\", \"time_add\": \"06-09-2021T12:34:50\"}, \"1128\": {\"name\": \"Sneakers\", \"pr\": 1000, \"qn\": 15, \"category\": \"Fashion\", \"time_add\": \"06-09-2021T12:36:55\"}, \"1129\": {\"name\": \"Cricket bat\", \"pr\": 500, \"qn\": 22, \"category\": \"Sports\", \"time_add\": \"06-09-2021T12:37:54\"}}'"
      ]
     },
     "execution_count": 96,
     "metadata": {},
     "output_type": "execute_result"
    }
   ],
   "source": [
    "db"
   ]
  },
  {
   "cell_type": "code",
   "execution_count": 97,
   "metadata": {},
   "outputs": [],
   "source": [
    "record = json.loads(db)"
   ]
  },
  {
   "cell_type": "code",
   "execution_count": 98,
   "metadata": {
    "colab": {
     "base_uri": "https://localhost:8080/"
    },
    "id": "N8fCrfQHqlUN",
    "outputId": "04f7a640-bbad-429c-d7d1-686ca5ec14e2"
   },
   "outputs": [
    {
     "data": {
      "text/plain": [
       "{'1001': {'name': 'Choco Cake',\n",
       "  'qn': 34,\n",
       "  'pr': 100,\n",
       "  'category': 'Grocery',\n",
       "  'time_add': '06-09-2021T08:23:12'},\n",
       " '1002': {'name': 'Milk Cake',\n",
       "  'pr': 800,\n",
       "  'qn': 84,\n",
       "  'category': 'Grocery',\n",
       "  'time_add': '06-09-2021T09:18:49'},\n",
       " '1003': {'name': 'drink',\n",
       "  'pr': 85,\n",
       "  'qn': 258,\n",
       "  'category': 'Grocery',\n",
       "  'time_add': '06-09-2021T09:24:27'},\n",
       " '1004': {'name': 'Candy',\n",
       "  'pr': 5,\n",
       "  'qn': 935,\n",
       "  'category': 'Grocery',\n",
       "  'time_add': '06-09-2021T09:33:11'},\n",
       " '1005': {'name': 'Pen',\n",
       "  'pr': 20,\n",
       "  'qn': 93,\n",
       "  'category': 'Stationery',\n",
       "  'time_add': '06-09-2021T09:43:17'},\n",
       " '1006': {'name': 'Phone',\n",
       "  'pr': 50000,\n",
       "  'qn': 5,\n",
       "  'category': 'Electronic',\n",
       "  'time_add': '06-09-2021T09:46:15'},\n",
       " '1007': {'name': 'Mic',\n",
       "  'pr': 1500,\n",
       "  'qn': 0,\n",
       "  'category': 'Electronic',\n",
       "  'time_add': '06-09-2021T09:55:57'},\n",
       " '1008': {'name': 'Case',\n",
       "  'pr': 599,\n",
       "  'qn': 2,\n",
       "  'category': 'Stationery',\n",
       "  'time_add': '06-09-2021T10:04:22'},\n",
       " '1009': {'name': 'Keyboard',\n",
       "  'pr': 1999,\n",
       "  'qn': 9,\n",
       "  'category': 'Electronic',\n",
       "  'time_add': '06-09-2021T10:13:29'},\n",
       " '1110': {'name': 'Dvd',\n",
       "  'pr': 25,\n",
       "  'qn': 10,\n",
       "  'category': 'Electronic',\n",
       "  'time_add': '06-09-2021T10:17:45'},\n",
       " '1111': {'name': 'stapler',\n",
       "  'pr': 25,\n",
       "  'qn': 500,\n",
       "  'category': 'Stationery',\n",
       "  'time_add': '06-09-2021T10:23:39'},\n",
       " '1112': {'name': 'Bulbs',\n",
       "  'pr': 30,\n",
       "  'qn': 355,\n",
       "  'category': 'Electronic',\n",
       "  'time_add': '06-09-2021T10:38:25'},\n",
       " '1113': {'name': 'Lamp',\n",
       "  'pr': 5000,\n",
       "  'qn': 16,\n",
       "  'category': 'Electronic',\n",
       "  'time_add': '06-09-2021T10:43:46'},\n",
       " '1114': {'name': 'Apples',\n",
       "  'pr': 5,\n",
       "  'qn': 172,\n",
       "  'category': 'Fruits',\n",
       "  'time_add': '06-09-2021T10:49:15'},\n",
       " '1115': {'name': 'Headphones',\n",
       "  'pr': 670,\n",
       "  'qn': 20,\n",
       "  'category': 'Electronic',\n",
       "  'time_add': '06-09-2021T10:56:59'},\n",
       " '1116': {'name': 'Power ranger toy',\n",
       "  'pr': 70,\n",
       "  'qn': 20,\n",
       "  'category': 'Kids',\n",
       "  'time_add': '06-09-2021T11:04:45'},\n",
       " '1117': {'name': 'Jersey',\n",
       "  'pr': 700,\n",
       "  'qn': 50,\n",
       "  'category': 'Sports',\n",
       "  'time_add': '06-09-2021T11:13:38'},\n",
       " '1118': {'name': 'Football studs',\n",
       "  'pr': 797,\n",
       "  'qn': 15,\n",
       "  'category': 'Sports',\n",
       "  'time_add': '06-09-2021T11:23:59'},\n",
       " '1119': {'name': 'Aeroplane',\n",
       "  'pr': 50,\n",
       "  'qn': 12,\n",
       "  'category': 'Kids',\n",
       "  'time_add': '06-09-2021T11:39:22'},\n",
       " '1120': {'name': 'Sanitizer',\n",
       "  'pr': 220,\n",
       "  'qn': 20,\n",
       "  'category': 'Medical',\n",
       "  'time_add': '06-09-2021T12:24:55'},\n",
       " '1121': {'name': 'Tshirt',\n",
       "  'pr': 500,\n",
       "  'qn': 27,\n",
       "  'category': 'Fashion',\n",
       "  'time_add': '06-09-2021T12:26:47'},\n",
       " '1122': {'name': 'Sunfeast',\n",
       "  'pr': 20,\n",
       "  'qn': 32,\n",
       "  'category': 'Grocery',\n",
       "  'time_add': '06-09-2021T12:29:03'},\n",
       " '1123': {'name': 'Tube light',\n",
       "  'pr': 350,\n",
       "  'qn': 10,\n",
       "  'category': 'Electronic',\n",
       "  'time_add': '06-09-2021T12:30:31'},\n",
       " '1124': {'name': 'Bag',\n",
       "  'pr': 700,\n",
       "  'qn': 8,\n",
       "  'category': 'Fashion',\n",
       "  'time_add': '06-09-2021T12:31:46'},\n",
       " '1125': {'name': 'Trousers',\n",
       "  'pr': 800,\n",
       "  'qn': 14,\n",
       "  'category': 'Fashion',\n",
       "  'time_add': '06-09-2021T12:32:38'},\n",
       " '1126': {'name': 'Dermicool',\n",
       "  'pr': 30,\n",
       "  'qn': 10,\n",
       "  'category': 'Medicine',\n",
       "  'time_add': '06-09-2021T12:33:42'},\n",
       " '1127': {'name': 'Football',\n",
       "  'pr': 800,\n",
       "  'qn': 20,\n",
       "  'category': 'Sports',\n",
       "  'time_add': '06-09-2021T12:34:50'},\n",
       " '1128': {'name': 'Sneakers',\n",
       "  'pr': 1000,\n",
       "  'qn': 15,\n",
       "  'category': 'Fashion',\n",
       "  'time_add': '06-09-2021T12:36:55'},\n",
       " '1129': {'name': 'Cricket bat',\n",
       "  'pr': 500,\n",
       "  'qn': 22,\n",
       "  'category': 'Sports',\n",
       "  'time_add': '06-09-2021T12:37:54'}}"
      ]
     },
     "execution_count": 98,
     "metadata": {},
     "output_type": "execute_result"
    }
   ],
   "source": [
    "record"
   ]
  },
  {
   "cell_type": "code",
   "execution_count": 99,
   "metadata": {},
   "outputs": [
    {
     "data": {
      "text/plain": [
       "dict_keys(['1001', '1002', '1003', '1004', '1005', '1006', '1007', '1008', '1009', '1110', '1111', '1112', '1113', '1114', '1115', '1116', '1117', '1118', '1119', '1120', '1121', '1122', '1123', '1124', '1125', '1126', '1127', '1128', '1129'])"
      ]
     },
     "execution_count": 99,
     "metadata": {},
     "output_type": "execute_result"
    }
   ],
   "source": [
    "record.keys()"
   ]
  },
  {
   "cell_type": "code",
   "execution_count": null,
   "metadata": {},
   "outputs": [],
   "source": []
  },
  {
   "cell_type": "markdown",
   "metadata": {
    "id": "fNniKChHtFsH"
   },
   "source": [
    "## Add New Item into Inventory"
   ]
  },
  {
   "cell_type": "code",
   "execution_count": 100,
   "metadata": {},
   "outputs": [],
   "source": [
    "#quantity gets add up to existing quantity rather then replacing"
   ]
  },
  {
   "cell_type": "code",
   "execution_count": 101,
   "metadata": {
    "colab": {
     "base_uri": "https://localhost:8080/"
    },
    "id": "f61BridoqxZN",
    "outputId": "4919a5d7-b839-41df-ec08-b4f39107e984"
   },
   "outputs": [
    {
     "name": "stdout",
     "output_type": "stream",
     "text": [
      "Enter product id:1130\n",
      "Enter name:Power bank\n",
      "Enter price:2000\n",
      "Enter quantity:8\n",
      "Enter product category:Electronic\n",
      "Product added at:  06-09-2021T12:43:28\n"
     ]
    }
   ],
   "source": [
    "record.keys()\n",
    "prod_id = str(input(\"Enter product id:\"))\n",
    "name = str(input(\"Enter name:\"))\n",
    "pr = int(input(\"Enter price:\"))\n",
    "qn = int(input(\"Enter quantity:\"))\n",
    "category = str(input(\"Enter product category:\"))\n",
    "\n",
    "time_add = datetime.now().strftime('%d-%m-%YT%H:%M:%S')\n",
    "print(\"Product added at: \",time_add)\n",
    "\n",
    "if prod_id in record.keys():\n",
    "    #print(\"exist\")\n",
    "    record[prod_id] = {'name': name, 'pr': pr, 'qn': record[prod_id]['qn'] + qn, 'category': category, 'time_add': time_add}\n",
    "else:\n",
    "    #print(\"no\")\n",
    "    record[prod_id] = {'name': name, 'pr': pr, 'qn': qn, 'category': category, 'time_add': time_add}\n",
    "\n",
    "\n",
    "#record.update(time_dict)\n",
    "\n",
    "js = json.dumps(record)\n",
    "\n",
    "fd = open(\"record.json\",'w')\n",
    "fd.write(js)\n",
    "fd.close()"
   ]
  },
  {
   "cell_type": "code",
   "execution_count": 102,
   "metadata": {
    "colab": {
     "base_uri": "https://localhost:8080/"
    },
    "id": "fqLcVGqqt_cO",
    "outputId": "889a130b-8562-4a35-d430-645ff64724d3"
   },
   "outputs": [
    {
     "data": {
      "text/plain": [
       "{'1001': {'name': 'Choco Cake',\n",
       "  'qn': 34,\n",
       "  'pr': 100,\n",
       "  'category': 'Grocery',\n",
       "  'time_add': '06-09-2021T08:23:12'},\n",
       " '1002': {'name': 'Milk Cake',\n",
       "  'pr': 800,\n",
       "  'qn': 84,\n",
       "  'category': 'Grocery',\n",
       "  'time_add': '06-09-2021T09:18:49'},\n",
       " '1003': {'name': 'drink',\n",
       "  'pr': 85,\n",
       "  'qn': 258,\n",
       "  'category': 'Grocery',\n",
       "  'time_add': '06-09-2021T09:24:27'},\n",
       " '1004': {'name': 'Candy',\n",
       "  'pr': 5,\n",
       "  'qn': 935,\n",
       "  'category': 'Grocery',\n",
       "  'time_add': '06-09-2021T09:33:11'},\n",
       " '1005': {'name': 'Pen',\n",
       "  'pr': 20,\n",
       "  'qn': 93,\n",
       "  'category': 'Stationery',\n",
       "  'time_add': '06-09-2021T09:43:17'},\n",
       " '1006': {'name': 'Phone',\n",
       "  'pr': 50000,\n",
       "  'qn': 5,\n",
       "  'category': 'Electronic',\n",
       "  'time_add': '06-09-2021T09:46:15'},\n",
       " '1007': {'name': 'Mic',\n",
       "  'pr': 1500,\n",
       "  'qn': 0,\n",
       "  'category': 'Electronic',\n",
       "  'time_add': '06-09-2021T09:55:57'},\n",
       " '1008': {'name': 'Case',\n",
       "  'pr': 599,\n",
       "  'qn': 2,\n",
       "  'category': 'Stationery',\n",
       "  'time_add': '06-09-2021T10:04:22'},\n",
       " '1009': {'name': 'Keyboard',\n",
       "  'pr': 1999,\n",
       "  'qn': 9,\n",
       "  'category': 'Electronic',\n",
       "  'time_add': '06-09-2021T10:13:29'},\n",
       " '1110': {'name': 'Dvd',\n",
       "  'pr': 25,\n",
       "  'qn': 10,\n",
       "  'category': 'Electronic',\n",
       "  'time_add': '06-09-2021T10:17:45'},\n",
       " '1111': {'name': 'stapler',\n",
       "  'pr': 25,\n",
       "  'qn': 500,\n",
       "  'category': 'Stationery',\n",
       "  'time_add': '06-09-2021T10:23:39'},\n",
       " '1112': {'name': 'Bulbs',\n",
       "  'pr': 30,\n",
       "  'qn': 355,\n",
       "  'category': 'Electronic',\n",
       "  'time_add': '06-09-2021T10:38:25'},\n",
       " '1113': {'name': 'Lamp',\n",
       "  'pr': 5000,\n",
       "  'qn': 16,\n",
       "  'category': 'Electronic',\n",
       "  'time_add': '06-09-2021T10:43:46'},\n",
       " '1114': {'name': 'Apples',\n",
       "  'pr': 5,\n",
       "  'qn': 172,\n",
       "  'category': 'Fruits',\n",
       "  'time_add': '06-09-2021T10:49:15'},\n",
       " '1115': {'name': 'Headphones',\n",
       "  'pr': 670,\n",
       "  'qn': 20,\n",
       "  'category': 'Electronic',\n",
       "  'time_add': '06-09-2021T10:56:59'},\n",
       " '1116': {'name': 'Power ranger toy',\n",
       "  'pr': 70,\n",
       "  'qn': 20,\n",
       "  'category': 'Kids',\n",
       "  'time_add': '06-09-2021T11:04:45'},\n",
       " '1117': {'name': 'Jersey',\n",
       "  'pr': 700,\n",
       "  'qn': 50,\n",
       "  'category': 'Sports',\n",
       "  'time_add': '06-09-2021T11:13:38'},\n",
       " '1118': {'name': 'Football studs',\n",
       "  'pr': 797,\n",
       "  'qn': 15,\n",
       "  'category': 'Sports',\n",
       "  'time_add': '06-09-2021T11:23:59'},\n",
       " '1119': {'name': 'Aeroplane',\n",
       "  'pr': 50,\n",
       "  'qn': 12,\n",
       "  'category': 'Kids',\n",
       "  'time_add': '06-09-2021T11:39:22'},\n",
       " '1120': {'name': 'Sanitizer',\n",
       "  'pr': 220,\n",
       "  'qn': 20,\n",
       "  'category': 'Medical',\n",
       "  'time_add': '06-09-2021T12:24:55'},\n",
       " '1121': {'name': 'Tshirt',\n",
       "  'pr': 500,\n",
       "  'qn': 27,\n",
       "  'category': 'Fashion',\n",
       "  'time_add': '06-09-2021T12:26:47'},\n",
       " '1122': {'name': 'Sunfeast',\n",
       "  'pr': 20,\n",
       "  'qn': 32,\n",
       "  'category': 'Grocery',\n",
       "  'time_add': '06-09-2021T12:29:03'},\n",
       " '1123': {'name': 'Tube light',\n",
       "  'pr': 350,\n",
       "  'qn': 10,\n",
       "  'category': 'Electronic',\n",
       "  'time_add': '06-09-2021T12:30:31'},\n",
       " '1124': {'name': 'Bag',\n",
       "  'pr': 700,\n",
       "  'qn': 8,\n",
       "  'category': 'Fashion',\n",
       "  'time_add': '06-09-2021T12:31:46'},\n",
       " '1125': {'name': 'Trousers',\n",
       "  'pr': 800,\n",
       "  'qn': 14,\n",
       "  'category': 'Fashion',\n",
       "  'time_add': '06-09-2021T12:32:38'},\n",
       " '1126': {'name': 'Dermicool',\n",
       "  'pr': 30,\n",
       "  'qn': 10,\n",
       "  'category': 'Medicine',\n",
       "  'time_add': '06-09-2021T12:33:42'},\n",
       " '1127': {'name': 'Football',\n",
       "  'pr': 800,\n",
       "  'qn': 20,\n",
       "  'category': 'Sports',\n",
       "  'time_add': '06-09-2021T12:34:50'},\n",
       " '1128': {'name': 'Sneakers',\n",
       "  'pr': 1000,\n",
       "  'qn': 15,\n",
       "  'category': 'Fashion',\n",
       "  'time_add': '06-09-2021T12:36:55'},\n",
       " '1129': {'name': 'Cricket bat',\n",
       "  'pr': 500,\n",
       "  'qn': 22,\n",
       "  'category': 'Sports',\n",
       "  'time_add': '06-09-2021T12:37:54'},\n",
       " '1130': {'name': 'Power bank',\n",
       "  'pr': 2000,\n",
       "  'qn': 8,\n",
       "  'category': 'Electronic',\n",
       "  'time_add': '06-09-2021T12:43:28'}}"
      ]
     },
     "execution_count": 102,
     "metadata": {},
     "output_type": "execute_result"
    }
   ],
   "source": [
    "record"
   ]
  },
  {
   "cell_type": "code",
   "execution_count": null,
   "metadata": {
    "id": "Mh8xAFUk7qFv"
   },
   "outputs": [],
   "source": []
  },
  {
   "cell_type": "code",
   "execution_count": null,
   "metadata": {
    "colab": {
     "base_uri": "https://localhost:8080/"
    },
    "id": "n0UdHaVVFFLB",
    "outputId": "af2d581b-583d-4be6-fd62-425bcd2343ea"
   },
   "outputs": [],
   "source": []
  },
  {
   "cell_type": "code",
   "execution_count": null,
   "metadata": {
    "id": "zUa1OcFMFFmq"
   },
   "outputs": [],
   "source": []
  }
 ],
 "metadata": {
  "colab": {
   "name": "Adding new Products",
   "provenance": []
  },
  "kernelspec": {
   "display_name": "Python 3",
   "language": "python",
   "name": "python3"
  },
  "language_info": {
   "codemirror_mode": {
    "name": "ipython",
    "version": 3
   },
   "file_extension": ".py",
   "mimetype": "text/x-python",
   "name": "python",
   "nbconvert_exporter": "python",
   "pygments_lexer": "ipython3",
   "version": "3.8.3"
  }
 },
 "nbformat": 4,
 "nbformat_minor": 1
}
