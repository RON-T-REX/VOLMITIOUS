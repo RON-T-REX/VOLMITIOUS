{
 "cells": [
  {
   "cell_type": "code",
   "execution_count": 1,
   "metadata": {},
   "outputs": [],
   "source": [
    "#!pip install eli5 "
   ]
  },
  {
   "cell_type": "code",
   "execution_count": 2,
   "metadata": {},
   "outputs": [],
   "source": [
    "# IMPORTING lIBRARIES"
   ]
  },
  {
   "cell_type": "code",
   "execution_count": 3,
   "metadata": {},
   "outputs": [],
   "source": [
    "import pandas as pd\n",
    "import numpy as np\n",
    "import re\n",
    "from nltk.corpus import stopwords\n",
    "from nltk.stem import WordNetLemmatizer\n",
    "from wordcloud import WordCloud\n",
    "import matplotlib.pyplot as plt\n",
    "import seaborn as sns\n",
    "import warnings\n",
    "\n",
    "from sklearn.preprocessing import OneHotEncoder, StandardScaler, MinMaxScaler\n",
    "from sklearn.compose import ColumnTransformer\n",
    "from sklearn.feature_extraction.text import TfidfTransformer, CountVectorizer, TfidfVectorizer\n",
    "from sklearn.preprocessing import FunctionTransformer\n",
    "from sklearn.linear_model import LogisticRegression\n",
    "from sklearn.naive_bayes import MultinomialNB\n",
    "from sklearn.ensemble import RandomForestClassifier,BaggingClassifier\n",
    "from sklearn.svm import SVC\n",
    "from sklearn.calibration import CalibratedClassifierCV\n",
    "from sklearn.metrics import classification_report, confusion_matrix\n",
    "from sklearn.pipeline import FeatureUnion, Pipeline\n",
    "from sklearn.model_selection import train_test_split\n",
    "from sklearn.base import BaseEstimator, TransformerMixin\n",
    "from sklearn import svm\n",
    "from sklearn.multiclass import OneVsRestClassifier\n",
    "from sklearn.svm import LinearSVC\n",
    "\n",
    "from imblearn.under_sampling import RandomUnderSampler\n",
    "import eli5\n",
    "\n",
    "import IPython\n",
    "from IPython.display import display\n",
    "import graphviz\n",
    "from sklearn.tree import export_graphviz\n",
    "import re\n",
    "\n",
    "\n",
    "warnings.filterwarnings('ignore')\n",
    "pd.set_option('display.max_rows', 100)"
   ]
  },
  {
   "cell_type": "markdown",
   "metadata": {},
   "source": [
    "# DATA EXPLORATION"
   ]
  },
  {
   "cell_type": "code",
   "execution_count": 4,
   "metadata": {},
   "outputs": [
    {
     "data": {
      "text/html": [
       "<div>\n",
       "<style scoped>\n",
       "    .dataframe tbody tr th:only-of-type {\n",
       "        vertical-align: middle;\n",
       "    }\n",
       "\n",
       "    .dataframe tbody tr th {\n",
       "        vertical-align: top;\n",
       "    }\n",
       "\n",
       "    .dataframe thead th {\n",
       "        text-align: right;\n",
       "    }\n",
       "</style>\n",
       "<table border=\"1\" class=\"dataframe\">\n",
       "  <thead>\n",
       "    <tr style=\"text-align: right;\">\n",
       "      <th></th>\n",
       "      <th>0</th>\n",
       "      <th>1</th>\n",
       "      <th>2</th>\n",
       "      <th>3</th>\n",
       "      <th>4</th>\n",
       "      <th>5</th>\n",
       "    </tr>\n",
       "  </thead>\n",
       "  <tbody>\n",
       "    <tr>\n",
       "      <th>0</th>\n",
       "      <td>u0</td>\n",
       "      <td>BIANCA</td>\n",
       "      <td>m0</td>\n",
       "      <td>10 things i hate about you</td>\n",
       "      <td>f</td>\n",
       "      <td>4</td>\n",
       "    </tr>\n",
       "    <tr>\n",
       "      <th>1</th>\n",
       "      <td>u1</td>\n",
       "      <td>BRUCE</td>\n",
       "      <td>m0</td>\n",
       "      <td>10 things i hate about you</td>\n",
       "      <td>?</td>\n",
       "      <td>?</td>\n",
       "    </tr>\n",
       "    <tr>\n",
       "      <th>2</th>\n",
       "      <td>u2</td>\n",
       "      <td>CAMERON</td>\n",
       "      <td>m0</td>\n",
       "      <td>10 things i hate about you</td>\n",
       "      <td>m</td>\n",
       "      <td>3</td>\n",
       "    </tr>\n",
       "    <tr>\n",
       "      <th>3</th>\n",
       "      <td>u3</td>\n",
       "      <td>CHASTITY</td>\n",
       "      <td>m0</td>\n",
       "      <td>10 things i hate about you</td>\n",
       "      <td>?</td>\n",
       "      <td>?</td>\n",
       "    </tr>\n",
       "    <tr>\n",
       "      <th>4</th>\n",
       "      <td>u4</td>\n",
       "      <td>JOEY</td>\n",
       "      <td>m0</td>\n",
       "      <td>10 things i hate about you</td>\n",
       "      <td>m</td>\n",
       "      <td>6</td>\n",
       "    </tr>\n",
       "  </tbody>\n",
       "</table>\n",
       "</div>"
      ],
      "text/plain": [
       "    0         1   2                           3  4  5\n",
       "0  u0    BIANCA  m0  10 things i hate about you  f  4\n",
       "1  u1     BRUCE  m0  10 things i hate about you  ?  ?\n",
       "2  u2   CAMERON  m0  10 things i hate about you  m  3\n",
       "3  u3  CHASTITY  m0  10 things i hate about you  ?  ?\n",
       "4  u4      JOEY  m0  10 things i hate about you  m  6"
      ]
     },
     "execution_count": 4,
     "metadata": {},
     "output_type": "execute_result"
    }
   ],
   "source": [
    "#pd.read_csv() reads the csv file and gives Pandas DataFrame.\n",
    "# sep='\\t' used to read the files which are in .tsv format\n",
    "lines_df = pd.read_csv('movie_lines.tsv', sep='\\t', error_bad_lines=False,\n",
    "                       warn_bad_lines=False, header=None)\n",
    "characters_df = pd.read_csv('movie_characters_metadata.tsv', sep='\\t', \n",
    "                            warn_bad_lines=False, error_bad_lines=False, header=None)\n",
    "\n",
    "characters_df.head()"
   ]
  },
  {
   "cell_type": "code",
   "execution_count": 5,
   "metadata": {},
   "outputs": [
    {
     "data": {
      "text/html": [
       "<div>\n",
       "<style scoped>\n",
       "    .dataframe tbody tr th:only-of-type {\n",
       "        vertical-align: middle;\n",
       "    }\n",
       "\n",
       "    .dataframe tbody tr th {\n",
       "        vertical-align: top;\n",
       "    }\n",
       "\n",
       "    .dataframe thead th {\n",
       "        text-align: right;\n",
       "    }\n",
       "</style>\n",
       "<table border=\"1\" class=\"dataframe\">\n",
       "  <thead>\n",
       "    <tr style=\"text-align: right;\">\n",
       "      <th></th>\n",
       "      <th>0</th>\n",
       "      <th>1</th>\n",
       "      <th>2</th>\n",
       "      <th>3</th>\n",
       "      <th>4</th>\n",
       "    </tr>\n",
       "  </thead>\n",
       "  <tbody>\n",
       "    <tr>\n",
       "      <th>0</th>\n",
       "      <td>L1045</td>\n",
       "      <td>u0</td>\n",
       "      <td>m0</td>\n",
       "      <td>BIANCA</td>\n",
       "      <td>They do not!</td>\n",
       "    </tr>\n",
       "    <tr>\n",
       "      <th>1</th>\n",
       "      <td>L1044</td>\n",
       "      <td>u2</td>\n",
       "      <td>m0</td>\n",
       "      <td>CAMERON</td>\n",
       "      <td>They do to!</td>\n",
       "    </tr>\n",
       "    <tr>\n",
       "      <th>2</th>\n",
       "      <td>L985</td>\n",
       "      <td>u0</td>\n",
       "      <td>m0</td>\n",
       "      <td>BIANCA</td>\n",
       "      <td>I hope so.</td>\n",
       "    </tr>\n",
       "    <tr>\n",
       "      <th>3</th>\n",
       "      <td>L984</td>\n",
       "      <td>u2</td>\n",
       "      <td>m0</td>\n",
       "      <td>CAMERON</td>\n",
       "      <td>She okay?</td>\n",
       "    </tr>\n",
       "    <tr>\n",
       "      <th>4</th>\n",
       "      <td>L925</td>\n",
       "      <td>u0</td>\n",
       "      <td>m0</td>\n",
       "      <td>BIANCA</td>\n",
       "      <td>Let's go.</td>\n",
       "    </tr>\n",
       "  </tbody>\n",
       "</table>\n",
       "</div>"
      ],
      "text/plain": [
       "       0   1   2        3             4\n",
       "0  L1045  u0  m0   BIANCA  They do not!\n",
       "1  L1044  u2  m0  CAMERON   They do to!\n",
       "2   L985  u0  m0   BIANCA    I hope so.\n",
       "3   L984  u2  m0  CAMERON     She okay?\n",
       "4   L925  u0  m0   BIANCA     Let's go."
      ]
     },
     "execution_count": 5,
     "metadata": {},
     "output_type": "execute_result"
    }
   ],
   "source": [
    "lines_df.head()   #gives first 5 rows in dataset"
   ]
  },
  {
   "cell_type": "code",
   "execution_count": 6,
   "metadata": {},
   "outputs": [
    {
     "data": {
      "text/html": [
       "<div>\n",
       "<style scoped>\n",
       "    .dataframe tbody tr th:only-of-type {\n",
       "        vertical-align: middle;\n",
       "    }\n",
       "\n",
       "    .dataframe tbody tr th {\n",
       "        vertical-align: top;\n",
       "    }\n",
       "\n",
       "    .dataframe thead th {\n",
       "        text-align: right;\n",
       "    }\n",
       "</style>\n",
       "<table border=\"1\" class=\"dataframe\">\n",
       "  <thead>\n",
       "    <tr style=\"text-align: right;\">\n",
       "      <th></th>\n",
       "      <th>chId</th>\n",
       "      <th>chName</th>\n",
       "      <th>mId</th>\n",
       "      <th>mName</th>\n",
       "      <th>gender</th>\n",
       "      <th>posCredits</th>\n",
       "    </tr>\n",
       "  </thead>\n",
       "  <tbody>\n",
       "    <tr>\n",
       "      <th>0</th>\n",
       "      <td>u0</td>\n",
       "      <td>BIANCA</td>\n",
       "      <td>m0</td>\n",
       "      <td>10 things i hate about you</td>\n",
       "      <td>f</td>\n",
       "      <td>4</td>\n",
       "    </tr>\n",
       "    <tr>\n",
       "      <th>1</th>\n",
       "      <td>u1</td>\n",
       "      <td>BRUCE</td>\n",
       "      <td>m0</td>\n",
       "      <td>10 things i hate about you</td>\n",
       "      <td>?</td>\n",
       "      <td>?</td>\n",
       "    </tr>\n",
       "    <tr>\n",
       "      <th>2</th>\n",
       "      <td>u2</td>\n",
       "      <td>CAMERON</td>\n",
       "      <td>m0</td>\n",
       "      <td>10 things i hate about you</td>\n",
       "      <td>m</td>\n",
       "      <td>3</td>\n",
       "    </tr>\n",
       "    <tr>\n",
       "      <th>3</th>\n",
       "      <td>u3</td>\n",
       "      <td>CHASTITY</td>\n",
       "      <td>m0</td>\n",
       "      <td>10 things i hate about you</td>\n",
       "      <td>?</td>\n",
       "      <td>?</td>\n",
       "    </tr>\n",
       "    <tr>\n",
       "      <th>4</th>\n",
       "      <td>u4</td>\n",
       "      <td>JOEY</td>\n",
       "      <td>m0</td>\n",
       "      <td>10 things i hate about you</td>\n",
       "      <td>m</td>\n",
       "      <td>6</td>\n",
       "    </tr>\n",
       "  </tbody>\n",
       "</table>\n",
       "</div>"
      ],
      "text/plain": [
       "  chId    chName mId                       mName gender posCredits\n",
       "0   u0    BIANCA  m0  10 things i hate about you      f          4\n",
       "1   u1     BRUCE  m0  10 things i hate about you      ?          ?\n",
       "2   u2   CAMERON  m0  10 things i hate about you      m          3\n",
       "3   u3  CHASTITY  m0  10 things i hate about you      ?          ?\n",
       "4   u4      JOEY  m0  10 things i hate about you      m          6"
      ]
     },
     "execution_count": 6,
     "metadata": {},
     "output_type": "execute_result"
    }
   ],
   "source": [
    "#Adding column names to characters dataframe\n",
    "characters_df.columns=['chId','chName','mId','mName','gender','posCredits']\n",
    "characters_df.head()"
   ]
  },
  {
   "cell_type": "code",
   "execution_count": 7,
   "metadata": {},
   "outputs": [
    {
     "data": {
      "text/plain": [
       "(9034, 6)"
      ]
     },
     "execution_count": 7,
     "metadata": {},
     "output_type": "execute_result"
    }
   ],
   "source": [
    "characters_df.shape"
   ]
  },
  {
   "cell_type": "code",
   "execution_count": 8,
   "metadata": {},
   "outputs": [
    {
     "data": {
      "text/plain": [
       "?    6008\n",
       "m    1899\n",
       "f     921\n",
       "M     145\n",
       "F      44\n",
       "Name: gender, dtype: int64"
      ]
     },
     "execution_count": 8,
     "metadata": {},
     "output_type": "execute_result"
    }
   ],
   "source": [
    "#Checking the distribution of gender in the characters dataset\n",
    "characters_df.gender.value_counts()"
   ]
  },
  {
   "cell_type": "code",
   "execution_count": 9,
   "metadata": {},
   "outputs": [
    {
     "data": {
      "text/plain": [
       "(3026, 6)"
      ]
     },
     "execution_count": 9,
     "metadata": {},
     "output_type": "execute_result"
    }
   ],
   "source": [
    "#We’ll assign a label of 0 to male characters & 1 to female characters.\n",
    "characters_df = characters_df[characters_df.gender != '?']\n",
    "characters_df.gender = characters_df.gender.apply(lambda g: 0 if g in ['m', 'M'] else 1)  ## Label encoding\n",
    "\n",
    "characters_df.shape"
   ]
  },
  {
   "cell_type": "code",
   "execution_count": 10,
   "metadata": {},
   "outputs": [
    {
     "data": {
      "text/plain": [
       "0    2044\n",
       "1     982\n",
       "Name: gender, dtype: int64"
      ]
     },
     "execution_count": 10,
     "metadata": {},
     "output_type": "execute_result"
    }
   ],
   "source": [
    "characters_df.gender.value_counts()"
   ]
  },
  {
   "cell_type": "code",
   "execution_count": 11,
   "metadata": {},
   "outputs": [
    {
     "data": {
      "text/plain": [
       "1       497\n",
       "2       443\n",
       "3       352\n",
       "?       330\n",
       "4       268\n",
       "5       211\n",
       "6       169\n",
       "7       125\n",
       "8       100\n",
       "9        79\n",
       "10       54\n",
       "11       40\n",
       "1000     38\n",
       "13       33\n",
       "12       32\n",
       "16       26\n",
       "14       24\n",
       "18       24\n",
       "17       19\n",
       "19       18\n",
       "15       14\n",
       "21       13\n",
       "22        9\n",
       "20        8\n",
       "29        7\n",
       "27        6\n",
       "25        5\n",
       "24        5\n",
       "26        5\n",
       "23        4\n",
       "35        4\n",
       "31        4\n",
       "45        4\n",
       "33        3\n",
       "34        3\n",
       "38        3\n",
       "43        3\n",
       "30        2\n",
       "39        2\n",
       "59        2\n",
       "32        2\n",
       "42        2\n",
       "36        2\n",
       "28        2\n",
       "37        1\n",
       "41        1\n",
       "63        1\n",
       "71        1\n",
       "50        1\n",
       "82        1\n",
       "62        1\n",
       "47        1\n",
       "44        1\n",
       "46        1\n",
       "51        1\n",
       "70        1\n",
       "49        1\n",
       "Name: posCredits, dtype: int64"
      ]
     },
     "execution_count": 11,
     "metadata": {},
     "output_type": "execute_result"
    }
   ],
   "source": [
    "#position of the character in the post credits of the movie\n",
    "characters_df.posCredits.value_counts()"
   ]
  },
  {
   "cell_type": "code",
   "execution_count": 12,
   "metadata": {},
   "outputs": [
    {
     "data": {
      "text/plain": [
       "10+    782\n",
       "1      497\n",
       "2      443\n",
       "3      352\n",
       "4      268\n",
       "5      211\n",
       "6      169\n",
       "7      125\n",
       "8      100\n",
       "9       79\n",
       "Name: posCredits, dtype: int64"
      ]
     },
     "execution_count": 12,
     "metadata": {},
     "output_type": "execute_result"
    }
   ],
   "source": [
    "#combine the low frequency ones together first\n",
    "characters_df.posCredits = characters_df.posCredits.apply(lambda p: '10+' if not p in ['1', '2', '3', '4', '5', '6', '7', '8', '9'] else p)  ## Label encoding\n",
    "characters_df.posCredits.value_counts()"
   ]
  },
  {
   "cell_type": "code",
   "execution_count": 13,
   "metadata": {},
   "outputs": [
    {
     "data": {
      "text/html": [
       "<div>\n",
       "<style scoped>\n",
       "    .dataframe tbody tr th:only-of-type {\n",
       "        vertical-align: middle;\n",
       "    }\n",
       "\n",
       "    .dataframe tbody tr th {\n",
       "        vertical-align: top;\n",
       "    }\n",
       "\n",
       "    .dataframe thead th {\n",
       "        text-align: right;\n",
       "    }\n",
       "</style>\n",
       "<table border=\"1\" class=\"dataframe\">\n",
       "  <thead>\n",
       "    <tr style=\"text-align: right;\">\n",
       "      <th></th>\n",
       "      <th>lineId</th>\n",
       "      <th>chId</th>\n",
       "      <th>mId</th>\n",
       "      <th>chName</th>\n",
       "      <th>dialogue</th>\n",
       "    </tr>\n",
       "  </thead>\n",
       "  <tbody>\n",
       "    <tr>\n",
       "      <th>0</th>\n",
       "      <td>L1045</td>\n",
       "      <td>u0</td>\n",
       "      <td>m0</td>\n",
       "      <td>BIANCA</td>\n",
       "      <td>They do not!</td>\n",
       "    </tr>\n",
       "    <tr>\n",
       "      <th>1</th>\n",
       "      <td>L1044</td>\n",
       "      <td>u2</td>\n",
       "      <td>m0</td>\n",
       "      <td>CAMERON</td>\n",
       "      <td>They do to!</td>\n",
       "    </tr>\n",
       "    <tr>\n",
       "      <th>2</th>\n",
       "      <td>L985</td>\n",
       "      <td>u0</td>\n",
       "      <td>m0</td>\n",
       "      <td>BIANCA</td>\n",
       "      <td>I hope so.</td>\n",
       "    </tr>\n",
       "    <tr>\n",
       "      <th>3</th>\n",
       "      <td>L984</td>\n",
       "      <td>u2</td>\n",
       "      <td>m0</td>\n",
       "      <td>CAMERON</td>\n",
       "      <td>She okay?</td>\n",
       "    </tr>\n",
       "    <tr>\n",
       "      <th>4</th>\n",
       "      <td>L925</td>\n",
       "      <td>u0</td>\n",
       "      <td>m0</td>\n",
       "      <td>BIANCA</td>\n",
       "      <td>Let's go.</td>\n",
       "    </tr>\n",
       "  </tbody>\n",
       "</table>\n",
       "</div>"
      ],
      "text/plain": [
       "  lineId chId mId   chName      dialogue\n",
       "0  L1045   u0  m0   BIANCA  They do not!\n",
       "1  L1044   u2  m0  CAMERON   They do to!\n",
       "2   L985   u0  m0   BIANCA    I hope so.\n",
       "3   L984   u2  m0  CAMERON     She okay?\n",
       "4   L925   u0  m0   BIANCA     Let's go."
      ]
     },
     "execution_count": 13,
     "metadata": {},
     "output_type": "execute_result"
    }
   ],
   "source": [
    "# Adding the column names \n",
    "lines_df.columns = ['lineId','chId','mId','chName','dialogue']\n",
    "lines_df.head()"
   ]
  },
  {
   "cell_type": "code",
   "execution_count": 14,
   "metadata": {},
   "outputs": [
    {
     "data": {
      "text/html": [
       "<div>\n",
       "<style scoped>\n",
       "    .dataframe tbody tr th:only-of-type {\n",
       "        vertical-align: middle;\n",
       "    }\n",
       "\n",
       "    .dataframe tbody tr th {\n",
       "        vertical-align: top;\n",
       "    }\n",
       "\n",
       "    .dataframe thead th {\n",
       "        text-align: right;\n",
       "    }\n",
       "</style>\n",
       "<table border=\"1\" class=\"dataframe\">\n",
       "  <thead>\n",
       "    <tr style=\"text-align: right;\">\n",
       "      <th></th>\n",
       "      <th>lineId</th>\n",
       "      <th>chId</th>\n",
       "      <th>mId</th>\n",
       "      <th>chName</th>\n",
       "      <th>dialogue</th>\n",
       "      <th>mName</th>\n",
       "      <th>gender</th>\n",
       "      <th>posCredits</th>\n",
       "    </tr>\n",
       "  </thead>\n",
       "  <tbody>\n",
       "    <tr>\n",
       "      <th>0</th>\n",
       "      <td>L1045</td>\n",
       "      <td>u0</td>\n",
       "      <td>m0</td>\n",
       "      <td>BIANCA</td>\n",
       "      <td>They do not!</td>\n",
       "      <td>10 things i hate about you</td>\n",
       "      <td>1</td>\n",
       "      <td>4</td>\n",
       "    </tr>\n",
       "    <tr>\n",
       "      <th>1</th>\n",
       "      <td>L985</td>\n",
       "      <td>u0</td>\n",
       "      <td>m0</td>\n",
       "      <td>BIANCA</td>\n",
       "      <td>I hope so.</td>\n",
       "      <td>10 things i hate about you</td>\n",
       "      <td>1</td>\n",
       "      <td>4</td>\n",
       "    </tr>\n",
       "    <tr>\n",
       "      <th>2</th>\n",
       "      <td>L925</td>\n",
       "      <td>u0</td>\n",
       "      <td>m0</td>\n",
       "      <td>BIANCA</td>\n",
       "      <td>Let's go.</td>\n",
       "      <td>10 things i hate about you</td>\n",
       "      <td>1</td>\n",
       "      <td>4</td>\n",
       "    </tr>\n",
       "    <tr>\n",
       "      <th>3</th>\n",
       "      <td>L872</td>\n",
       "      <td>u0</td>\n",
       "      <td>m0</td>\n",
       "      <td>BIANCA</td>\n",
       "      <td>Okay -- you're gonna need to learn how to lie.</td>\n",
       "      <td>10 things i hate about you</td>\n",
       "      <td>1</td>\n",
       "      <td>4</td>\n",
       "    </tr>\n",
       "    <tr>\n",
       "      <th>4</th>\n",
       "      <td>L869</td>\n",
       "      <td>u0</td>\n",
       "      <td>m0</td>\n",
       "      <td>BIANCA</td>\n",
       "      <td>Like my fear of wearing pastels?</td>\n",
       "      <td>10 things i hate about you</td>\n",
       "      <td>1</td>\n",
       "      <td>4</td>\n",
       "    </tr>\n",
       "  </tbody>\n",
       "</table>\n",
       "</div>"
      ],
      "text/plain": [
       "  lineId chId mId  chName                                        dialogue  \\\n",
       "0  L1045   u0  m0  BIANCA                                    They do not!   \n",
       "1   L985   u0  m0  BIANCA                                      I hope so.   \n",
       "2   L925   u0  m0  BIANCA                                       Let's go.   \n",
       "3   L872   u0  m0  BIANCA  Okay -- you're gonna need to learn how to lie.   \n",
       "4   L869   u0  m0  BIANCA                Like my fear of wearing pastels?   \n",
       "\n",
       "                        mName  gender posCredits  \n",
       "0  10 things i hate about you       1          4  \n",
       "1  10 things i hate about you       1          4  \n",
       "2  10 things i hate about you       1          4  \n",
       "3  10 things i hate about you       1          4  \n",
       "4  10 things i hate about you       1          4  "
      ]
     },
     "execution_count": 14,
     "metadata": {},
     "output_type": "execute_result"
    }
   ],
   "source": [
    "#join lines_df and characters_df together based on 'chId','mId', 'chName' So each character has his own data\n",
    "#for eg all dialogues of Bianca will be sorted and vice versa\n",
    "df = pd.merge(lines_df, characters_df, how='inner', on=['chId','mId', 'chName'],\n",
    "         left_index=False, right_index=False, sort=True,\n",
    "         copy=False, indicator=False)\n",
    "df.head()"
   ]
  },
  {
   "cell_type": "code",
   "execution_count": 15,
   "metadata": {},
   "outputs": [
    {
     "data": {
      "text/plain": [
       "(229309, 8)"
      ]
     },
     "execution_count": 15,
     "metadata": {},
     "output_type": "execute_result"
    }
   ],
   "source": [
    "#gives no. rows of the data or length of data\n",
    "df.shape"
   ]
  },
  {
   "cell_type": "code",
   "execution_count": 16,
   "metadata": {},
   "outputs": [
    {
     "data": {
      "text/plain": [
       "0         True\n",
       "1         True\n",
       "2         True\n",
       "3         True\n",
       "4         True\n",
       "          ... \n",
       "229304    True\n",
       "229305    True\n",
       "229306    True\n",
       "229307    True\n",
       "229308    True\n",
       "Name: dialogue, Length: 229309, dtype: bool"
      ]
     },
     "execution_count": 16,
     "metadata": {},
     "output_type": "execute_result"
    }
   ],
   "source": [
    "df['dialogue'].notnull()"
   ]
  },
  {
   "cell_type": "code",
   "execution_count": 17,
   "metadata": {},
   "outputs": [
    {
     "data": {
      "text/plain": [
       "(229106, 8)"
      ]
     },
     "execution_count": 17,
     "metadata": {},
     "output_type": "execute_result"
    }
   ],
   "source": [
    "#Remove empty dialogues from the dataset\n",
    "# df['dialogue'].notnull() will give u data which are not null in form of true or false as above\n",
    "# df[df['dialogue'].notnull()] will give u the exact data to be stored in variable and no null values will be there\n",
    "\n",
    "df = df[df['dialogue'].notnull()]\n",
    "df.shape"
   ]
  },
  {
   "cell_type": "code",
   "execution_count": 18,
   "metadata": {},
   "outputs": [
    {
     "data": {
      "text/html": [
       "<div>\n",
       "<style scoped>\n",
       "    .dataframe tbody tr th:only-of-type {\n",
       "        vertical-align: middle;\n",
       "    }\n",
       "\n",
       "    .dataframe tbody tr th {\n",
       "        vertical-align: top;\n",
       "    }\n",
       "\n",
       "    .dataframe thead th {\n",
       "        text-align: right;\n",
       "    }\n",
       "</style>\n",
       "<table border=\"1\" class=\"dataframe\">\n",
       "  <thead>\n",
       "    <tr style=\"text-align: right;\">\n",
       "      <th></th>\n",
       "      <th>0</th>\n",
       "      <th>1</th>\n",
       "      <th>2</th>\n",
       "      <th>3</th>\n",
       "      <th>4</th>\n",
       "      <th>5</th>\n",
       "    </tr>\n",
       "  </thead>\n",
       "  <tbody>\n",
       "    <tr>\n",
       "      <th>0</th>\n",
       "      <td>m0</td>\n",
       "      <td>10 things i hate about you</td>\n",
       "      <td>1999</td>\n",
       "      <td>6.9</td>\n",
       "      <td>62847.0</td>\n",
       "      <td>['comedy' 'romance']</td>\n",
       "    </tr>\n",
       "    <tr>\n",
       "      <th>1</th>\n",
       "      <td>m1</td>\n",
       "      <td>1492: conquest of paradise</td>\n",
       "      <td>1992</td>\n",
       "      <td>6.2</td>\n",
       "      <td>10421.0</td>\n",
       "      <td>['adventure' 'biography' 'drama' 'history']</td>\n",
       "    </tr>\n",
       "    <tr>\n",
       "      <th>2</th>\n",
       "      <td>m2</td>\n",
       "      <td>15 minutes</td>\n",
       "      <td>2001</td>\n",
       "      <td>6.1</td>\n",
       "      <td>25854.0</td>\n",
       "      <td>['action' 'crime' 'drama' 'thriller']</td>\n",
       "    </tr>\n",
       "    <tr>\n",
       "      <th>3</th>\n",
       "      <td>m3</td>\n",
       "      <td>2001: a space odyssey</td>\n",
       "      <td>1968</td>\n",
       "      <td>8.4</td>\n",
       "      <td>163227.0</td>\n",
       "      <td>['adventure' 'mystery' 'sci-fi']</td>\n",
       "    </tr>\n",
       "    <tr>\n",
       "      <th>4</th>\n",
       "      <td>m4</td>\n",
       "      <td>48 hrs.</td>\n",
       "      <td>1982</td>\n",
       "      <td>6.9</td>\n",
       "      <td>22289.0</td>\n",
       "      <td>['action' 'comedy' 'crime' 'drama' 'thriller']</td>\n",
       "    </tr>\n",
       "  </tbody>\n",
       "</table>\n",
       "</div>"
      ],
      "text/plain": [
       "    0                           1     2    3         4  \\\n",
       "0  m0  10 things i hate about you  1999  6.9   62847.0   \n",
       "1  m1  1492: conquest of paradise  1992  6.2   10421.0   \n",
       "2  m2                  15 minutes  2001  6.1   25854.0   \n",
       "3  m3       2001: a space odyssey  1968  8.4  163227.0   \n",
       "4  m4                     48 hrs.  1982  6.9   22289.0   \n",
       "\n",
       "                                                5  \n",
       "0                            ['comedy' 'romance']  \n",
       "1     ['adventure' 'biography' 'drama' 'history']  \n",
       "2           ['action' 'crime' 'drama' 'thriller']  \n",
       "3                ['adventure' 'mystery' 'sci-fi']  \n",
       "4  ['action' 'comedy' 'crime' 'drama' 'thriller']  "
      ]
     },
     "execution_count": 18,
     "metadata": {},
     "output_type": "execute_result"
    }
   ],
   "source": [
    "#check what kind of movie metadata we can add to our dataset. \n",
    "movies = pd.read_csv(\"movie_titles_metadata.tsv\", sep='\\t', error_bad_lines=False,\n",
    "                       warn_bad_lines=False, header=None)\n",
    "movies.head()"
   ]
  },
  {
   "cell_type": "code",
   "execution_count": 19,
   "metadata": {},
   "outputs": [
    {
     "data": {
      "text/html": [
       "<div>\n",
       "<style scoped>\n",
       "    .dataframe tbody tr th:only-of-type {\n",
       "        vertical-align: middle;\n",
       "    }\n",
       "\n",
       "    .dataframe tbody tr th {\n",
       "        vertical-align: top;\n",
       "    }\n",
       "\n",
       "    .dataframe thead th {\n",
       "        text-align: right;\n",
       "    }\n",
       "</style>\n",
       "<table border=\"1\" class=\"dataframe\">\n",
       "  <thead>\n",
       "    <tr style=\"text-align: right;\">\n",
       "      <th></th>\n",
       "      <th>mId</th>\n",
       "      <th>mName</th>\n",
       "      <th>releaseYear</th>\n",
       "      <th>rating</th>\n",
       "      <th>votes</th>\n",
       "      <th>genres</th>\n",
       "    </tr>\n",
       "  </thead>\n",
       "  <tbody>\n",
       "    <tr>\n",
       "      <th>0</th>\n",
       "      <td>m0</td>\n",
       "      <td>10 things i hate about you</td>\n",
       "      <td>1999</td>\n",
       "      <td>6.9</td>\n",
       "      <td>62847.0</td>\n",
       "      <td>['comedy' 'romance']</td>\n",
       "    </tr>\n",
       "    <tr>\n",
       "      <th>1</th>\n",
       "      <td>m1</td>\n",
       "      <td>1492: conquest of paradise</td>\n",
       "      <td>1992</td>\n",
       "      <td>6.2</td>\n",
       "      <td>10421.0</td>\n",
       "      <td>['adventure' 'biography' 'drama' 'history']</td>\n",
       "    </tr>\n",
       "    <tr>\n",
       "      <th>2</th>\n",
       "      <td>m2</td>\n",
       "      <td>15 minutes</td>\n",
       "      <td>2001</td>\n",
       "      <td>6.1</td>\n",
       "      <td>25854.0</td>\n",
       "      <td>['action' 'crime' 'drama' 'thriller']</td>\n",
       "    </tr>\n",
       "    <tr>\n",
       "      <th>3</th>\n",
       "      <td>m3</td>\n",
       "      <td>2001: a space odyssey</td>\n",
       "      <td>1968</td>\n",
       "      <td>8.4</td>\n",
       "      <td>163227.0</td>\n",
       "      <td>['adventure' 'mystery' 'sci-fi']</td>\n",
       "    </tr>\n",
       "    <tr>\n",
       "      <th>4</th>\n",
       "      <td>m4</td>\n",
       "      <td>48 hrs.</td>\n",
       "      <td>1982</td>\n",
       "      <td>6.9</td>\n",
       "      <td>22289.0</td>\n",
       "      <td>['action' 'comedy' 'crime' 'drama' 'thriller']</td>\n",
       "    </tr>\n",
       "  </tbody>\n",
       "</table>\n",
       "</div>"
      ],
      "text/plain": [
       "  mId                       mName releaseYear  rating     votes  \\\n",
       "0  m0  10 things i hate about you        1999     6.9   62847.0   \n",
       "1  m1  1492: conquest of paradise        1992     6.2   10421.0   \n",
       "2  m2                  15 minutes        2001     6.1   25854.0   \n",
       "3  m3       2001: a space odyssey        1968     8.4  163227.0   \n",
       "4  m4                     48 hrs.        1982     6.9   22289.0   \n",
       "\n",
       "                                           genres  \n",
       "0                            ['comedy' 'romance']  \n",
       "1     ['adventure' 'biography' 'drama' 'history']  \n",
       "2           ['action' 'crime' 'drama' 'thriller']  \n",
       "3                ['adventure' 'mystery' 'sci-fi']  \n",
       "4  ['action' 'comedy' 'crime' 'drama' 'thriller']  "
      ]
     },
     "execution_count": 19,
     "metadata": {},
     "output_type": "execute_result"
    }
   ],
   "source": [
    "#Adding column names\n",
    "movies.columns = ['mId','mName','releaseYear','rating','votes','genres']\n",
    "\n",
    "movies.head()"
   ]
  },
  {
   "cell_type": "code",
   "execution_count": 20,
   "metadata": {},
   "outputs": [
    {
     "data": {
      "text/html": [
       "<div>\n",
       "<style scoped>\n",
       "    .dataframe tbody tr th:only-of-type {\n",
       "        vertical-align: middle;\n",
       "    }\n",
       "\n",
       "    .dataframe tbody tr th {\n",
       "        vertical-align: top;\n",
       "    }\n",
       "\n",
       "    .dataframe thead th {\n",
       "        text-align: right;\n",
       "    }\n",
       "</style>\n",
       "<table border=\"1\" class=\"dataframe\">\n",
       "  <thead>\n",
       "    <tr style=\"text-align: right;\">\n",
       "      <th></th>\n",
       "      <th>mId</th>\n",
       "      <th>releaseYear</th>\n",
       "    </tr>\n",
       "  </thead>\n",
       "  <tbody>\n",
       "    <tr>\n",
       "      <th>0</th>\n",
       "      <td>m0</td>\n",
       "      <td>1999</td>\n",
       "    </tr>\n",
       "    <tr>\n",
       "      <th>1</th>\n",
       "      <td>m1</td>\n",
       "      <td>1992</td>\n",
       "    </tr>\n",
       "    <tr>\n",
       "      <th>2</th>\n",
       "      <td>m2</td>\n",
       "      <td>2001</td>\n",
       "    </tr>\n",
       "    <tr>\n",
       "      <th>3</th>\n",
       "      <td>m3</td>\n",
       "      <td>1968</td>\n",
       "    </tr>\n",
       "    <tr>\n",
       "      <th>4</th>\n",
       "      <td>m4</td>\n",
       "      <td>1982</td>\n",
       "    </tr>\n",
       "  </tbody>\n",
       "</table>\n",
       "</div>"
      ],
      "text/plain": [
       "  mId releaseYear\n",
       "0  m0        1999\n",
       "1  m1        1992\n",
       "2  m2        2001\n",
       "3  m3        1968\n",
       "4  m4        1982"
      ]
     },
     "execution_count": 20,
     "metadata": {},
     "output_type": "execute_result"
    }
   ],
   "source": [
    "#getting the columns which we want \n",
    "movie_yr = movies[['mId', 'releaseYear']]\n",
    "movie_yr.head()"
   ]
  },
  {
   "cell_type": "code",
   "execution_count": 21,
   "metadata": {},
   "outputs": [
    {
     "name": "stdout",
     "output_type": "stream",
     "text": [
      "<class 'pandas.core.frame.DataFrame'>\n",
      "RangeIndex: 617 entries, 0 to 616\n",
      "Data columns (total 2 columns):\n",
      " #   Column       Non-Null Count  Dtype \n",
      "---  ------       --------------  ----- \n",
      " 0   mId          617 non-null    object\n",
      " 1   releaseYear  616 non-null    object\n",
      "dtypes: object(2)\n",
      "memory usage: 9.8+ KB\n"
     ]
    }
   ],
   "source": [
    "movie_yr.info()"
   ]
  },
  {
   "cell_type": "code",
   "execution_count": 22,
   "metadata": {},
   "outputs": [
    {
     "data": {
      "text/html": [
       "<div>\n",
       "<style scoped>\n",
       "    .dataframe tbody tr th:only-of-type {\n",
       "        vertical-align: middle;\n",
       "    }\n",
       "\n",
       "    .dataframe tbody tr th {\n",
       "        vertical-align: top;\n",
       "    }\n",
       "\n",
       "    .dataframe thead th {\n",
       "        text-align: right;\n",
       "    }\n",
       "</style>\n",
       "<table border=\"1\" class=\"dataframe\">\n",
       "  <thead>\n",
       "    <tr style=\"text-align: right;\">\n",
       "      <th></th>\n",
       "      <th>mId</th>\n",
       "      <th>releaseYear</th>\n",
       "    </tr>\n",
       "  </thead>\n",
       "  <tbody>\n",
       "    <tr>\n",
       "      <th>0</th>\n",
       "      <td>m0</td>\n",
       "      <td>1999.0</td>\n",
       "    </tr>\n",
       "    <tr>\n",
       "      <th>1</th>\n",
       "      <td>m1</td>\n",
       "      <td>1992.0</td>\n",
       "    </tr>\n",
       "    <tr>\n",
       "      <th>2</th>\n",
       "      <td>m2</td>\n",
       "      <td>2001.0</td>\n",
       "    </tr>\n",
       "    <tr>\n",
       "      <th>3</th>\n",
       "      <td>m3</td>\n",
       "      <td>1968.0</td>\n",
       "    </tr>\n",
       "    <tr>\n",
       "      <th>4</th>\n",
       "      <td>m4</td>\n",
       "      <td>1982.0</td>\n",
       "    </tr>\n",
       "  </tbody>\n",
       "</table>\n",
       "</div>"
      ],
      "text/plain": [
       "  mId  releaseYear\n",
       "0  m0       1999.0\n",
       "1  m1       1992.0\n",
       "2  m2       2001.0\n",
       "3  m3       1968.0\n",
       "4  m4       1982.0"
      ]
     },
     "execution_count": 22,
     "metadata": {},
     "output_type": "execute_result"
    }
   ],
   "source": [
    "#selecting year column which is string format to numerical \n",
    "#Using errors='coerce'. It will replace all non-numeric values with NaN\n",
    "# movie_yr[movie_yr['releaseYear'].istnull()] give u whci row is null\n",
    "movie_yr.releaseYear = pd.to_numeric(movie_yr.releaseYear.apply(lambda y: str(y)[0:4]), errors='coerce')\n",
    "movie_yr = movie_yr.dropna()\n",
    "movie_yr.head()"
   ]
  },
  {
   "cell_type": "code",
   "execution_count": 23,
   "metadata": {},
   "outputs": [
    {
     "name": "stdout",
     "output_type": "stream",
     "text": [
      "<class 'pandas.core.frame.DataFrame'>\n",
      "Int64Index: 616 entries, 0 to 616\n",
      "Data columns (total 2 columns):\n",
      " #   Column       Non-Null Count  Dtype  \n",
      "---  ------       --------------  -----  \n",
      " 0   mId          616 non-null    object \n",
      " 1   releaseYear  616 non-null    float64\n",
      "dtypes: float64(1), object(1)\n",
      "memory usage: 14.4+ KB\n"
     ]
    }
   ],
   "source": [
    "movie_yr.info()"
   ]
  },
  {
   "cell_type": "code",
   "execution_count": 24,
   "metadata": {},
   "outputs": [
    {
     "data": {
      "text/html": [
       "<div>\n",
       "<style scoped>\n",
       "    .dataframe tbody tr th:only-of-type {\n",
       "        vertical-align: middle;\n",
       "    }\n",
       "\n",
       "    .dataframe tbody tr th {\n",
       "        vertical-align: top;\n",
       "    }\n",
       "\n",
       "    .dataframe thead th {\n",
       "        text-align: right;\n",
       "    }\n",
       "</style>\n",
       "<table border=\"1\" class=\"dataframe\">\n",
       "  <thead>\n",
       "    <tr style=\"text-align: right;\">\n",
       "      <th></th>\n",
       "      <th>lineId</th>\n",
       "      <th>chId</th>\n",
       "      <th>mId</th>\n",
       "      <th>chName</th>\n",
       "      <th>dialogue</th>\n",
       "      <th>mName</th>\n",
       "      <th>gender</th>\n",
       "      <th>posCredits</th>\n",
       "      <th>releaseYear</th>\n",
       "    </tr>\n",
       "  </thead>\n",
       "  <tbody>\n",
       "    <tr>\n",
       "      <th>0</th>\n",
       "      <td>L1045</td>\n",
       "      <td>u0</td>\n",
       "      <td>m0</td>\n",
       "      <td>BIANCA</td>\n",
       "      <td>They do not!</td>\n",
       "      <td>10 things i hate about you</td>\n",
       "      <td>1</td>\n",
       "      <td>4</td>\n",
       "      <td>1999.0</td>\n",
       "    </tr>\n",
       "    <tr>\n",
       "      <th>1</th>\n",
       "      <td>L985</td>\n",
       "      <td>u0</td>\n",
       "      <td>m0</td>\n",
       "      <td>BIANCA</td>\n",
       "      <td>I hope so.</td>\n",
       "      <td>10 things i hate about you</td>\n",
       "      <td>1</td>\n",
       "      <td>4</td>\n",
       "      <td>1999.0</td>\n",
       "    </tr>\n",
       "    <tr>\n",
       "      <th>2</th>\n",
       "      <td>L925</td>\n",
       "      <td>u0</td>\n",
       "      <td>m0</td>\n",
       "      <td>BIANCA</td>\n",
       "      <td>Let's go.</td>\n",
       "      <td>10 things i hate about you</td>\n",
       "      <td>1</td>\n",
       "      <td>4</td>\n",
       "      <td>1999.0</td>\n",
       "    </tr>\n",
       "    <tr>\n",
       "      <th>3</th>\n",
       "      <td>L872</td>\n",
       "      <td>u0</td>\n",
       "      <td>m0</td>\n",
       "      <td>BIANCA</td>\n",
       "      <td>Okay -- you're gonna need to learn how to lie.</td>\n",
       "      <td>10 things i hate about you</td>\n",
       "      <td>1</td>\n",
       "      <td>4</td>\n",
       "      <td>1999.0</td>\n",
       "    </tr>\n",
       "    <tr>\n",
       "      <th>4</th>\n",
       "      <td>L869</td>\n",
       "      <td>u0</td>\n",
       "      <td>m0</td>\n",
       "      <td>BIANCA</td>\n",
       "      <td>Like my fear of wearing pastels?</td>\n",
       "      <td>10 things i hate about you</td>\n",
       "      <td>1</td>\n",
       "      <td>4</td>\n",
       "      <td>1999.0</td>\n",
       "    </tr>\n",
       "  </tbody>\n",
       "</table>\n",
       "</div>"
      ],
      "text/plain": [
       "  lineId chId mId  chName                                        dialogue  \\\n",
       "0  L1045   u0  m0  BIANCA                                    They do not!   \n",
       "1   L985   u0  m0  BIANCA                                      I hope so.   \n",
       "2   L925   u0  m0  BIANCA                                       Let's go.   \n",
       "3   L872   u0  m0  BIANCA  Okay -- you're gonna need to learn how to lie.   \n",
       "4   L869   u0  m0  BIANCA                Like my fear of wearing pastels?   \n",
       "\n",
       "                        mName  gender posCredits  releaseYear  \n",
       "0  10 things i hate about you       1          4       1999.0  \n",
       "1  10 things i hate about you       1          4       1999.0  \n",
       "2  10 things i hate about you       1          4       1999.0  \n",
       "3  10 things i hate about you       1          4       1999.0  \n",
       "4  10 things i hate about you       1          4       1999.0  "
      ]
     },
     "execution_count": 24,
     "metadata": {},
     "output_type": "execute_result"
    }
   ],
   "source": [
    "#just add the year of movie release to our dataset.\n",
    "# based on 'mId' COLUMN as it is the common column between two datasets so we get all data rows sorted according to mid\n",
    "df = pd.merge(df, movie_yr, how='inner', on=['mId'],\n",
    "         left_index=False, right_index=False, sort=True,\n",
    "         copy=False, indicator=False)\n",
    "df.head()\n"
   ]
  },
  {
   "cell_type": "markdown",
   "metadata": {},
   "source": [
    "# Feature Engineering "
   ]
  },
  {
   "cell_type": "markdown",
   "metadata": {},
   "source": [
    "**1.** Length of lines"
   ]
  },
  {
   "cell_type": "markdown",
   "metadata": {},
   "source": [
    "**2.** Count of lines"
   ]
  },
  {
   "cell_type": "markdown",
   "metadata": {},
   "source": [
    "**3.** One hot encodings for tokens"
   ]
  },
  {
   "cell_type": "code",
   "execution_count": 25,
   "metadata": {},
   "outputs": [],
   "source": [
    "#above steps will be carried out to do feature enginnering of text based data"
   ]
  },
  {
   "cell_type": "code",
   "execution_count": 26,
   "metadata": {},
   "outputs": [
    {
     "data": {
      "text/html": [
       "<div>\n",
       "<style scoped>\n",
       "    .dataframe tbody tr th:only-of-type {\n",
       "        vertical-align: middle;\n",
       "    }\n",
       "\n",
       "    .dataframe tbody tr th {\n",
       "        vertical-align: top;\n",
       "    }\n",
       "\n",
       "    .dataframe thead th {\n",
       "        text-align: right;\n",
       "    }\n",
       "</style>\n",
       "<table border=\"1\" class=\"dataframe\">\n",
       "  <thead>\n",
       "    <tr style=\"text-align: right;\">\n",
       "      <th></th>\n",
       "      <th>lineId</th>\n",
       "      <th>chId</th>\n",
       "      <th>mId</th>\n",
       "      <th>chName</th>\n",
       "      <th>dialogue</th>\n",
       "      <th>mName</th>\n",
       "      <th>gender</th>\n",
       "      <th>posCredits</th>\n",
       "      <th>releaseYear</th>\n",
       "      <th>lineLength</th>\n",
       "      <th>wordCountLine</th>\n",
       "    </tr>\n",
       "  </thead>\n",
       "  <tbody>\n",
       "    <tr>\n",
       "      <th>0</th>\n",
       "      <td>L1045</td>\n",
       "      <td>u0</td>\n",
       "      <td>m0</td>\n",
       "      <td>BIANCA</td>\n",
       "      <td>They do not!</td>\n",
       "      <td>10 things i hate about you</td>\n",
       "      <td>1</td>\n",
       "      <td>4</td>\n",
       "      <td>1999.0</td>\n",
       "      <td>12</td>\n",
       "      <td>3</td>\n",
       "    </tr>\n",
       "    <tr>\n",
       "      <th>1</th>\n",
       "      <td>L985</td>\n",
       "      <td>u0</td>\n",
       "      <td>m0</td>\n",
       "      <td>BIANCA</td>\n",
       "      <td>I hope so.</td>\n",
       "      <td>10 things i hate about you</td>\n",
       "      <td>1</td>\n",
       "      <td>4</td>\n",
       "      <td>1999.0</td>\n",
       "      <td>10</td>\n",
       "      <td>3</td>\n",
       "    </tr>\n",
       "    <tr>\n",
       "      <th>2</th>\n",
       "      <td>L925</td>\n",
       "      <td>u0</td>\n",
       "      <td>m0</td>\n",
       "      <td>BIANCA</td>\n",
       "      <td>Let's go.</td>\n",
       "      <td>10 things i hate about you</td>\n",
       "      <td>1</td>\n",
       "      <td>4</td>\n",
       "      <td>1999.0</td>\n",
       "      <td>9</td>\n",
       "      <td>2</td>\n",
       "    </tr>\n",
       "    <tr>\n",
       "      <th>3</th>\n",
       "      <td>L872</td>\n",
       "      <td>u0</td>\n",
       "      <td>m0</td>\n",
       "      <td>BIANCA</td>\n",
       "      <td>Okay -- you're gonna need to learn how to lie.</td>\n",
       "      <td>10 things i hate about you</td>\n",
       "      <td>1</td>\n",
       "      <td>4</td>\n",
       "      <td>1999.0</td>\n",
       "      <td>46</td>\n",
       "      <td>10</td>\n",
       "    </tr>\n",
       "    <tr>\n",
       "      <th>4</th>\n",
       "      <td>L869</td>\n",
       "      <td>u0</td>\n",
       "      <td>m0</td>\n",
       "      <td>BIANCA</td>\n",
       "      <td>Like my fear of wearing pastels?</td>\n",
       "      <td>10 things i hate about you</td>\n",
       "      <td>1</td>\n",
       "      <td>4</td>\n",
       "      <td>1999.0</td>\n",
       "      <td>32</td>\n",
       "      <td>6</td>\n",
       "    </tr>\n",
       "  </tbody>\n",
       "</table>\n",
       "</div>"
      ],
      "text/plain": [
       "  lineId chId mId  chName                                        dialogue  \\\n",
       "0  L1045   u0  m0  BIANCA                                    They do not!   \n",
       "1   L985   u0  m0  BIANCA                                      I hope so.   \n",
       "2   L925   u0  m0  BIANCA                                       Let's go.   \n",
       "3   L872   u0  m0  BIANCA  Okay -- you're gonna need to learn how to lie.   \n",
       "4   L869   u0  m0  BIANCA                Like my fear of wearing pastels?   \n",
       "\n",
       "                        mName  gender posCredits  releaseYear  lineLength  \\\n",
       "0  10 things i hate about you       1          4       1999.0          12   \n",
       "1  10 things i hate about you       1          4       1999.0          10   \n",
       "2  10 things i hate about you       1          4       1999.0           9   \n",
       "3  10 things i hate about you       1          4       1999.0          46   \n",
       "4  10 things i hate about you       1          4       1999.0          32   \n",
       "\n",
       "   wordCountLine  \n",
       "0              3  \n",
       "1              3  \n",
       "2              2  \n",
       "3             10  \n",
       "4              6  "
      ]
     },
     "execution_count": 26,
     "metadata": {},
     "output_type": "execute_result"
    }
   ],
   "source": [
    "# lineLength and wordCountLine of dailogue will be added to that particular row\n",
    "# df.dialogue gets us that dailogue column. Since its a string we use      str.len() \n",
    "df['lineLength'] = df.dialogue.str.len()             ## Length of each line by characters\n",
    "df['wordCountLine'] = df.dialogue.str.count(' ') + 1 ## Length of each line by words\n",
    "df.head()"
   ]
  },
  {
   "cell_type": "markdown",
   "metadata": {},
   "source": [
    "### convert the dialogues into clean tokens"
   ]
  },
  {
   "cell_type": "markdown",
   "metadata": {},
   "source": [
    "**1.** Remove Stopwords : because they occur very often, but serve no meaning. For eg. : is,am,are,the."
   ]
  },
  {
   "cell_type": "markdown",
   "metadata": {},
   "source": [
    "**2.** Turn all word to smaller cases : I, i -> i"
   ]
  },
  {
   "cell_type": "markdown",
   "metadata": {},
   "source": [
    "**3.** Lemmatization: convert words to their root form. For eg., walk,walks -> walk or geographical,geographic -> geographic"
   ]
  },
  {
   "cell_type": "code",
   "execution_count": 27,
   "metadata": {},
   "outputs": [
    {
     "data": {
      "text/html": [
       "<div>\n",
       "<style scoped>\n",
       "    .dataframe tbody tr th:only-of-type {\n",
       "        vertical-align: middle;\n",
       "    }\n",
       "\n",
       "    .dataframe tbody tr th {\n",
       "        vertical-align: top;\n",
       "    }\n",
       "\n",
       "    .dataframe thead th {\n",
       "        text-align: right;\n",
       "    }\n",
       "</style>\n",
       "<table border=\"1\" class=\"dataframe\">\n",
       "  <thead>\n",
       "    <tr style=\"text-align: right;\">\n",
       "      <th></th>\n",
       "      <th>dialogue</th>\n",
       "      <th>cleaned_dialogue</th>\n",
       "    </tr>\n",
       "  </thead>\n",
       "  <tbody>\n",
       "    <tr>\n",
       "      <th>126836</th>\n",
       "      <td>Why George you big softie...</td>\n",
       "      <td>george big softie</td>\n",
       "    </tr>\n",
       "    <tr>\n",
       "      <th>177457</th>\n",
       "      <td>Well that hotel begins construction in January...</td>\n",
       "      <td>well hotel begin construction january going lo...</td>\n",
       "    </tr>\n",
       "    <tr>\n",
       "      <th>205362</th>\n",
       "      <td>That's Carlotta Valdes.</td>\n",
       "      <td>carlotta valdes</td>\n",
       "    </tr>\n",
       "    <tr>\n",
       "      <th>27181</th>\n",
       "      <td>Now Mr. Smith now please</td>\n",
       "      <td>mr smith please</td>\n",
       "    </tr>\n",
       "    <tr>\n",
       "      <th>53817</th>\n",
       "      <td>Oh Jesus!!</td>\n",
       "      <td>oh jesus</td>\n",
       "    </tr>\n",
       "  </tbody>\n",
       "</table>\n",
       "</div>"
      ],
      "text/plain": [
       "                                                 dialogue  \\\n",
       "126836                       Why George you big softie...   \n",
       "177457  Well that hotel begins construction in January...   \n",
       "205362                            That's Carlotta Valdes.   \n",
       "27181                           Now Mr. Smith now please   \n",
       "53817                                          Oh Jesus!!   \n",
       "\n",
       "                                         cleaned_dialogue  \n",
       "126836                                  george big softie  \n",
       "177457  well hotel begin construction january going lo...  \n",
       "205362                                    carlotta valdes  \n",
       "27181                                     mr smith please  \n",
       "53817                                            oh jesus  "
      ]
     },
     "execution_count": 27,
     "metadata": {},
     "output_type": "execute_result"
    }
   ],
   "source": [
    "wordnet_lemmatizer = WordNetLemmatizer()\n",
    "def clean_dialogue( dialogue ):\n",
    "    # Function to convert a raw review to a string of words\n",
    "    # The input is a single string (a raw movie review), and \n",
    "    # the output is a single string (a preprocessed movie review) \n",
    "    #\n",
    "    # 1. Remove HTML\n",
    "    #\n",
    "    # 2. Remove non-letters        \n",
    "    letters_only = re.sub(\"[^a-zA-Z]\", \" \", dialogue) \n",
    "    #\n",
    "    # 3. Convert to lower case, split into individual words\n",
    "    words = letters_only.lower().split()                             \n",
    "    #\n",
    "    # 4. In Python, searching a set is much faster than searching\n",
    "    #   a list, so convert the stop words to a set\n",
    "    stops = set(stopwords.words(\"english\"))   \n",
    "    \n",
    "    # 5. Use lemmatization and remove stop words\n",
    "    meaningful_words = [wordnet_lemmatizer.lemmatize(w) for w in words if not w in stops]   \n",
    "    #\n",
    "    # 6. Join the words back into one string separated by space, \n",
    "    # and return the result.\n",
    "    return( \" \".join( meaningful_words ))\n",
    "\n",
    "df['cleaned_dialogue'] = df['dialogue'].apply(clean_dialogue)\n",
    "df[['dialogue','cleaned_dialogue']].sample(5)"
   ]
  },
  {
   "cell_type": "markdown",
   "metadata": {},
   "source": [
    "## Create training dataset"
   ]
  },
  {
   "cell_type": "markdown",
   "metadata": {},
   "source": [
    "Now, we can aggregate all data for a particular movie character into 1 record using groupby() function. We will combine their dialogue tokens from the entire movie, calculate their median dialogue length by characters & words, and count their total no of lines in the movie using agg()"
   ]
  },
  {
   "cell_type": "code",
   "execution_count": 28,
   "metadata": {},
   "outputs": [
    {
     "data": {
      "text/html": [
       "<div>\n",
       "<style scoped>\n",
       "    .dataframe tbody tr th:only-of-type {\n",
       "        vertical-align: middle;\n",
       "    }\n",
       "\n",
       "    .dataframe tbody tr th {\n",
       "        vertical-align: top;\n",
       "    }\n",
       "\n",
       "    .dataframe thead th {\n",
       "        text-align: right;\n",
       "    }\n",
       "</style>\n",
       "<table border=\"1\" class=\"dataframe\">\n",
       "  <thead>\n",
       "    <tr style=\"text-align: right;\">\n",
       "      <th></th>\n",
       "      <th>lineId</th>\n",
       "      <th>chId</th>\n",
       "      <th>mId</th>\n",
       "      <th>chName</th>\n",
       "      <th>dialogue</th>\n",
       "      <th>mName</th>\n",
       "      <th>gender</th>\n",
       "      <th>posCredits</th>\n",
       "      <th>releaseYear</th>\n",
       "      <th>lineLength</th>\n",
       "      <th>wordCountLine</th>\n",
       "      <th>cleaned_dialogue</th>\n",
       "    </tr>\n",
       "  </thead>\n",
       "  <tbody>\n",
       "    <tr>\n",
       "      <th>229101</th>\n",
       "      <td>L300355</td>\n",
       "      <td>u1468</td>\n",
       "      <td>m99</td>\n",
       "      <td>WILLIE</td>\n",
       "      <td>I'm going to puke in it...</td>\n",
       "      <td>indiana jones and the temple of doom</td>\n",
       "      <td>1</td>\n",
       "      <td>2</td>\n",
       "      <td>1984.0</td>\n",
       "      <td>26</td>\n",
       "      <td>6</td>\n",
       "      <td>going puke</td>\n",
       "    </tr>\n",
       "    <tr>\n",
       "      <th>229102</th>\n",
       "      <td>L300353</td>\n",
       "      <td>u1468</td>\n",
       "      <td>m99</td>\n",
       "      <td>WILLIE</td>\n",
       "      <td>Give me your hat...</td>\n",
       "      <td>indiana jones and the temple of doom</td>\n",
       "      <td>1</td>\n",
       "      <td>2</td>\n",
       "      <td>1984.0</td>\n",
       "      <td>19</td>\n",
       "      <td>4</td>\n",
       "      <td>give hat</td>\n",
       "    </tr>\n",
       "    <tr>\n",
       "      <th>229103</th>\n",
       "      <td>L300189</td>\n",
       "      <td>u1468</td>\n",
       "      <td>m99</td>\n",
       "      <td>WILLIE</td>\n",
       "      <td>Figures...</td>\n",
       "      <td>indiana jones and the temple of doom</td>\n",
       "      <td>1</td>\n",
       "      <td>2</td>\n",
       "      <td>1984.0</td>\n",
       "      <td>10</td>\n",
       "      <td>1</td>\n",
       "      <td>figure</td>\n",
       "    </tr>\n",
       "    <tr>\n",
       "      <th>229104</th>\n",
       "      <td>L300187</td>\n",
       "      <td>u1468</td>\n",
       "      <td>m99</td>\n",
       "      <td>WILLIE</td>\n",
       "      <td>This is the first time anybody ever cried when...</td>\n",
       "      <td>indiana jones and the temple of doom</td>\n",
       "      <td>1</td>\n",
       "      <td>2</td>\n",
       "      <td>1984.0</td>\n",
       "      <td>54</td>\n",
       "      <td>11</td>\n",
       "      <td>first time anybody ever cried left</td>\n",
       "    </tr>\n",
       "    <tr>\n",
       "      <th>229105</th>\n",
       "      <td>L300115</td>\n",
       "      <td>u1468</td>\n",
       "      <td>m99</td>\n",
       "      <td>WILLIE</td>\n",
       "      <td>You got it!</td>\n",
       "      <td>indiana jones and the temple of doom</td>\n",
       "      <td>1</td>\n",
       "      <td>2</td>\n",
       "      <td>1984.0</td>\n",
       "      <td>11</td>\n",
       "      <td>3</td>\n",
       "      <td>got</td>\n",
       "    </tr>\n",
       "  </tbody>\n",
       "</table>\n",
       "</div>"
      ],
      "text/plain": [
       "         lineId   chId  mId  chName  \\\n",
       "229101  L300355  u1468  m99  WILLIE   \n",
       "229102  L300353  u1468  m99  WILLIE   \n",
       "229103  L300189  u1468  m99  WILLIE   \n",
       "229104  L300187  u1468  m99  WILLIE   \n",
       "229105  L300115  u1468  m99  WILLIE   \n",
       "\n",
       "                                                 dialogue  \\\n",
       "229101                         I'm going to puke in it...   \n",
       "229102                                Give me your hat...   \n",
       "229103                                         Figures...   \n",
       "229104  This is the first time anybody ever cried when...   \n",
       "229105                                        You got it!   \n",
       "\n",
       "                                       mName  gender posCredits  releaseYear  \\\n",
       "229101  indiana jones and the temple of doom       1          2       1984.0   \n",
       "229102  indiana jones and the temple of doom       1          2       1984.0   \n",
       "229103  indiana jones and the temple of doom       1          2       1984.0   \n",
       "229104  indiana jones and the temple of doom       1          2       1984.0   \n",
       "229105  indiana jones and the temple of doom       1          2       1984.0   \n",
       "\n",
       "        lineLength  wordCountLine                    cleaned_dialogue  \n",
       "229101          26              6                          going puke  \n",
       "229102          19              4                            give hat  \n",
       "229103          10              1                              figure  \n",
       "229104          54             11  first time anybody ever cried left  \n",
       "229105          11              3                                 got  "
      ]
     },
     "execution_count": 28,
     "metadata": {},
     "output_type": "execute_result"
    }
   ],
   "source": [
    "df.tail() #gives last 5 rows of dataset"
   ]
  },
  {
   "cell_type": "code",
   "execution_count": 29,
   "metadata": {},
   "outputs": [
    {
     "data": {
      "text/html": [
       "<div>\n",
       "<style scoped>\n",
       "    .dataframe tbody tr th:only-of-type {\n",
       "        vertical-align: middle;\n",
       "    }\n",
       "\n",
       "    .dataframe tbody tr th {\n",
       "        vertical-align: top;\n",
       "    }\n",
       "\n",
       "    .dataframe thead th {\n",
       "        text-align: right;\n",
       "    }\n",
       "</style>\n",
       "<table border=\"1\" class=\"dataframe\">\n",
       "  <thead>\n",
       "    <tr style=\"text-align: right;\">\n",
       "      <th></th>\n",
       "      <th>chId</th>\n",
       "      <th>mId</th>\n",
       "      <th>chName</th>\n",
       "      <th>gender</th>\n",
       "      <th>posCredits</th>\n",
       "      <th>releaseYear</th>\n",
       "      <th>lineLength_median</th>\n",
       "      <th>wordCountLine_median</th>\n",
       "      <th>chId_count</th>\n",
       "      <th>cleaned_dialogue_&lt;lambda&gt;</th>\n",
       "    </tr>\n",
       "  </thead>\n",
       "  <tbody>\n",
       "    <tr>\n",
       "      <th>0</th>\n",
       "      <td>u0</td>\n",
       "      <td>m0</td>\n",
       "      <td>BIANCA</td>\n",
       "      <td>1</td>\n",
       "      <td>4</td>\n",
       "      <td>1999.0</td>\n",
       "      <td>34.0</td>\n",
       "      <td>7.0</td>\n",
       "      <td>94</td>\n",
       "      <td>hope let go okay gonna need learn lie like fe...</td>\n",
       "    </tr>\n",
       "    <tr>\n",
       "      <th>1</th>\n",
       "      <td>u100</td>\n",
       "      <td>m6</td>\n",
       "      <td>AMY</td>\n",
       "      <td>1</td>\n",
       "      <td>7</td>\n",
       "      <td>1999.0</td>\n",
       "      <td>23.0</td>\n",
       "      <td>4.0</td>\n",
       "      <td>31</td>\n",
       "      <td>died sleep three day ago paper tom dead  calli...</td>\n",
       "    </tr>\n",
       "    <tr>\n",
       "      <th>2</th>\n",
       "      <td>u1003</td>\n",
       "      <td>m65</td>\n",
       "      <td>RICHARD</td>\n",
       "      <td>0</td>\n",
       "      <td>3</td>\n",
       "      <td>1996.0</td>\n",
       "      <td>24.5</td>\n",
       "      <td>5.0</td>\n",
       "      <td>70</td>\n",
       "      <td>asked would said room room serious foolin arou...</td>\n",
       "    </tr>\n",
       "    <tr>\n",
       "      <th>3</th>\n",
       "      <td>u1005</td>\n",
       "      <td>m65</td>\n",
       "      <td>SETH</td>\n",
       "      <td>0</td>\n",
       "      <td>2</td>\n",
       "      <td>1996.0</td>\n",
       "      <td>37.0</td>\n",
       "      <td>8.0</td>\n",
       "      <td>163</td>\n",
       "      <td>let follow said new jesus christ carlos brothe...</td>\n",
       "    </tr>\n",
       "    <tr>\n",
       "      <th>4</th>\n",
       "      <td>u1008</td>\n",
       "      <td>m66</td>\n",
       "      <td>C.O.</td>\n",
       "      <td>0</td>\n",
       "      <td>10+</td>\n",
       "      <td>1997.0</td>\n",
       "      <td>48.0</td>\n",
       "      <td>9.0</td>\n",
       "      <td>33</td>\n",
       "      <td>course uh v p security arrangement generally t...</td>\n",
       "    </tr>\n",
       "    <tr>\n",
       "      <th>...</th>\n",
       "      <td>...</td>\n",
       "      <td>...</td>\n",
       "      <td>...</td>\n",
       "      <td>...</td>\n",
       "      <td>...</td>\n",
       "      <td>...</td>\n",
       "      <td>...</td>\n",
       "      <td>...</td>\n",
       "      <td>...</td>\n",
       "      <td>...</td>\n",
       "    </tr>\n",
       "    <tr>\n",
       "      <th>2946</th>\n",
       "      <td>u980</td>\n",
       "      <td>m63</td>\n",
       "      <td>VICTOR</td>\n",
       "      <td>0</td>\n",
       "      <td>3</td>\n",
       "      <td>1931.0</td>\n",
       "      <td>32.0</td>\n",
       "      <td>6.0</td>\n",
       "      <td>126</td>\n",
       "      <td>never said name remembers  kill draw line take...</td>\n",
       "    </tr>\n",
       "    <tr>\n",
       "      <th>2947</th>\n",
       "      <td>u983</td>\n",
       "      <td>m64</td>\n",
       "      <td>ALICE</td>\n",
       "      <td>1</td>\n",
       "      <td>10+</td>\n",
       "      <td>2009.0</td>\n",
       "      <td>30.0</td>\n",
       "      <td>6.0</td>\n",
       "      <td>51</td>\n",
       "      <td>maybe wait mr christy killer still bill bill b...</td>\n",
       "    </tr>\n",
       "    <tr>\n",
       "      <th>2948</th>\n",
       "      <td>u985</td>\n",
       "      <td>m64</td>\n",
       "      <td>BILL</td>\n",
       "      <td>0</td>\n",
       "      <td>10+</td>\n",
       "      <td>2009.0</td>\n",
       "      <td>20.0</td>\n",
       "      <td>4.0</td>\n",
       "      <td>39</td>\n",
       "      <td>twenty mile crossroad steve back hour thing st...</td>\n",
       "    </tr>\n",
       "    <tr>\n",
       "      <th>2949</th>\n",
       "      <td>u997</td>\n",
       "      <td>m65</td>\n",
       "      <td>JACOB</td>\n",
       "      <td>0</td>\n",
       "      <td>1</td>\n",
       "      <td>1996.0</td>\n",
       "      <td>36.0</td>\n",
       "      <td>6.0</td>\n",
       "      <td>90</td>\n",
       "      <td>meant son daughter oh daughter bathroom vacati...</td>\n",
       "    </tr>\n",
       "    <tr>\n",
       "      <th>2950</th>\n",
       "      <td>u998</td>\n",
       "      <td>m65</td>\n",
       "      <td>KATE</td>\n",
       "      <td>1</td>\n",
       "      <td>4</td>\n",
       "      <td>1996.0</td>\n",
       "      <td>20.0</td>\n",
       "      <td>4.5</td>\n",
       "      <td>44</td>\n",
       "      <td>everybody go home going em swear god father ch...</td>\n",
       "    </tr>\n",
       "  </tbody>\n",
       "</table>\n",
       "<p>2951 rows × 10 columns</p>\n",
       "</div>"
      ],
      "text/plain": [
       "       chId  mId   chName  gender posCredits  releaseYear  lineLength_median  \\\n",
       "0        u0   m0   BIANCA       1          4       1999.0               34.0   \n",
       "1      u100   m6      AMY       1          7       1999.0               23.0   \n",
       "2     u1003  m65  RICHARD       0          3       1996.0               24.5   \n",
       "3     u1005  m65     SETH       0          2       1996.0               37.0   \n",
       "4     u1008  m66     C.O.       0        10+       1997.0               48.0   \n",
       "...     ...  ...      ...     ...        ...          ...                ...   \n",
       "2946   u980  m63   VICTOR       0          3       1931.0               32.0   \n",
       "2947   u983  m64    ALICE       1        10+       2009.0               30.0   \n",
       "2948   u985  m64     BILL       0        10+       2009.0               20.0   \n",
       "2949   u997  m65    JACOB       0          1       1996.0               36.0   \n",
       "2950   u998  m65     KATE       1          4       1996.0               20.0   \n",
       "\n",
       "      wordCountLine_median  chId_count  \\\n",
       "0                      7.0          94   \n",
       "1                      4.0          31   \n",
       "2                      5.0          70   \n",
       "3                      8.0         163   \n",
       "4                      9.0          33   \n",
       "...                    ...         ...   \n",
       "2946                   6.0         126   \n",
       "2947                   6.0          51   \n",
       "2948                   4.0          39   \n",
       "2949                   6.0          90   \n",
       "2950                   4.5          44   \n",
       "\n",
       "                              cleaned_dialogue_<lambda>  \n",
       "0      hope let go okay gonna need learn lie like fe...  \n",
       "1     died sleep three day ago paper tom dead  calli...  \n",
       "2     asked would said room room serious foolin arou...  \n",
       "3     let follow said new jesus christ carlos brothe...  \n",
       "4     course uh v p security arrangement generally t...  \n",
       "...                                                 ...  \n",
       "2946  never said name remembers  kill draw line take...  \n",
       "2947  maybe wait mr christy killer still bill bill b...  \n",
       "2948  twenty mile crossroad steve back hour thing st...  \n",
       "2949  meant son daughter oh daughter bathroom vacati...  \n",
       "2950  everybody go home going em swear god father ch...  \n",
       "\n",
       "[2951 rows x 10 columns]"
      ]
     },
     "execution_count": 29,
     "metadata": {},
     "output_type": "execute_result"
    }
   ],
   "source": [
    "train = df.groupby(['chId', 'mId', 'chName', 'gender', 'posCredits','releaseYear']). \\\n",
    "            agg({'lineLength' : ['median'],                      #median of linelength col\n",
    "                 'wordCountLine' : ['median'],                   #median of wordCountLine column\n",
    "                 'chId' : ['count'],                             #counting chid \n",
    "                 'cleaned_dialogue' : [lambda x : ' '.join(x)]   \n",
    "                })\n",
    "\n",
    "## Renaming columns by aggregate functions\n",
    "train.columns = [\"_\".join(x) for x in train.columns.ravel()]    #rename the column names with their respective aggregation type\n",
    "\n",
    "train.reset_index(inplace=True)       #inplace=True permanently does the changes\n",
    "train"
   ]
  },
  {
   "cell_type": "code",
   "execution_count": 30,
   "metadata": {},
   "outputs": [],
   "source": [
    "#some feature distributions by gender"
   ]
  },
  {
   "cell_type": "markdown",
   "metadata": {},
   "source": [
    "# Data Visualisation "
   ]
  },
  {
   "cell_type": "markdown",
   "metadata": {},
   "source": [
    "Using Seaborn library to view our data and explain our data and relationships better "
   ]
  },
  {
   "cell_type": "code",
   "execution_count": 31,
   "metadata": {},
   "outputs": [],
   "source": [
    "#Bivarient analysis - understanding relation of one column with another column"
   ]
  },
  {
   "cell_type": "code",
   "execution_count": 32,
   "metadata": {},
   "outputs": [],
   "source": [
    "#those black dots are called Outliers which affect our Model. Solving them can improve the accuracy of our model well.Since its text base data we will get more outliers"
   ]
  },
  {
   "cell_type": "code",
   "execution_count": 33,
   "metadata": {},
   "outputs": [
    {
     "data": {
      "text/plain": [
       "<AxesSubplot:xlabel='gender', ylabel='chId_count'>"
      ]
     },
     "execution_count": 33,
     "metadata": {},
     "output_type": "execute_result"
    },
    {
     "data": {
      "image/png": "[encoded data removed]",
      "text/plain": [
       "<Figure size 432x288 with 1 Axes>"
      ]
     },
     "metadata": {
      "needs_background": "light"
     },
     "output_type": "display_data"
    }
   ],
   "source": [
    "sns.boxplot(data = train, x = 'gender', y = 'chId_count', hue = 'gender')"
   ]
  },
  {
   "cell_type": "markdown",
   "metadata": {},
   "source": [
    "##### The chId_count here refers to the no of lines given to the character in the movie. While the median value seems to be roughly similar for both males & females, the upper bound seems to be higher for males."
   ]
  },
  {
   "cell_type": "code",
   "execution_count": null,
   "metadata": {},
   "outputs": [],
   "source": []
  },
  {
   "cell_type": "code",
   "execution_count": 34,
   "metadata": {},
   "outputs": [
    {
     "data": {
      "text/plain": [
       "<AxesSubplot:xlabel='gender', ylabel='wordCountLine_median'>"
      ]
     },
     "execution_count": 34,
     "metadata": {},
     "output_type": "execute_result"
    },
    {
     "data": {
      "image/png": "[encoded data removed]",
      "text/plain": [
       "<Figure size 432x288 with 1 Axes>"
      ]
     },
     "metadata": {
      "needs_background": "light"
     },
     "output_type": "display_data"
    }
   ],
   "source": [
    "sns.boxplot(data = train, x = 'gender', y = 'wordCountLine_median', hue = 'gender')"
   ]
  },
  {
   "cell_type": "markdown",
   "metadata": {},
   "source": [
    "##### The count of words per dialogue is higher for male characters than that for female characters!"
   ]
  },
  {
   "cell_type": "code",
   "execution_count": null,
   "metadata": {},
   "outputs": [],
   "source": []
  },
  {
   "cell_type": "code",
   "execution_count": 35,
   "metadata": {},
   "outputs": [
    {
     "data": {
      "text/plain": [
       "<AxesSubplot:xlabel='gender', ylabel='lineLength_median'>"
      ]
     },
     "execution_count": 35,
     "metadata": {},
     "output_type": "execute_result"
    },
    {
     "data": {
      "image/png": "[encoded data removed]",
      "text/plain": [
       "<Figure size 432x288 with 1 Axes>"
      ]
     },
     "metadata": {
      "needs_background": "light"
     },
     "output_type": "display_data"
    }
   ],
   "source": [
    "sns.boxplot(data = train, x = 'gender', y = 'lineLength_median', hue = 'gender')"
   ]
  },
  {
   "cell_type": "markdown",
   "metadata": {},
   "source": [
    "##### The median length of a dialogue also seems to be higher for males."
   ]
  },
  {
   "cell_type": "code",
   "execution_count": null,
   "metadata": {},
   "outputs": [],
   "source": []
  },
  {
   "cell_type": "code",
   "execution_count": 36,
   "metadata": {},
   "outputs": [
    {
     "data": {
      "text/plain": [
       "<AxesSubplot:xlabel='wordCountLine_median', ylabel='chId_count'>"
      ]
     },
     "execution_count": 36,
     "metadata": {},
     "output_type": "execute_result"
    },
    {
     "data": {
      "image/png": "[encoded data removed]",
      "text/plain": [
       "<Figure size 432x288 with 1 Axes>"
      ]
     },
     "metadata": {
      "needs_background": "light"
     },
     "output_type": "display_data"
    }
   ],
   "source": [
    "sns.scatterplot(data = train, x = 'wordCountLine_median', y = 'chId_count', hue = 'gender', alpha = 0.5)"
   ]
  },
  {
   "cell_type": "markdown",
   "metadata": {},
   "source": [
    "#### Again, in the scatter plot, we see female characters, ie yellow points, generally closer to the origin, as they have smaller dialogues & lesser dialogues per movie, while male characters denoted by blue dots are more outward from the origin."
   ]
  },
  {
   "cell_type": "code",
   "execution_count": 37,
   "metadata": {},
   "outputs": [],
   "source": [
    "#Train test split\n",
    "## Separating labels from features"
   ]
  },
  {
   "cell_type": "code",
   "execution_count": 38,
   "metadata": {},
   "outputs": [
    {
     "data": {
      "text/html": [
       "<div>\n",
       "<style scoped>\n",
       "    .dataframe tbody tr th:only-of-type {\n",
       "        vertical-align: middle;\n",
       "    }\n",
       "\n",
       "    .dataframe tbody tr th {\n",
       "        vertical-align: top;\n",
       "    }\n",
       "\n",
       "    .dataframe thead th {\n",
       "        text-align: right;\n",
       "    }\n",
       "</style>\n",
       "<table border=\"1\" class=\"dataframe\">\n",
       "  <thead>\n",
       "    <tr style=\"text-align: right;\">\n",
       "      <th></th>\n",
       "      <th>posCredits</th>\n",
       "      <th>releaseYear</th>\n",
       "      <th>lineLength_median</th>\n",
       "      <th>wordCountLine_median</th>\n",
       "      <th>chId_count</th>\n",
       "      <th>cleaned_dialogue_&lt;lambda&gt;</th>\n",
       "    </tr>\n",
       "  </thead>\n",
       "  <tbody>\n",
       "    <tr>\n",
       "      <th>0</th>\n",
       "      <td>4</td>\n",
       "      <td>1999.0</td>\n",
       "      <td>34.0</td>\n",
       "      <td>7.0</td>\n",
       "      <td>94</td>\n",
       "      <td>hope let go okay gonna need learn lie like fe...</td>\n",
       "    </tr>\n",
       "    <tr>\n",
       "      <th>1</th>\n",
       "      <td>7</td>\n",
       "      <td>1999.0</td>\n",
       "      <td>23.0</td>\n",
       "      <td>4.0</td>\n",
       "      <td>31</td>\n",
       "      <td>died sleep three day ago paper tom dead  calli...</td>\n",
       "    </tr>\n",
       "    <tr>\n",
       "      <th>2</th>\n",
       "      <td>3</td>\n",
       "      <td>1996.0</td>\n",
       "      <td>24.5</td>\n",
       "      <td>5.0</td>\n",
       "      <td>70</td>\n",
       "      <td>asked would said room room serious foolin arou...</td>\n",
       "    </tr>\n",
       "    <tr>\n",
       "      <th>3</th>\n",
       "      <td>2</td>\n",
       "      <td>1996.0</td>\n",
       "      <td>37.0</td>\n",
       "      <td>8.0</td>\n",
       "      <td>163</td>\n",
       "      <td>let follow said new jesus christ carlos brothe...</td>\n",
       "    </tr>\n",
       "    <tr>\n",
       "      <th>4</th>\n",
       "      <td>10+</td>\n",
       "      <td>1997.0</td>\n",
       "      <td>48.0</td>\n",
       "      <td>9.0</td>\n",
       "      <td>33</td>\n",
       "      <td>course uh v p security arrangement generally t...</td>\n",
       "    </tr>\n",
       "  </tbody>\n",
       "</table>\n",
       "</div>"
      ],
      "text/plain": [
       "  posCredits  releaseYear  lineLength_median  wordCountLine_median  \\\n",
       "0          4       1999.0               34.0                   7.0   \n",
       "1          7       1999.0               23.0                   4.0   \n",
       "2          3       1996.0               24.5                   5.0   \n",
       "3          2       1996.0               37.0                   8.0   \n",
       "4        10+       1997.0               48.0                   9.0   \n",
       "\n",
       "   chId_count                          cleaned_dialogue_<lambda>  \n",
       "0          94   hope let go okay gonna need learn lie like fe...  \n",
       "1          31  died sleep three day ago paper tom dead  calli...  \n",
       "2          70  asked would said room room serious foolin arou...  \n",
       "3         163  let follow said new jesus christ carlos brothe...  \n",
       "4          33  course uh v p security arrangement generally t...  "
      ]
     },
     "execution_count": 38,
     "metadata": {},
     "output_type": "execute_result"
    }
   ],
   "source": [
    "# X will be  our independent columns but will not have target variable so we drop \"gender\" column,\n",
    "# y will always be our dependent column or target variable ,here is \"gender\"\n",
    "# we also dropped unwanted columns which are not needed while training the model like chId, mId, chName\n",
    "y = train['gender']\n",
    "X = train.copy()\n",
    "X.drop('gender', axis=1, inplace=True)\n",
    "\n",
    "## Removing unnecessary columns\n",
    "X.drop('chId', axis=1, inplace=True)\n",
    "X.drop('mId', axis=1, inplace=True)\n",
    "X.drop('chName', axis=1, inplace=True)\n",
    "X.head()"
   ]
  },
  {
   "cell_type": "code",
   "execution_count": 39,
   "metadata": {},
   "outputs": [
    {
     "data": {
      "text/plain": [
       "0    1\n",
       "1    1\n",
       "2    0\n",
       "3    0\n",
       "4    0\n",
       "Name: gender, dtype: int64"
      ]
     },
     "execution_count": 39,
     "metadata": {},
     "output_type": "execute_result"
    }
   ],
   "source": [
    "y.head()"
   ]
  },
  {
   "cell_type": "code",
   "execution_count": 40,
   "metadata": {},
   "outputs": [],
   "source": [
    "#We will pick equal no of records for both male & female characters to avoid any kind of bias due to no of records\n",
    "# using RandomUnderSampler"
   ]
  },
  {
   "cell_type": "code",
   "execution_count": 41,
   "metadata": {},
   "outputs": [
    {
     "data": {
      "text/plain": [
       "0    948\n",
       "1    948\n",
       "Name: gender, dtype: int64"
      ]
     },
     "execution_count": 41,
     "metadata": {},
     "output_type": "execute_result"
    }
   ],
   "source": [
    "undersample = RandomUnderSampler(sampling_strategy='majority')\n",
    "X_under, y_under = undersample.fit_resample(X, y)\n",
    "y_under.value_counts()       #equal counts of male n female"
   ]
  },
  {
   "cell_type": "code",
   "execution_count": 42,
   "metadata": {},
   "outputs": [],
   "source": [
    "#We’ll also try to keep equal no of male & female records in the train & validation datasets"
   ]
  },
  {
   "cell_type": "code",
   "execution_count": 43,
   "metadata": {},
   "outputs": [
    {
     "data": {
      "text/plain": [
       "0    190\n",
       "1    190\n",
       "Name: gender, dtype: int64"
      ]
     },
     "execution_count": 43,
     "metadata": {},
     "output_type": "execute_result"
    }
   ],
   "source": [
    "# if variable y is a binary categorical variable with values 0 and 1 and there are 25% of zeros and 75% of ones, \n",
    "# stratify=y will make sure that your random split has 25% of 0's and 75% of 1's.\n",
    "X_train, X_val, y_train, y_val = train_test_split(X_under, y_under, test_size=0.2, random_state = 10, stratify=y_under)\n",
    "\n",
    "y_val.value_counts()"
   ]
  },
  {
   "cell_type": "code",
   "execution_count": 44,
   "metadata": {},
   "outputs": [
    {
     "data": {
      "text/plain": [
       "0    758\n",
       "1    758\n",
       "Name: gender, dtype: int64"
      ]
     },
     "execution_count": 44,
     "metadata": {},
     "output_type": "execute_result"
    }
   ],
   "source": [
    "y_train.value_counts()"
   ]
  },
  {
   "cell_type": "code",
   "execution_count": 45,
   "metadata": {},
   "outputs": [
    {
     "data": {
      "text/html": [
       "<div>\n",
       "<style scoped>\n",
       "    .dataframe tbody tr th:only-of-type {\n",
       "        vertical-align: middle;\n",
       "    }\n",
       "\n",
       "    .dataframe tbody tr th {\n",
       "        vertical-align: top;\n",
       "    }\n",
       "\n",
       "    .dataframe thead th {\n",
       "        text-align: right;\n",
       "    }\n",
       "</style>\n",
       "<table border=\"1\" class=\"dataframe\">\n",
       "  <thead>\n",
       "    <tr style=\"text-align: right;\">\n",
       "      <th></th>\n",
       "      <th>posCredits</th>\n",
       "      <th>releaseYear</th>\n",
       "      <th>lineLength_median</th>\n",
       "      <th>wordCountLine_median</th>\n",
       "      <th>chId_count</th>\n",
       "      <th>cleaned_dialogue_&lt;lambda&gt;</th>\n",
       "    </tr>\n",
       "  </thead>\n",
       "  <tbody>\n",
       "    <tr>\n",
       "      <th>1236</th>\n",
       "      <td>2</td>\n",
       "      <td>2001.0</td>\n",
       "      <td>33.0</td>\n",
       "      <td>6.0</td>\n",
       "      <td>60</td>\n",
       "      <td>latitude degree  maybe satellite said three ye...</td>\n",
       "    </tr>\n",
       "    <tr>\n",
       "      <th>924</th>\n",
       "      <td>10+</td>\n",
       "      <td>1974.0</td>\n",
       "      <td>35.0</td>\n",
       "      <td>7.0</td>\n",
       "      <td>15</td>\n",
       "      <td>lucky c note new deal maybe yes maybe michael ...</td>\n",
       "    </tr>\n",
       "    <tr>\n",
       "      <th>868</th>\n",
       "      <td>2</td>\n",
       "      <td>2000.0</td>\n",
       "      <td>31.5</td>\n",
       "      <td>6.5</td>\n",
       "      <td>108</td>\n",
       "      <td>go free  anything need come visit sure wanna s...</td>\n",
       "    </tr>\n",
       "    <tr>\n",
       "      <th>363</th>\n",
       "      <td>1</td>\n",
       "      <td>1949.0</td>\n",
       "      <td>22.0</td>\n",
       "      <td>4.0</td>\n",
       "      <td>204</td>\n",
       "      <td>anyway quarrel getting oh well headache course...</td>\n",
       "    </tr>\n",
       "    <tr>\n",
       "      <th>989</th>\n",
       "      <td>10+</td>\n",
       "      <td>2000.0</td>\n",
       "      <td>42.0</td>\n",
       "      <td>8.0</td>\n",
       "      <td>15</td>\n",
       "      <td>okay took trouble come got principle selling o...</td>\n",
       "    </tr>\n",
       "  </tbody>\n",
       "</table>\n",
       "</div>"
      ],
      "text/plain": [
       "     posCredits  releaseYear  lineLength_median  wordCountLine_median  \\\n",
       "1236          2       2001.0               33.0                   6.0   \n",
       "924         10+       1974.0               35.0                   7.0   \n",
       "868           2       2000.0               31.5                   6.5   \n",
       "363           1       1949.0               22.0                   4.0   \n",
       "989         10+       2000.0               42.0                   8.0   \n",
       "\n",
       "      chId_count                          cleaned_dialogue_<lambda>  \n",
       "1236          60  latitude degree  maybe satellite said three ye...  \n",
       "924           15  lucky c note new deal maybe yes maybe michael ...  \n",
       "868          108  go free  anything need come visit sure wanna s...  \n",
       "363          204  anyway quarrel getting oh well headache course...  \n",
       "989           15  okay took trouble come got principle selling o...  "
      ]
     },
     "execution_count": 45,
     "metadata": {},
     "output_type": "execute_result"
    }
   ],
   "source": [
    "X_val.head()"
   ]
  },
  {
   "cell_type": "markdown",
   "metadata": {},
   "source": [
    "# Pipeline for classifiers"
   ]
  },
  {
   "cell_type": "markdown",
   "metadata": {},
   "source": [
    "Data pipelines allow you transform data from one representation to another through a series of steps. It is used to chain multiple estimators into one and hence, automate the machine learning process. the purpose of a pipeline is to allow you to increase the iteration cycle with the added confidence that codifying the process gives and to scale how many models you can realistically maintain in production."
   ]
  },
  {
   "cell_type": "markdown",
   "metadata": {},
   "source": [
    "#### Since our dataset includes both numerical features & NLP tokens, we’ll use a special converter class in our pipeline."
   ]
  },
  {
   "cell_type": "code",
   "execution_count": 46,
   "metadata": {},
   "outputs": [],
   "source": [
    "#fit and transform method used in Parent class and will be used by child class\n",
    "class Converter(BaseEstimator, TransformerMixin):\n",
    "\n",
    "    def fit(self, x, y=None):\n",
    "        return self\n",
    "\n",
    "    def transform(self, data_frame):\n",
    "        return data_frame.values.ravel()"
   ]
  },
  {
   "cell_type": "code",
   "execution_count": 47,
   "metadata": {},
   "outputs": [],
   "source": [
    "#Pipeline for numeric features\n",
    "# MinMaxScaler class of sklearn. preprocessing is used for normalization of features.\n",
    "# to change the values of numeric columns in the dataset to a common scale, \n",
    "# without distorting differences in the ranges of values \n",
    "numeric_features = ['lineLength_median', 'wordCountLine_median', 'chId_count', 'releaseYear']\n",
    "\n",
    "numeric_transformer = Pipeline(steps=[('scaler', MinMaxScaler())])"
   ]
  },
  {
   "cell_type": "code",
   "execution_count": 48,
   "metadata": {},
   "outputs": [],
   "source": [
    "#Pipeline for tokens dereived from dialogues\n",
    "# One-hot encoding is essentially the representation of categorical variables as binary vectors. ... \n",
    "# These categorical values are first mapped to integer values. Each integer value is then \n",
    "# represented as a binary vector that is all 0s and 1s.\n",
    "categorical_features = ['posCredits']\n",
    "categorical_transformer = Pipeline(steps=[\n",
    "    ('onehot', OneHotEncoder(handle_unknown='ignore'))])"
   ]
  },
  {
   "cell_type": "code",
   "execution_count": 49,
   "metadata": {},
   "outputs": [],
   "source": [
    "# TfidfVectorizer() used for dealing with vectors text of  \" cleaned_dialogue_<lambda> \"column , \n",
    "#'tf' is the alias name and 'con' for Converter is our Parent class\n",
    "# Term Frequency-Inverse Document Frequency is used to evaluate how important a word is to a document in a collection\n",
    "# This method is powerful when dealing with an important number of stopwords  I, me, my, myself, we, our, ours, ourselves, you\n",
    "vectorizer_features = ['cleaned_dialogue_<lambda>']\n",
    "vectorizer_transformer = Pipeline(steps=[\n",
    "    ('con', Converter()),\n",
    "    ('tf', TfidfVectorizer())])"
   ]
  },
  {
   "cell_type": "markdown",
   "metadata": {},
   "source": [
    "## We can combine preprocessing pipelines with the classifers. We will try 4  models:"
   ]
  },
  {
   "cell_type": "markdown",
   "metadata": {},
   "source": [
    "**1.** Linear Support Vector Classifier"
   ]
  },
  {
   "cell_type": "markdown",
   "metadata": {},
   "source": [
    "**2.** Logistic Regression Classifier"
   ]
  },
  {
   "cell_type": "markdown",
   "metadata": {},
   "source": [
    "**3.** Random Forest Clasifier"
   ]
  },
  {
   "cell_type": "markdown",
   "metadata": {},
   "source": [
    "**4.** XGBoost"
   ]
  },
  {
   "cell_type": "code",
   "execution_count": 50,
   "metadata": {},
   "outputs": [],
   "source": [
    "import xgboost"
   ]
  },
  {
   "cell_type": "code",
   "execution_count": 51,
   "metadata": {},
   "outputs": [],
   "source": [
    "preprocessor = ColumnTransformer(\n",
    "    transformers=[\n",
    "        ('num', numeric_transformer, numeric_features),                   #numeric features\n",
    "        ('cat', categorical_transformer, categorical_features),           #categorical_features\n",
    "        ('vec', vectorizer_transformer, vectorizer_features)              #cleaned_dialogue_<lambda> col\n",
    "    ])\n",
    "\n",
    "svc_clf = Pipeline(steps=[('preprocessor', preprocessor),\n",
    "                      ('classifier', CalibratedClassifierCV(LinearSVC()))])  ## LinearSVC has no predict_proba method\n",
    "\n",
    "log_clf = Pipeline(steps=[('preprocessor', preprocessor),\n",
    "                      ('classifier', LogisticRegression())])\n",
    "\n",
    "\n",
    "rf_clf = Pipeline(steps=[('preprocessor', preprocessor),\n",
    "                      ('classifier', RandomForestClassifier(n_estimators=100, criterion='gini', random_state = 100,max_depth=6, min_samples_leaf=8))])\n",
    "\n",
    "xgb = Pipeline(steps=[('preprocessor', preprocessor),\n",
    "                      ('classifier', xgboost.XGBClassifier(base_score=0.5, booster='gbtree', colsample_bylevel=1,\n",
    "              colsample_bynode=1, colsample_bytree=0.5, eval_metric='auc',\n",
    "              gamma=0, gpu_id=-1, importance_type='gain',\n",
    "              interaction_constraints='', learning_rate=0.1, max_delta_step=0,\n",
    "              max_depth=5, min_child_weight=1, missing=None,\n",
    "              monotone_constraints='()', n_estimators=5000, n_jobs=4,\n",
    "              num_parallel_tree=1, random_state=0, reg_alpha=0, reg_lambda=1,\n",
    "              scale_pos_weight=1, subsample=0.5, tree_method='exact',\n",
    "              validate_parameters=1, verbosity=1))])\n"
   ]
  },
  {
   "cell_type": "code",
   "execution_count": null,
   "metadata": {},
   "outputs": [],
   "source": []
  },
  {
   "cell_type": "code",
   "execution_count": 52,
   "metadata": {},
   "outputs": [
    {
     "data": {
      "text/plain": [
       "Pipeline(steps=[('preprocessor',\n",
       "                 ColumnTransformer(transformers=[('num',\n",
       "                                                  Pipeline(steps=[('scaler',\n",
       "                                                                   MinMaxScaler())]),\n",
       "                                                  ['lineLength_median',\n",
       "                                                   'wordCountLine_median',\n",
       "                                                   'chId_count',\n",
       "                                                   'releaseYear']),\n",
       "                                                 ('cat',\n",
       "                                                  Pipeline(steps=[('onehot',\n",
       "                                                                   OneHotEncoder(handle_unknown='ignore'))]),\n",
       "                                                  ['posCredits']),\n",
       "                                                 ('vec',\n",
       "                                                  Pipeline(steps=[('con',\n",
       "                                                                   Converter()),\n",
       "                                                                  ('tf',\n",
       "                                                                   TfidfVectorizer())]),\n",
       "                                                  [...\n",
       "                               colsample_bytree=0.5, eval_metric='auc', gamma=0,\n",
       "                               gpu_id=-1, importance_type='gain',\n",
       "                               interaction_constraints='', learning_rate=0.1,\n",
       "                               max_delta_step=0, max_depth=5,\n",
       "                               min_child_weight=1, missing=None,\n",
       "                               monotone_constraints='()', n_estimators=5000,\n",
       "                               n_jobs=4, num_parallel_tree=1, random_state=0,\n",
       "                               reg_alpha=0, reg_lambda=1, scale_pos_weight=1,\n",
       "                               subsample=0.5, tree_method='exact',\n",
       "                               validate_parameters=1, verbosity=1))])"
      ]
     },
     "execution_count": 52,
     "metadata": {},
     "output_type": "execute_result"
    }
   ],
   "source": [
    "#Fitting the preprocessing & classifier pipelines on training data ,we are training the model using X_train and y_train and fit()\n",
    "svc_clf.fit(X_train, y_train)\n",
    "log_clf.fit(X_train, y_train)\n",
    "rf_clf.fit(X_train, y_train)\n",
    "xgb.fit(X_train,y_train)"
   ]
  },
  {
   "cell_type": "code",
   "execution_count": 53,
   "metadata": {},
   "outputs": [],
   "source": [
    "#Check results on the validation set\n",
    "def results(name: str, model: BaseEstimator) -> None:\n",
    "    '''\n",
    "    Custom function to check model performance on validation set\n",
    "    '''\n",
    "    preds = model.predict(X_val)   # predicting model with pred() and X_val\n",
    "\n",
    "    print(name + \" score: %.3f\" % model.score(X_val, y_val))\n",
    "    print(classification_report(y_val, preds))\n",
    "    labels = ['Male', 'Female']\n",
    "\n",
    "    conf_matrix = confusion_matrix(y_val, preds)\n",
    "    plt.figure(figsize= (10,6))\n",
    "    sns.heatmap(conf_matrix, xticklabels=labels, yticklabels=labels, annot=True, fmt=\"d\", cmap='Blues')\n",
    "    plt.title(\"Confusion Matrix for \" + name)\n",
    "    plt.ylabel('True Class')\n",
    "    plt.xlabel('Predicted Class')"
   ]
  },
  {
   "cell_type": "code",
   "execution_count": 54,
   "metadata": {},
   "outputs": [
    {
     "name": "stdout",
     "output_type": "stream",
     "text": [
      "SVC score: 0.742\n",
      "              precision    recall  f1-score   support\n",
      "\n",
      "           0       0.74      0.75      0.74       190\n",
      "           1       0.74      0.74      0.74       190\n",
      "\n",
      "    accuracy                           0.74       380\n",
      "   macro avg       0.74      0.74      0.74       380\n",
      "weighted avg       0.74      0.74      0.74       380\n",
      "\n",
      "Logistic Regression score: 0.745\n",
      "              precision    recall  f1-score   support\n",
      "\n",
      "           0       0.75      0.73      0.74       190\n",
      "           1       0.74      0.76      0.75       190\n",
      "\n",
      "    accuracy                           0.74       380\n",
      "   macro avg       0.74      0.74      0.74       380\n",
      "weighted avg       0.74      0.74      0.74       380\n",
      "\n",
      "Random Forest score: 0.682\n",
      "              precision    recall  f1-score   support\n",
      "\n",
      "           0       0.70      0.64      0.67       190\n",
      "           1       0.67      0.72      0.69       190\n",
      "\n",
      "    accuracy                           0.68       380\n",
      "   macro avg       0.68      0.68      0.68       380\n",
      "weighted avg       0.68      0.68      0.68       380\n",
      "\n",
      "XGB score: 0.724\n",
      "              precision    recall  f1-score   support\n",
      "\n",
      "           0       0.73      0.71      0.72       190\n",
      "           1       0.72      0.74      0.73       190\n",
      "\n",
      "    accuracy                           0.72       380\n",
      "   macro avg       0.72      0.72      0.72       380\n",
      "weighted avg       0.72      0.72      0.72       380\n",
      "\n"
     ]
    },
    {
     "data": {
      "image/png": "[encoded data removed]",
      "text/plain": [
       "<Figure size 720x432 with 2 Axes>"
      ]
     },
     "metadata": {
      "needs_background": "light"
     },
     "output_type": "display_data"
    },
    {
     "data": {
      "image/png": "[encoded data removed]",
      "text/plain": [
       "<Figure size 720x432 with 2 Axes>"
      ]
     },
     "metadata": {
      "needs_background": "light"
     },
     "output_type": "display_data"
    },
    {
     "data": {
      "image/png": "[encoded data removed]",
      "text/plain": [
       "<Figure size 720x432 with 2 Axes>"
      ]
     },
     "metadata": {
      "needs_background": "light"
     },
     "output_type": "display_data"
    },
    {
     "data": {
      "image/png": "[encoded data removed]",
      "text/plain": [
       "<Figure size 720x432 with 2 Axes>"
      ]
     },
     "metadata": {
      "needs_background": "light"
     },
     "output_type": "display_data"
    }
   ],
   "source": [
    "results(\"SVC\" , svc_clf)\n",
    "results(\"Logistic Regression\" , log_clf)\n",
    "results(\"Random Forest\" , rf_clf)\n",
    "results(\"XGB\" , xgb)"
   ]
  },
  {
   "cell_type": "markdown",
   "metadata": {},
   "source": [
    "We see that Linear SVC performs the best classification with an accuracy & F1 score of ~79% !!\n",
    "\n",
    "From the confusion matrix, we can see that out of the 190 male characters in the validation dataset, SVC model classified 155 of them correctly as males, and the remaining 35 incorrectly as females. Similarly, out of 190 female characters in the validation dataset, 144 were classified correctly & 46 classified incorrectly.\n",
    "\n",
    "Logistic Regression & Naive Bayes classifiers are close at 77% & 76% accuracies respectively. These results are not close to state of the art, but are still pretty good.\n",
    "\n",
    "Let’s now explore what features contribute the most to our classifiers performance through some model explainability techniques."
   ]
  },
  {
   "cell_type": "markdown",
   "metadata": {},
   "source": [
    "# Feature importance"
   ]
  },
  {
   "cell_type": "markdown",
   "metadata": {},
   "source": [
    "#### Creating a list of all features including numeric, categorical & vectorised features."
   ]
  },
  {
   "cell_type": "code",
   "execution_count": 55,
   "metadata": {},
   "outputs": [],
   "source": [
    "vect_columns = list(svc_clf.named_steps['preprocessor'].named_transformers_['vec'].named_steps['tf'].get_feature_names())\n",
    "onehot_columns = list(svc_clf.named_steps['preprocessor'].named_transformers_['cat'].named_steps['onehot'].get_feature_names(input_features=categorical_features))\n",
    "numeric_features_list = list(numeric_features)\n",
    "numeric_features_list.extend(onehot_columns)\n",
    "numeric_features_list.extend(vect_columns)"
   ]
  },
  {
   "cell_type": "code",
   "execution_count": null,
   "metadata": {},
   "outputs": [],
   "source": []
  },
  {
   "cell_type": "code",
   "execution_count": 56,
   "metadata": {},
   "outputs": [
    {
     "data": {
      "text/html": [
       "<div>\n",
       "<style scoped>\n",
       "    .dataframe tbody tr th:only-of-type {\n",
       "        vertical-align: middle;\n",
       "    }\n",
       "\n",
       "    .dataframe tbody tr th {\n",
       "        vertical-align: top;\n",
       "    }\n",
       "\n",
       "    .dataframe thead th {\n",
       "        text-align: right;\n",
       "    }\n",
       "</style>\n",
       "<table border=\"1\" class=\"dataframe\">\n",
       "  <thead>\n",
       "    <tr style=\"text-align: right;\">\n",
       "      <th></th>\n",
       "      <th>target</th>\n",
       "      <th>feature</th>\n",
       "      <th>weight</th>\n",
       "    </tr>\n",
       "  </thead>\n",
       "  <tbody>\n",
       "    <tr>\n",
       "      <th>0</th>\n",
       "      <td>1</td>\n",
       "      <td>oh</td>\n",
       "      <td>2.589627</td>\n",
       "    </tr>\n",
       "    <tr>\n",
       "      <th>1</th>\n",
       "      <td>1</td>\n",
       "      <td>really</td>\n",
       "      <td>1.368830</td>\n",
       "    </tr>\n",
       "    <tr>\n",
       "      <th>2</th>\n",
       "      <td>1</td>\n",
       "      <td>like</td>\n",
       "      <td>1.368708</td>\n",
       "    </tr>\n",
       "    <tr>\n",
       "      <th>3</th>\n",
       "      <td>1</td>\n",
       "      <td>want</td>\n",
       "      <td>1.306609</td>\n",
       "    </tr>\n",
       "    <tr>\n",
       "      <th>4</th>\n",
       "      <td>1</td>\n",
       "      <td>hi</td>\n",
       "      <td>1.106837</td>\n",
       "    </tr>\n",
       "    <tr>\n",
       "      <th>5</th>\n",
       "      <td>1</td>\n",
       "      <td>please</td>\n",
       "      <td>1.050864</td>\n",
       "    </tr>\n",
       "    <tr>\n",
       "      <th>6</th>\n",
       "      <td>1</td>\n",
       "      <td>darling</td>\n",
       "      <td>1.045922</td>\n",
       "    </tr>\n",
       "    <tr>\n",
       "      <th>7</th>\n",
       "      <td>1</td>\n",
       "      <td>love</td>\n",
       "      <td>1.023836</td>\n",
       "    </tr>\n",
       "    <tr>\n",
       "      <th>8</th>\n",
       "      <td>1</td>\n",
       "      <td>said</td>\n",
       "      <td>1.018255</td>\n",
       "    </tr>\n",
       "    <tr>\n",
       "      <th>9</th>\n",
       "      <td>1</td>\n",
       "      <td>baby</td>\n",
       "      <td>0.998029</td>\n",
       "    </tr>\n",
       "    <tr>\n",
       "      <th>10</th>\n",
       "      <td>1</td>\n",
       "      <td>never</td>\n",
       "      <td>0.981915</td>\n",
       "    </tr>\n",
       "    <tr>\n",
       "      <th>11</th>\n",
       "      <td>1</td>\n",
       "      <td>david</td>\n",
       "      <td>0.936579</td>\n",
       "    </tr>\n",
       "    <tr>\n",
       "      <th>12</th>\n",
       "      <td>1</td>\n",
       "      <td>god</td>\n",
       "      <td>0.932146</td>\n",
       "    </tr>\n",
       "    <tr>\n",
       "      <th>13</th>\n",
       "      <td>1</td>\n",
       "      <td>peter</td>\n",
       "      <td>0.919472</td>\n",
       "    </tr>\n",
       "    <tr>\n",
       "      <th>14</th>\n",
       "      <td>1</td>\n",
       "      <td>child</td>\n",
       "      <td>0.914251</td>\n",
       "    </tr>\n",
       "  </tbody>\n",
       "</table>\n",
       "</div>"
      ],
      "text/plain": [
       "    target  feature    weight\n",
       "0        1       oh  2.589627\n",
       "1        1   really  1.368830\n",
       "2        1     like  1.368708\n",
       "3        1     want  1.306609\n",
       "4        1       hi  1.106837\n",
       "5        1   please  1.050864\n",
       "6        1  darling  1.045922\n",
       "7        1     love  1.023836\n",
       "8        1     said  1.018255\n",
       "9        1     baby  0.998029\n",
       "10       1    never  0.981915\n",
       "11       1    david  0.936579\n",
       "12       1      god  0.932146\n",
       "13       1    peter  0.919472\n",
       "14       1    child  0.914251"
      ]
     },
     "execution_count": 56,
     "metadata": {},
     "output_type": "execute_result"
    }
   ],
   "source": [
    "# Feature importance for Logistic Regression\n",
    "lr_weights = eli5.explain_weights_df(log_clf.named_steps['classifier'], top=30, feature_names=numeric_features_list)\n",
    "lr_weights.head(15)"
   ]
  },
  {
   "cell_type": "code",
   "execution_count": 57,
   "metadata": {},
   "outputs": [
    {
     "data": {
      "text/html": [
       "<div>\n",
       "<style scoped>\n",
       "    .dataframe tbody tr th:only-of-type {\n",
       "        vertical-align: middle;\n",
       "    }\n",
       "\n",
       "    .dataframe tbody tr th {\n",
       "        vertical-align: top;\n",
       "    }\n",
       "\n",
       "    .dataframe thead th {\n",
       "        text-align: right;\n",
       "    }\n",
       "</style>\n",
       "<table border=\"1\" class=\"dataframe\">\n",
       "  <thead>\n",
       "    <tr style=\"text-align: right;\">\n",
       "      <th></th>\n",
       "      <th>target</th>\n",
       "      <th>feature</th>\n",
       "      <th>weight</th>\n",
       "    </tr>\n",
       "  </thead>\n",
       "  <tbody>\n",
       "    <tr>\n",
       "      <th>16</th>\n",
       "      <td>1</td>\n",
       "      <td>money</td>\n",
       "      <td>-0.875810</td>\n",
       "    </tr>\n",
       "    <tr>\n",
       "      <th>17</th>\n",
       "      <td>1</td>\n",
       "      <td>chId_count</td>\n",
       "      <td>-0.882841</td>\n",
       "    </tr>\n",
       "    <tr>\n",
       "      <th>18</th>\n",
       "      <td>1</td>\n",
       "      <td>lineLength_median</td>\n",
       "      <td>-0.942719</td>\n",
       "    </tr>\n",
       "    <tr>\n",
       "      <th>19</th>\n",
       "      <td>1</td>\n",
       "      <td>good</td>\n",
       "      <td>-0.951328</td>\n",
       "    </tr>\n",
       "    <tr>\n",
       "      <th>20</th>\n",
       "      <td>1</td>\n",
       "      <td>guy</td>\n",
       "      <td>-1.013563</td>\n",
       "    </tr>\n",
       "    <tr>\n",
       "      <th>21</th>\n",
       "      <td>1</td>\n",
       "      <td>look</td>\n",
       "      <td>-1.073765</td>\n",
       "    </tr>\n",
       "    <tr>\n",
       "      <th>22</th>\n",
       "      <td>1</td>\n",
       "      <td>ya</td>\n",
       "      <td>-1.143304</td>\n",
       "    </tr>\n",
       "    <tr>\n",
       "      <th>23</th>\n",
       "      <td>1</td>\n",
       "      <td>gotta</td>\n",
       "      <td>-1.175563</td>\n",
       "    </tr>\n",
       "    <tr>\n",
       "      <th>24</th>\n",
       "      <td>1</td>\n",
       "      <td>hell</td>\n",
       "      <td>-1.225489</td>\n",
       "    </tr>\n",
       "    <tr>\n",
       "      <th>25</th>\n",
       "      <td>1</td>\n",
       "      <td>fuckin</td>\n",
       "      <td>-1.233903</td>\n",
       "    </tr>\n",
       "    <tr>\n",
       "      <th>26</th>\n",
       "      <td>1</td>\n",
       "      <td>shit</td>\n",
       "      <td>-1.317534</td>\n",
       "    </tr>\n",
       "    <tr>\n",
       "      <th>27</th>\n",
       "      <td>1</td>\n",
       "      <td>got</td>\n",
       "      <td>-1.401381</td>\n",
       "    </tr>\n",
       "    <tr>\n",
       "      <th>28</th>\n",
       "      <td>1</td>\n",
       "      <td>hey</td>\n",
       "      <td>-1.433737</td>\n",
       "    </tr>\n",
       "    <tr>\n",
       "      <th>29</th>\n",
       "      <td>1</td>\n",
       "      <td>man</td>\n",
       "      <td>-2.348980</td>\n",
       "    </tr>\n",
       "  </tbody>\n",
       "</table>\n",
       "</div>"
      ],
      "text/plain": [
       "    target            feature    weight\n",
       "16       1              money -0.875810\n",
       "17       1         chId_count -0.882841\n",
       "18       1  lineLength_median -0.942719\n",
       "19       1               good -0.951328\n",
       "20       1                guy -1.013563\n",
       "21       1               look -1.073765\n",
       "22       1                 ya -1.143304\n",
       "23       1              gotta -1.175563\n",
       "24       1               hell -1.225489\n",
       "25       1             fuckin -1.233903\n",
       "26       1               shit -1.317534\n",
       "27       1                got -1.401381\n",
       "28       1                hey -1.433737\n",
       "29       1                man -2.348980"
      ]
     },
     "execution_count": 57,
     "metadata": {},
     "output_type": "execute_result"
    }
   ],
   "source": [
    "lr_weights.tail(14)"
   ]
  },
  {
   "cell_type": "markdown",
   "metadata": {},
   "source": [
    "We see that dialogue keywords like oh, love, like, darling, want, honey are strong indicators that the character is a female, while keywords like son, sir, man, hell, gotta, yeah & most cuss words are usually found in the dialogues of male characters of the given Hollywood movies!\n",
    "\n",
    "Let’s also try to visualize a single decision tree\n",
    "We can training a single decision tree using the Random Forest Classifier."
   ]
  },
  {
   "cell_type": "code",
   "execution_count": 58,
   "metadata": {},
   "outputs": [
    {
     "name": "stdout",
     "output_type": "stream",
     "text": [
      "Decision Tree Classifier score: 0.553\n",
      "              precision    recall  f1-score   support\n",
      "\n",
      "           0       0.53      0.85      0.66       190\n",
      "           1       0.63      0.25      0.36       190\n",
      "\n",
      "    accuracy                           0.55       380\n",
      "   macro avg       0.58      0.55      0.51       380\n",
      "weighted avg       0.58      0.55      0.51       380\n",
      "\n"
     ]
    },
    {
     "data": {
      "image/png": "[encoded data removed]",
      "text/plain": [
       "<Figure size 720x432 with 2 Axes>"
      ]
     },
     "metadata": {
      "needs_background": "light"
     },
     "output_type": "display_data"
    }
   ],
   "source": [
    "m = RandomForestClassifier(n_estimators=1, min_samples_leaf=5, max_depth = 3, \n",
    "                           oob_score=True, random_state = np.random.seed(123))\n",
    "dt_clf = Pipeline(steps=[('preprocessor', preprocessor),\n",
    "                         ('classifier', m)])\n",
    "\n",
    "dt_clf.fit(X_train, y_train)\n",
    "results(\"Decision Tree Classifier\", dt_clf)"
   ]
  },
  {
   "cell_type": "markdown",
   "metadata": {},
   "source": [
    "While a single decision is a poor classifier with accuracy barely more than 50%, we see that bagging enough of such weak classifiers to form a Random Forest model helps us improve the model performance drastically! Let’s look at how the splits are made for a single decision tree."
   ]
  },
  {
   "cell_type": "code",
   "execution_count": 59,
   "metadata": {},
   "outputs": [],
   "source": [
    "#!conda install python-graphviz"
   ]
  },
  {
   "cell_type": "code",
   "execution_count": 60,
   "metadata": {},
   "outputs": [
    {
     "data": {
      "image/svg+xml": [
       "<?xml version=\"1.0\" encoding=\"UTF-8\" standalone=\"no\"?>\r\n",
       "<!DOCTYPE svg PUBLIC \"-//W3C//DTD SVG 1.1//EN\"\r\n",
       " \"http://www.w3.org/Graphics/SVG/1.1/DTD/svg11.dtd\">\r\n",
       "<!-- Generated by graphviz version 2.38.0 (20140413.2041)\r\n",
       " -->\r\n",
       "<!-- Title: Tree Pages: 1 -->\r\n",
       "<svg width=\"701pt\" height=\"424pt\"\r\n",
       " viewBox=\"0.00 0.00 701.33 424.00\" xmlns=\"http://www.w3.org/2000/svg\" xmlns:xlink=\"http://www.w3.org/1999/xlink\">\r\n",
       "<g id=\"graph0\" class=\"graph\" transform=\"scale(1 1) rotate(0) translate(4 420)\">\r\n",
       "<title>Tree</title>\r\n",
       "<polygon fill=\"white\" stroke=\"none\" points=\"-4,4 -4,-420 697.333,-420 697.333,4 -4,4\"/>\r\n",
       "<!-- 0 -->\r\n",
       "<g id=\"node1\" class=\"node\"><title>0</title>\r\n",
       "<polygon fill=\"#fffdfc\" stroke=\"black\" points=\"129.333,-192.5 9.33333,-192.5 9.33333,-124.5 129.333,-124.5 129.333,-192.5\"/>\r\n",
       "<text text-anchor=\"start\" x=\"33.3333\" y=\"-177.3\" font-family=\"Times New Roman,serif\" font-size=\"14.00\">called ≤ 0.02</text>\r\n",
       "<text text-anchor=\"start\" x=\"17.3333\" y=\"-162.3\" font-family=\"Times New Roman,serif\" font-size=\"14.00\">samples = 100.0%</text>\r\n",
       "<text text-anchor=\"start\" x=\"21.3333\" y=\"-147.3\" font-family=\"Times New Roman,serif\" font-size=\"14.00\">value = [0.5, 0.5]</text>\r\n",
       "<text text-anchor=\"start\" x=\"34.3333\" y=\"-132.3\" font-family=\"Times New Roman,serif\" font-size=\"14.00\">class = male</text>\r\n",
       "</g>\r\n",
       "<!-- 1 -->\r\n",
       "<g id=\"node2\" class=\"node\"><title>1</title>\r\n",
       "<polygon fill=\"#fdf4ed\" stroke=\"black\" points=\"313.833,-245.5 188.833,-245.5 188.833,-177.5 313.833,-177.5 313.833,-245.5\"/>\r\n",
       "<text text-anchor=\"start\" x=\"199.833\" y=\"-230.3\" font-family=\"Times New Roman,serif\" font-size=\"14.00\">everywhere ≤ 0.01</text>\r\n",
       "<text text-anchor=\"start\" x=\"202.833\" y=\"-215.3\" font-family=\"Times New Roman,serif\" font-size=\"14.00\">samples = 84.7%</text>\r\n",
       "<text text-anchor=\"start\" x=\"196.833\" y=\"-200.3\" font-family=\"Times New Roman,serif\" font-size=\"14.00\">value = [0.52, 0.48]</text>\r\n",
       "<text text-anchor=\"start\" x=\"216.333\" y=\"-185.3\" font-family=\"Times New Roman,serif\" font-size=\"14.00\">class = male</text>\r\n",
       "</g>\r\n",
       "<!-- 0&#45;&gt;1 -->\r\n",
       "<g id=\"edge1\" class=\"edge\"><title>0&#45;&gt;1</title>\r\n",
       "<path fill=\"none\" stroke=\"black\" d=\"M129.771,-176.001C145.459,-180.62 162.554,-185.654 178.808,-190.44\"/>\r\n",
       "<polygon fill=\"black\" stroke=\"black\" points=\"178.218,-193.915 188.8,-193.382 180.195,-187.2 178.218,-193.915\"/>\r\n",
       "<text text-anchor=\"middle\" x=\"166.849\" y=\"-201.646\" font-family=\"Times New Roman,serif\" font-size=\"14.00\">True</text>\r\n",
       "</g>\r\n",
       "<!-- 8 -->\r\n",
       "<g id=\"node9\" class=\"node\"><title>8</title>\r\n",
       "<polygon fill=\"#bbddf6\" stroke=\"black\" points=\"307.833,-139.5 194.833,-139.5 194.833,-71.5 307.833,-71.5 307.833,-139.5\"/>\r\n",
       "<text text-anchor=\"start\" x=\"217.833\" y=\"-124.3\" font-family=\"Times New Roman,serif\" font-size=\"14.00\">hotel ≤ 0.05</text>\r\n",
       "<text text-anchor=\"start\" x=\"202.833\" y=\"-109.3\" font-family=\"Times New Roman,serif\" font-size=\"14.00\">samples = 15.3%</text>\r\n",
       "<text text-anchor=\"start\" x=\"203.333\" y=\"-94.3\" font-family=\"Times New Roman,serif\" font-size=\"14.00\">value = [0.4, 0.6]</text>\r\n",
       "<text text-anchor=\"start\" x=\"211.333\" y=\"-79.3\" font-family=\"Times New Roman,serif\" font-size=\"14.00\">class = female</text>\r\n",
       "</g>\r\n",
       "<!-- 0&#45;&gt;8 -->\r\n",
       "<g id=\"edge8\" class=\"edge\"><title>0&#45;&gt;8</title>\r\n",
       "<path fill=\"none\" stroke=\"black\" d=\"M129.771,-140.999C147.397,-135.809 166.798,-130.097 184.788,-124.8\"/>\r\n",
       "<polygon fill=\"black\" stroke=\"black\" points=\"186.013,-128.088 194.617,-121.905 184.035,-121.373 186.013,-128.088\"/>\r\n",
       "<text text-anchor=\"middle\" x=\"172.666\" y=\"-106.241\" font-family=\"Times New Roman,serif\" font-size=\"14.00\">False</text>\r\n",
       "</g>\r\n",
       "<!-- 2 -->\r\n",
       "<g id=\"node3\" class=\"node\"><title>2</title>\r\n",
       "<polygon fill=\"#fef9f5\" stroke=\"black\" points=\"498.833,-352.5 373.833,-352.5 373.833,-284.5 498.833,-284.5 498.833,-352.5\"/>\r\n",
       "<text text-anchor=\"start\" x=\"405.833\" y=\"-337.3\" font-family=\"Times New Roman,serif\" font-size=\"14.00\">hurt ≤ 0.03</text>\r\n",
       "<text text-anchor=\"start\" x=\"387.833\" y=\"-322.3\" font-family=\"Times New Roman,serif\" font-size=\"14.00\">samples = 82.0%</text>\r\n",
       "<text text-anchor=\"start\" x=\"381.833\" y=\"-307.3\" font-family=\"Times New Roman,serif\" font-size=\"14.00\">value = [0.51, 0.49]</text>\r\n",
       "<text text-anchor=\"start\" x=\"401.333\" y=\"-292.3\" font-family=\"Times New Roman,serif\" font-size=\"14.00\">class = male</text>\r\n",
       "</g>\r\n",
       "<!-- 1&#45;&gt;2 -->\r\n",
       "<g id=\"edge2\" class=\"edge\"><title>1&#45;&gt;2</title>\r\n",
       "<path fill=\"none\" stroke=\"black\" d=\"M310.487,-245.502C328.828,-256.226 349.24,-268.161 368.156,-279.222\"/>\r\n",
       "<polygon fill=\"black\" stroke=\"black\" points=\"366.618,-282.376 377.017,-284.402 370.151,-276.333 366.618,-282.376\"/>\r\n",
       "</g>\r\n",
       "<!-- 5 -->\r\n",
       "<g id=\"node6\" class=\"node\"><title>5</title>\r\n",
       "<polygon fill=\"#ea9a5f\" stroke=\"black\" points=\"498.833,-245.5 373.833,-245.5 373.833,-177.5 498.833,-177.5 498.833,-245.5\"/>\r\n",
       "<text text-anchor=\"start\" x=\"401.833\" y=\"-230.3\" font-family=\"Times New Roman,serif\" font-size=\"14.00\">came ≤ 0.01</text>\r\n",
       "<text text-anchor=\"start\" x=\"390.833\" y=\"-215.3\" font-family=\"Times New Roman,serif\" font-size=\"14.00\">samples = 2.7%</text>\r\n",
       "<text text-anchor=\"start\" x=\"381.833\" y=\"-200.3\" font-family=\"Times New Roman,serif\" font-size=\"14.00\">value = [0.84, 0.16]</text>\r\n",
       "<text text-anchor=\"start\" x=\"401.333\" y=\"-185.3\" font-family=\"Times New Roman,serif\" font-size=\"14.00\">class = male</text>\r\n",
       "</g>\r\n",
       "<!-- 1&#45;&gt;5 -->\r\n",
       "<g id=\"edge5\" class=\"edge\"><title>1&#45;&gt;5</title>\r\n",
       "<path fill=\"none\" stroke=\"black\" d=\"M314.034,-211.5C329.931,-211.5 347.175,-211.5 363.536,-211.5\"/>\r\n",
       "<polygon fill=\"black\" stroke=\"black\" points=\"363.59,-215 373.59,-211.5 363.59,-208 363.59,-215\"/>\r\n",
       "</g>\r\n",
       "<!-- 3 -->\r\n",
       "<g id=\"node4\" class=\"node\"><title>3</title>\r\n",
       "<polygon fill=\"#fcf0e7\" stroke=\"black\" points=\"683.833,-416 558.833,-416 558.833,-363 683.833,-363 683.833,-416\"/>\r\n",
       "<text text-anchor=\"start\" x=\"572.833\" y=\"-400.8\" font-family=\"Times New Roman,serif\" font-size=\"14.00\">samples = 73.9%</text>\r\n",
       "<text text-anchor=\"start\" x=\"566.833\" y=\"-385.8\" font-family=\"Times New Roman,serif\" font-size=\"14.00\">value = [0.53, 0.47]</text>\r\n",
       "<text text-anchor=\"start\" x=\"586.333\" y=\"-370.8\" font-family=\"Times New Roman,serif\" font-size=\"14.00\">class = male</text>\r\n",
       "</g>\r\n",
       "<!-- 2&#45;&gt;3 -->\r\n",
       "<g id=\"edge3\" class=\"edge\"><title>2&#45;&gt;3</title>\r\n",
       "<path fill=\"none\" stroke=\"black\" d=\"M499.034,-342.438C515.081,-348.664 532.5,-355.423 548.999,-361.824\"/>\r\n",
       "<polygon fill=\"black\" stroke=\"black\" points=\"548.001,-365.191 558.59,-365.545 550.533,-358.665 548.001,-365.191\"/>\r\n",
       "</g>\r\n",
       "<!-- 4 -->\r\n",
       "<g id=\"node5\" class=\"node\"><title>4</title>\r\n",
       "<polygon fill=\"#9bcdf2\" stroke=\"black\" points=\"683.833,-345 558.833,-345 558.833,-292 683.833,-292 683.833,-345\"/>\r\n",
       "<text text-anchor=\"start\" x=\"575.833\" y=\"-329.8\" font-family=\"Times New Roman,serif\" font-size=\"14.00\">samples = 8.1%</text>\r\n",
       "<text text-anchor=\"start\" x=\"566.833\" y=\"-314.8\" font-family=\"Times New Roman,serif\" font-size=\"14.00\">value = [0.33, 0.67]</text>\r\n",
       "<text text-anchor=\"start\" x=\"581.333\" y=\"-299.8\" font-family=\"Times New Roman,serif\" font-size=\"14.00\">class = female</text>\r\n",
       "</g>\r\n",
       "<!-- 2&#45;&gt;4 -->\r\n",
       "<g id=\"edge4\" class=\"edge\"><title>2&#45;&gt;4</title>\r\n",
       "<path fill=\"none\" stroke=\"black\" d=\"M499.034,-318.5C514.931,-318.5 532.175,-318.5 548.536,-318.5\"/>\r\n",
       "<polygon fill=\"black\" stroke=\"black\" points=\"548.59,-322 558.59,-318.5 548.59,-315 548.59,-322\"/>\r\n",
       "</g>\r\n",
       "<!-- 6 -->\r\n",
       "<g id=\"node7\" class=\"node\"><title>6</title>\r\n",
       "<polygon fill=\"#e89253\" stroke=\"black\" points=\"683.833,-274 558.833,-274 558.833,-221 683.833,-221 683.833,-274\"/>\r\n",
       "<text text-anchor=\"start\" x=\"575.833\" y=\"-258.8\" font-family=\"Times New Roman,serif\" font-size=\"14.00\">samples = 2.2%</text>\r\n",
       "<text text-anchor=\"start\" x=\"566.833\" y=\"-243.8\" font-family=\"Times New Roman,serif\" font-size=\"14.00\">value = [0.88, 0.12]</text>\r\n",
       "<text text-anchor=\"start\" x=\"586.333\" y=\"-228.8\" font-family=\"Times New Roman,serif\" font-size=\"14.00\">class = male</text>\r\n",
       "</g>\r\n",
       "<!-- 5&#45;&gt;6 -->\r\n",
       "<g id=\"edge6\" class=\"edge\"><title>5&#45;&gt;6</title>\r\n",
       "<path fill=\"none\" stroke=\"black\" d=\"M499.034,-223.638C514.931,-226.765 532.175,-230.157 548.536,-233.376\"/>\r\n",
       "<polygon fill=\"black\" stroke=\"black\" points=\"548.102,-236.858 558.59,-235.354 549.453,-229.989 548.102,-236.858\"/>\r\n",
       "</g>\r\n",
       "<!-- 7 -->\r\n",
       "<g id=\"node8\" class=\"node\"><title>7</title>\r\n",
       "<polygon fill=\"#f2c09c\" stroke=\"black\" points=\"683.833,-203 558.833,-203 558.833,-150 683.833,-150 683.833,-203\"/>\r\n",
       "<text text-anchor=\"start\" x=\"575.833\" y=\"-187.8\" font-family=\"Times New Roman,serif\" font-size=\"14.00\">samples = 0.5%</text>\r\n",
       "<text text-anchor=\"start\" x=\"566.833\" y=\"-172.8\" font-family=\"Times New Roman,serif\" font-size=\"14.00\">value = [0.67, 0.33]</text>\r\n",
       "<text text-anchor=\"start\" x=\"586.333\" y=\"-157.8\" font-family=\"Times New Roman,serif\" font-size=\"14.00\">class = male</text>\r\n",
       "</g>\r\n",
       "<!-- 5&#45;&gt;7 -->\r\n",
       "<g id=\"edge7\" class=\"edge\"><title>5&#45;&gt;7</title>\r\n",
       "<path fill=\"none\" stroke=\"black\" d=\"M499.034,-199.699C514.931,-196.659 532.175,-193.361 548.536,-190.232\"/>\r\n",
       "<polygon fill=\"black\" stroke=\"black\" points=\"549.425,-193.625 558.59,-188.309 548.11,-186.75 549.425,-193.625\"/>\r\n",
       "</g>\r\n",
       "<!-- 9 -->\r\n",
       "<g id=\"node10\" class=\"node\"><title>9</title>\r\n",
       "<polygon fill=\"#aad5f4\" stroke=\"black\" points=\"498.833,-139.5 373.833,-139.5 373.833,-71.5 498.833,-71.5 498.833,-139.5\"/>\r\n",
       "<text text-anchor=\"start\" x=\"401.333\" y=\"-124.3\" font-family=\"Times New Roman,serif\" font-size=\"14.00\">along ≤ 0.03</text>\r\n",
       "<text text-anchor=\"start\" x=\"387.833\" y=\"-109.3\" font-family=\"Times New Roman,serif\" font-size=\"14.00\">samples = 14.7%</text>\r\n",
       "<text text-anchor=\"start\" x=\"381.833\" y=\"-94.3\" font-family=\"Times New Roman,serif\" font-size=\"14.00\">value = [0.36, 0.64]</text>\r\n",
       "<text text-anchor=\"start\" x=\"396.333\" y=\"-79.3\" font-family=\"Times New Roman,serif\" font-size=\"14.00\">class = female</text>\r\n",
       "</g>\r\n",
       "<!-- 8&#45;&gt;9 -->\r\n",
       "<g id=\"edge9\" class=\"edge\"><title>8&#45;&gt;9</title>\r\n",
       "<path fill=\"none\" stroke=\"black\" d=\"M308.234,-105.5C325.705,-105.5 345.228,-105.5 363.629,-105.5\"/>\r\n",
       "<polygon fill=\"black\" stroke=\"black\" points=\"363.717,-109 373.717,-105.5 363.717,-102 363.717,-109\"/>\r\n",
       "</g>\r\n",
       "<!-- 12 -->\r\n",
       "<g id=\"node13\" class=\"node\"><title>12</title>\r\n",
       "<polygon fill=\"#e58139\" stroke=\"black\" points=\"492.333,-53 380.333,-53 380.333,-0 492.333,-0 492.333,-53\"/>\r\n",
       "<text text-anchor=\"start\" x=\"390.833\" y=\"-37.8\" font-family=\"Times New Roman,serif\" font-size=\"14.00\">samples = 0.6%</text>\r\n",
       "<text text-anchor=\"start\" x=\"388.333\" y=\"-22.8\" font-family=\"Times New Roman,serif\" font-size=\"14.00\">value = [1.0, 0.0]</text>\r\n",
       "<text text-anchor=\"start\" x=\"401.333\" y=\"-7.8\" font-family=\"Times New Roman,serif\" font-size=\"14.00\">class = male</text>\r\n",
       "</g>\r\n",
       "<!-- 8&#45;&gt;12 -->\r\n",
       "<g id=\"edge12\" class=\"edge\"><title>8&#45;&gt;12</title>\r\n",
       "<path fill=\"none\" stroke=\"black\" d=\"M308.234,-81.3681C328.014,-72.8293 350.423,-63.1553 370.857,-54.3341\"/>\r\n",
       "<polygon fill=\"black\" stroke=\"black\" points=\"372.296,-57.5251 380.09,-50.3483 369.522,-51.0984 372.296,-57.5251\"/>\r\n",
       "</g>\r\n",
       "<!-- 10 -->\r\n",
       "<g id=\"node11\" class=\"node\"><title>10</title>\r\n",
       "<polygon fill=\"#afd7f4\" stroke=\"black\" points=\"683.833,-132 558.833,-132 558.833,-79 683.833,-79 683.833,-132\"/>\r\n",
       "<text text-anchor=\"start\" x=\"572.833\" y=\"-116.8\" font-family=\"Times New Roman,serif\" font-size=\"14.00\">samples = 14.2%</text>\r\n",
       "<text text-anchor=\"start\" x=\"566.833\" y=\"-101.8\" font-family=\"Times New Roman,serif\" font-size=\"14.00\">value = [0.37, 0.63]</text>\r\n",
       "<text text-anchor=\"start\" x=\"581.333\" y=\"-86.8\" font-family=\"Times New Roman,serif\" font-size=\"14.00\">class = female</text>\r\n",
       "</g>\r\n",
       "<!-- 9&#45;&gt;10 -->\r\n",
       "<g id=\"edge10\" class=\"edge\"><title>9&#45;&gt;10</title>\r\n",
       "<path fill=\"none\" stroke=\"black\" d=\"M499.034,-105.5C514.931,-105.5 532.175,-105.5 548.536,-105.5\"/>\r\n",
       "<polygon fill=\"black\" stroke=\"black\" points=\"548.59,-109 558.59,-105.5 548.59,-102 548.59,-109\"/>\r\n",
       "</g>\r\n",
       "<!-- 11 -->\r\n",
       "<g id=\"node12\" class=\"node\"><title>11</title>\r\n",
       "<polygon fill=\"#65b3eb\" stroke=\"black\" points=\"683.833,-61 558.833,-61 558.833,-8 683.833,-8 683.833,-61\"/>\r\n",
       "<text text-anchor=\"start\" x=\"575.833\" y=\"-45.8\" font-family=\"Times New Roman,serif\" font-size=\"14.00\">samples = 0.5%</text>\r\n",
       "<text text-anchor=\"start\" x=\"566.833\" y=\"-30.8\" font-family=\"Times New Roman,serif\" font-size=\"14.00\">value = [0.18, 0.82]</text>\r\n",
       "<text text-anchor=\"start\" x=\"581.333\" y=\"-15.8\" font-family=\"Times New Roman,serif\" font-size=\"14.00\">class = female</text>\r\n",
       "</g>\r\n",
       "<!-- 9&#45;&gt;11 -->\r\n",
       "<g id=\"edge11\" class=\"edge\"><title>9&#45;&gt;11</title>\r\n",
       "<path fill=\"none\" stroke=\"black\" d=\"M499.034,-81.5616C515.081,-75.3358 532.5,-68.5774 548.999,-62.1762\"/>\r\n",
       "<polygon fill=\"black\" stroke=\"black\" points=\"550.533,-65.3354 558.59,-58.4552 548.001,-58.8093 550.533,-65.3354\"/>\r\n",
       "</g>\r\n",
       "</g>\r\n",
       "</svg>\r\n"
      ],
      "text/plain": [
       "<graphviz.files.Source at 0x122973f8970>"
      ]
     },
     "metadata": {},
     "output_type": "display_data"
    }
   ],
   "source": [
    "def draw_tree(t, df, size=10, ratio=0.6, precision=0):\n",
    "    \"\"\" \n",
    "    Draws a representation of a decition tree in IPython from fastai v0.7\n",
    "    \"\"\"\n",
    "    s=export_graphviz(t, out_file=None, feature_names=numeric_features_list, filled=True,\n",
    "                      special_characters=True, rotate=True, precision=precision, \n",
    "                      proportion=True, class_names = [\"male\", \"female\"], impurity = False)\n",
    "    IPython.display.display(graphviz.Source(re.sub('Tree {',\n",
    "       f'Tree {{ size={size}; ratio={ratio}', s)))\n",
    "\n",
    "draw_tree(m.estimators_[0], X_train, precision=2)"
   ]
  },
  {
   "cell_type": "markdown",
   "metadata": {},
   "source": [
    "Here, the blue coloured nodes indicate their majority class is female while the orange colored nodes have a majority of male labels. The decision tree starts with a mixed sample, but the leaves of the tree are biased towards one class or the other. Most splits seem to be happening using dialogue tokens. For eg., in the above tree, if the tf-idf frequency of keywords think is > 0.1 & kid is > 0.03, the samples are classified as female."
   ]
  },
  {
   "cell_type": "code",
   "execution_count": null,
   "metadata": {},
   "outputs": [],
   "source": []
  },
  {
   "cell_type": "code",
   "execution_count": 61,
   "metadata": {},
   "outputs": [
    {
     "data": {
      "text/html": [
       "<div>\n",
       "<style scoped>\n",
       "    .dataframe tbody tr th:only-of-type {\n",
       "        vertical-align: middle;\n",
       "    }\n",
       "\n",
       "    .dataframe tbody tr th {\n",
       "        vertical-align: top;\n",
       "    }\n",
       "\n",
       "    .dataframe thead th {\n",
       "        text-align: right;\n",
       "    }\n",
       "</style>\n",
       "<table border=\"1\" class=\"dataframe\">\n",
       "  <thead>\n",
       "    <tr style=\"text-align: right;\">\n",
       "      <th></th>\n",
       "      <th>feature</th>\n",
       "      <th>weight</th>\n",
       "      <th>std</th>\n",
       "    </tr>\n",
       "  </thead>\n",
       "  <tbody>\n",
       "    <tr>\n",
       "      <th>0</th>\n",
       "      <td>em</td>\n",
       "      <td>0.014148</td>\n",
       "      <td>0.059049</td>\n",
       "    </tr>\n",
       "    <tr>\n",
       "      <th>1</th>\n",
       "      <td>really</td>\n",
       "      <td>0.011459</td>\n",
       "      <td>0.047610</td>\n",
       "    </tr>\n",
       "    <tr>\n",
       "      <th>2</th>\n",
       "      <td>shit</td>\n",
       "      <td>0.010488</td>\n",
       "      <td>0.049445</td>\n",
       "    </tr>\n",
       "    <tr>\n",
       "      <th>3</th>\n",
       "      <td>lineLength_median</td>\n",
       "      <td>0.010414</td>\n",
       "      <td>0.042951</td>\n",
       "    </tr>\n",
       "    <tr>\n",
       "      <th>4</th>\n",
       "      <td>may</td>\n",
       "      <td>0.008746</td>\n",
       "      <td>0.034498</td>\n",
       "    </tr>\n",
       "    <tr>\n",
       "      <th>5</th>\n",
       "      <td>oh</td>\n",
       "      <td>0.007969</td>\n",
       "      <td>0.045175</td>\n",
       "    </tr>\n",
       "    <tr>\n",
       "      <th>6</th>\n",
       "      <td>god</td>\n",
       "      <td>0.007635</td>\n",
       "      <td>0.031052</td>\n",
       "    </tr>\n",
       "    <tr>\n",
       "      <th>7</th>\n",
       "      <td>cop</td>\n",
       "      <td>0.007635</td>\n",
       "      <td>0.036157</td>\n",
       "    </tr>\n",
       "    <tr>\n",
       "      <th>8</th>\n",
       "      <td>love</td>\n",
       "      <td>0.007493</td>\n",
       "      <td>0.037166</td>\n",
       "    </tr>\n",
       "    <tr>\n",
       "      <th>9</th>\n",
       "      <td>head</td>\n",
       "      <td>0.007355</td>\n",
       "      <td>0.032059</td>\n",
       "    </tr>\n",
       "    <tr>\n",
       "      <th>10</th>\n",
       "      <td>hell</td>\n",
       "      <td>0.007048</td>\n",
       "      <td>0.041622</td>\n",
       "    </tr>\n",
       "    <tr>\n",
       "      <th>11</th>\n",
       "      <td>gotta</td>\n",
       "      <td>0.006975</td>\n",
       "      <td>0.040958</td>\n",
       "    </tr>\n",
       "    <tr>\n",
       "      <th>12</th>\n",
       "      <td>man</td>\n",
       "      <td>0.006611</td>\n",
       "      <td>0.033050</td>\n",
       "    </tr>\n",
       "    <tr>\n",
       "      <th>13</th>\n",
       "      <td>one</td>\n",
       "      <td>0.006499</td>\n",
       "      <td>0.029208</td>\n",
       "    </tr>\n",
       "    <tr>\n",
       "      <th>14</th>\n",
       "      <td>guy</td>\n",
       "      <td>0.006429</td>\n",
       "      <td>0.031355</td>\n",
       "    </tr>\n",
       "    <tr>\n",
       "      <th>15</th>\n",
       "      <td>money</td>\n",
       "      <td>0.006406</td>\n",
       "      <td>0.031987</td>\n",
       "    </tr>\n",
       "    <tr>\n",
       "      <th>16</th>\n",
       "      <td>good</td>\n",
       "      <td>0.006352</td>\n",
       "      <td>0.023643</td>\n",
       "    </tr>\n",
       "    <tr>\n",
       "      <th>17</th>\n",
       "      <td>couple</td>\n",
       "      <td>0.006083</td>\n",
       "      <td>0.027615</td>\n",
       "    </tr>\n",
       "    <tr>\n",
       "      <th>18</th>\n",
       "      <td>gun</td>\n",
       "      <td>0.005989</td>\n",
       "      <td>0.035754</td>\n",
       "    </tr>\n",
       "    <tr>\n",
       "      <th>19</th>\n",
       "      <td>running</td>\n",
       "      <td>0.005881</td>\n",
       "      <td>0.027120</td>\n",
       "    </tr>\n",
       "    <tr>\n",
       "      <th>20</th>\n",
       "      <td>said</td>\n",
       "      <td>0.005733</td>\n",
       "      <td>0.032166</td>\n",
       "    </tr>\n",
       "    <tr>\n",
       "      <th>21</th>\n",
       "      <td>country</td>\n",
       "      <td>0.005634</td>\n",
       "      <td>0.030562</td>\n",
       "    </tr>\n",
       "    <tr>\n",
       "      <th>22</th>\n",
       "      <td>go</td>\n",
       "      <td>0.005519</td>\n",
       "      <td>0.025101</td>\n",
       "    </tr>\n",
       "    <tr>\n",
       "      <th>23</th>\n",
       "      <td>wordCountLine_median</td>\n",
       "      <td>0.005475</td>\n",
       "      <td>0.032318</td>\n",
       "    </tr>\n",
       "    <tr>\n",
       "      <th>24</th>\n",
       "      <td>knew</td>\n",
       "      <td>0.004902</td>\n",
       "      <td>0.025802</td>\n",
       "    </tr>\n",
       "    <tr>\n",
       "      <th>25</th>\n",
       "      <td>situation</td>\n",
       "      <td>0.004878</td>\n",
       "      <td>0.029998</td>\n",
       "    </tr>\n",
       "    <tr>\n",
       "      <th>26</th>\n",
       "      <td>guess</td>\n",
       "      <td>0.004728</td>\n",
       "      <td>0.021138</td>\n",
       "    </tr>\n",
       "    <tr>\n",
       "      <th>27</th>\n",
       "      <td>feel</td>\n",
       "      <td>0.004725</td>\n",
       "      <td>0.021116</td>\n",
       "    </tr>\n",
       "    <tr>\n",
       "      <th>28</th>\n",
       "      <td>happened</td>\n",
       "      <td>0.004610</td>\n",
       "      <td>0.031138</td>\n",
       "    </tr>\n",
       "    <tr>\n",
       "      <th>29</th>\n",
       "      <td>loved</td>\n",
       "      <td>0.004589</td>\n",
       "      <td>0.024129</td>\n",
       "    </tr>\n",
       "  </tbody>\n",
       "</table>\n",
       "</div>"
      ],
      "text/plain": [
       "                 feature    weight       std\n",
       "0                     em  0.014148  0.059049\n",
       "1                 really  0.011459  0.047610\n",
       "2                   shit  0.010488  0.049445\n",
       "3      lineLength_median  0.010414  0.042951\n",
       "4                    may  0.008746  0.034498\n",
       "5                     oh  0.007969  0.045175\n",
       "6                    god  0.007635  0.031052\n",
       "7                    cop  0.007635  0.036157\n",
       "8                   love  0.007493  0.037166\n",
       "9                   head  0.007355  0.032059\n",
       "10                  hell  0.007048  0.041622\n",
       "11                 gotta  0.006975  0.040958\n",
       "12                   man  0.006611  0.033050\n",
       "13                   one  0.006499  0.029208\n",
       "14                   guy  0.006429  0.031355\n",
       "15                 money  0.006406  0.031987\n",
       "16                  good  0.006352  0.023643\n",
       "17                couple  0.006083  0.027615\n",
       "18                   gun  0.005989  0.035754\n",
       "19               running  0.005881  0.027120\n",
       "20                  said  0.005733  0.032166\n",
       "21               country  0.005634  0.030562\n",
       "22                    go  0.005519  0.025101\n",
       "23  wordCountLine_median  0.005475  0.032318\n",
       "24                  knew  0.004902  0.025802\n",
       "25             situation  0.004878  0.029998\n",
       "26                 guess  0.004728  0.021138\n",
       "27                  feel  0.004725  0.021116\n",
       "28              happened  0.004610  0.031138\n",
       "29                 loved  0.004589  0.024129"
      ]
     },
     "execution_count": 61,
     "metadata": {},
     "output_type": "execute_result"
    }
   ],
   "source": [
    "#Feature importance for the Random Forest model\n",
    "eli5.explain_weights_df(rf_clf.named_steps['classifier'], top=30, feature_names=numeric_features_list)"
   ]
  },
  {
   "cell_type": "markdown",
   "metadata": {},
   "source": [
    "We see that the median length of a dialogue, total no of lines (chId_count) & movie release year are important features along with the tokens extracted from the character’s dialogues for the Random Forest model!"
   ]
  },
  {
   "cell_type": "code",
   "execution_count": 62,
   "metadata": {},
   "outputs": [],
   "source": [
    "# predicting the model "
   ]
  },
  {
   "cell_type": "code",
   "execution_count": 63,
   "metadata": {},
   "outputs": [],
   "source": [
    "#svc"
   ]
  },
  {
   "cell_type": "code",
   "execution_count": 64,
   "metadata": {},
   "outputs": [],
   "source": [
    "y_pred_svc = svc_clf.predict(X_val)"
   ]
  },
  {
   "cell_type": "code",
   "execution_count": 65,
   "metadata": {},
   "outputs": [
    {
     "data": {
      "text/plain": [
       "0.7421052631578947"
      ]
     },
     "execution_count": 65,
     "metadata": {},
     "output_type": "execute_result"
    }
   ],
   "source": [
    "svc_clf.score(X_val,y_val)"
   ]
  },
  {
   "cell_type": "code",
   "execution_count": 66,
   "metadata": {},
   "outputs": [
    {
     "name": "stdout",
     "output_type": "stream",
     "text": [
      "              precision    recall  f1-score   support\n",
      "\n",
      "           0       0.74      0.75      0.74       190\n",
      "           1       0.74      0.74      0.74       190\n",
      "\n",
      "    accuracy                           0.74       380\n",
      "   macro avg       0.74      0.74      0.74       380\n",
      "weighted avg       0.74      0.74      0.74       380\n",
      "\n"
     ]
    }
   ],
   "source": [
    "print(classification_report(y_val, y_pred_svc, labels=[0,1]))"
   ]
  },
  {
   "cell_type": "code",
   "execution_count": null,
   "metadata": {},
   "outputs": [],
   "source": []
  },
  {
   "cell_type": "code",
   "execution_count": 67,
   "metadata": {},
   "outputs": [],
   "source": [
    "#LOGISTIC"
   ]
  },
  {
   "cell_type": "code",
   "execution_count": 68,
   "metadata": {},
   "outputs": [],
   "source": [
    "y_pred_log =  log_clf.predict(X_val)"
   ]
  },
  {
   "cell_type": "code",
   "execution_count": 69,
   "metadata": {},
   "outputs": [
    {
     "data": {
      "text/plain": [
       "0.7447368421052631"
      ]
     },
     "execution_count": 69,
     "metadata": {},
     "output_type": "execute_result"
    }
   ],
   "source": [
    "log_clf.score(X_val,y_val)"
   ]
  },
  {
   "cell_type": "code",
   "execution_count": 70,
   "metadata": {},
   "outputs": [
    {
     "name": "stdout",
     "output_type": "stream",
     "text": [
      "              precision    recall  f1-score   support\n",
      "\n",
      "           0       0.75      0.73      0.74       190\n",
      "           1       0.74      0.76      0.75       190\n",
      "\n",
      "    accuracy                           0.74       380\n",
      "   macro avg       0.74      0.74      0.74       380\n",
      "weighted avg       0.74      0.74      0.74       380\n",
      "\n"
     ]
    }
   ],
   "source": [
    "print(classification_report(y_val, y_pred_log, labels=[0,1]))"
   ]
  },
  {
   "cell_type": "code",
   "execution_count": null,
   "metadata": {},
   "outputs": [],
   "source": []
  },
  {
   "cell_type": "code",
   "execution_count": 71,
   "metadata": {},
   "outputs": [],
   "source": [
    "#Random Forest"
   ]
  },
  {
   "cell_type": "code",
   "execution_count": 72,
   "metadata": {},
   "outputs": [],
   "source": [
    "y_pred_rf =rf_clf.predict(X_val)"
   ]
  },
  {
   "cell_type": "code",
   "execution_count": 73,
   "metadata": {},
   "outputs": [
    {
     "data": {
      "text/plain": [
       "0.6815789473684211"
      ]
     },
     "execution_count": 73,
     "metadata": {},
     "output_type": "execute_result"
    }
   ],
   "source": [
    "rf_clf.score(X_val,y_val)"
   ]
  },
  {
   "cell_type": "code",
   "execution_count": 74,
   "metadata": {},
   "outputs": [
    {
     "name": "stdout",
     "output_type": "stream",
     "text": [
      "              precision    recall  f1-score   support\n",
      "\n",
      "           0       0.70      0.64      0.67       190\n",
      "           1       0.67      0.72      0.69       190\n",
      "\n",
      "    accuracy                           0.68       380\n",
      "   macro avg       0.68      0.68      0.68       380\n",
      "weighted avg       0.68      0.68      0.68       380\n",
      "\n"
     ]
    }
   ],
   "source": [
    "print(classification_report(y_val, y_pred_rf, labels=[0,1]))"
   ]
  },
  {
   "cell_type": "code",
   "execution_count": null,
   "metadata": {},
   "outputs": [],
   "source": []
  },
  {
   "cell_type": "code",
   "execution_count": 75,
   "metadata": {},
   "outputs": [],
   "source": [
    "#XGB"
   ]
  },
  {
   "cell_type": "code",
   "execution_count": 76,
   "metadata": {},
   "outputs": [],
   "source": [
    "y_pred=xgb.predict(X_val)"
   ]
  },
  {
   "cell_type": "code",
   "execution_count": 77,
   "metadata": {},
   "outputs": [
    {
     "data": {
      "text/plain": [
       "0.7236842105263158"
      ]
     },
     "execution_count": 77,
     "metadata": {},
     "output_type": "execute_result"
    }
   ],
   "source": [
    "xgb.score(X_val,y_val)"
   ]
  },
  {
   "cell_type": "code",
   "execution_count": 78,
   "metadata": {},
   "outputs": [
    {
     "name": "stdout",
     "output_type": "stream",
     "text": [
      "              precision    recall  f1-score   support\n",
      "\n",
      "           0       0.73      0.71      0.72       190\n",
      "           1       0.72      0.74      0.73       190\n",
      "\n",
      "    accuracy                           0.72       380\n",
      "   macro avg       0.72      0.72      0.72       380\n",
      "weighted avg       0.72      0.72      0.72       380\n",
      "\n"
     ]
    }
   ],
   "source": [
    "print(classification_report(y_val, y_pred, labels=[0,1]))"
   ]
  },
  {
   "cell_type": "code",
   "execution_count": null,
   "metadata": {},
   "outputs": [],
   "source": []
  },
  {
   "cell_type": "code",
   "execution_count": null,
   "metadata": {},
   "outputs": [],
   "source": []
  },
  {
   "cell_type": "code",
   "execution_count": null,
   "metadata": {},
   "outputs": [],
   "source": []
  },
  {
   "cell_type": "code",
   "execution_count": null,
   "metadata": {},
   "outputs": [],
   "source": []
  },
  {
   "cell_type": "code",
   "execution_count": null,
   "metadata": {},
   "outputs": [],
   "source": []
  },
  {
   "cell_type": "code",
   "execution_count": null,
   "metadata": {},
   "outputs": [],
   "source": []
  },
  {
   "cell_type": "code",
   "execution_count": null,
   "metadata": {},
   "outputs": [],
   "source": []
  },
  {
   "cell_type": "code",
   "execution_count": null,
   "metadata": {},
   "outputs": [],
   "source": []
  },
  {
   "cell_type": "code",
   "execution_count": null,
   "metadata": {},
   "outputs": [],
   "source": []
  },
  {
   "cell_type": "code",
   "execution_count": null,
   "metadata": {},
   "outputs": [],
   "source": []
  },
  {
   "cell_type": "code",
   "execution_count": null,
   "metadata": {},
   "outputs": [],
   "source": []
  },
  {
   "cell_type": "code",
   "execution_count": null,
   "metadata": {},
   "outputs": [],
   "source": []
  },
  {
   "cell_type": "code",
   "execution_count": null,
   "metadata": {},
   "outputs": [],
   "source": []
  },
  {
   "cell_type": "code",
   "execution_count": null,
   "metadata": {},
   "outputs": [],
   "source": []
  },
  {
   "cell_type": "code",
   "execution_count": null,
   "metadata": {},
   "outputs": [],
   "source": []
  },
  {
   "cell_type": "code",
   "execution_count": null,
   "metadata": {},
   "outputs": [],
   "source": []
  },
  {
   "cell_type": "code",
   "execution_count": null,
   "metadata": {},
   "outputs": [],
   "source": []
  }
 ],
 "metadata": {
  "kernelspec": {
   "display_name": "Python 3",
   "language": "python",
   "name": "python3"
  },
  "language_info": {
   "codemirror_mode": {
    "name": "ipython",
    "version": 3
   },
   "file_extension": ".py",
   "mimetype": "text/x-python",
   "name": "python",
   "nbconvert_exporter": "python",
   "pygments_lexer": "ipython3",
   "version": "3.8.3"
  }
 },
 "nbformat": 4,
 "nbformat_minor": 4
}
