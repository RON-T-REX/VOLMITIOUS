{
 "cells": [
  {
   "cell_type": "markdown",
   "metadata": {
    "id": "R6NHgAYkxqSl"
   },
   "source": [
    "## Read Inventory"
   ]
  },
  {
   "cell_type": "code",
   "execution_count": 44,
   "metadata": {
    "id": "jkJT24jqug9n"
   },
   "outputs": [],
   "source": [
    "import json\n",
    "from datetime import datetime\n",
    "fd = open(\"record.json\",'r')\n",
    "r = fd.read()\n",
    "fd.close()\n",
    "\n",
    "records = json.loads(r)"
   ]
  },
  {
   "cell_type": "code",
   "execution_count": 45,
   "metadata": {
    "colab": {
     "base_uri": "https://localhost:8080/"
    },
    "id": "CcLYokrlus6z",
    "outputId": "525ffebc-7e32-463b-b0a4-2e6e9fc73f7c"
   },
   "outputs": [
    {
     "data": {
      "text/plain": [
       "{'1001': {'name': 'Choco Cake',\n",
       "  'qn': 34,\n",
       "  'pr': 100,\n",
       "  'category': 'Grocery',\n",
       "  'time_add': '06-09-2021T08:23:12'},\n",
       " '1002': {'name': 'Milk Cake',\n",
       "  'pr': 800,\n",
       "  'qn': 84,\n",
       "  'category': 'Grocery',\n",
       "  'time_add': '06-09-2021T09:18:49'},\n",
       " '1003': {'name': 'drink',\n",
       "  'pr': 85,\n",
       "  'qn': 258,\n",
       "  'category': 'Grocery',\n",
       "  'time_add': '06-09-2021T09:24:27'},\n",
       " '1004': {'name': 'Candy',\n",
       "  'pr': 5,\n",
       "  'qn': 935,\n",
       "  'category': 'Grocery',\n",
       "  'time_add': '06-09-2021T09:33:11'},\n",
       " '1005': {'name': 'Pen',\n",
       "  'pr': 20,\n",
       "  'qn': 93,\n",
       "  'category': 'Stationery',\n",
       "  'time_add': '06-09-2021T09:43:17'},\n",
       " '1006': {'name': 'Phone',\n",
       "  'pr': 50000,\n",
       "  'qn': 5,\n",
       "  'category': 'Electronic',\n",
       "  'time_add': '06-09-2021T09:46:15'},\n",
       " '1007': {'name': 'Mic',\n",
       "  'pr': 1500,\n",
       "  'qn': 0,\n",
       "  'category': 'Electronic',\n",
       "  'time_add': '06-09-2021T09:55:57'},\n",
       " '1008': {'name': 'Case',\n",
       "  'pr': 599,\n",
       "  'qn': 2,\n",
       "  'category': 'Stationery',\n",
       "  'time_add': '06-09-2021T10:04:22'},\n",
       " '1009': {'name': 'Keyboard',\n",
       "  'pr': 1999,\n",
       "  'qn': 9,\n",
       "  'category': 'Electronic',\n",
       "  'time_add': '06-09-2021T10:13:29'},\n",
       " '1010': {'name': 'Dvd',\n",
       "  'pr': 25,\n",
       "  'qn': 10,\n",
       "  'category': 'Electronic',\n",
       "  'time_add': '06-09-2021T10:17:45'},\n",
       " '1011': {'name': 'stapler',\n",
       "  'pr': 25,\n",
       "  'qn': 494,\n",
       "  'category': 'Stationery',\n",
       "  'time_add': '06-09-2021T10:23:39'},\n",
       " '1012': {'name': 'Bulbs',\n",
       "  'pr': 30,\n",
       "  'qn': 355,\n",
       "  'category': 'Electronic',\n",
       "  'time_add': '06-09-2021T10:38:25'},\n",
       " '1013': {'name': 'Lamp',\n",
       "  'pr': 5000,\n",
       "  'qn': 16,\n",
       "  'category': 'Electronic',\n",
       "  'time_add': '06-09-2021T10:43:46'},\n",
       " '1014': {'name': 'Apples',\n",
       "  'pr': 5,\n",
       "  'qn': 172,\n",
       "  'category': 'Fruits',\n",
       "  'time_add': '06-09-2021T10:49:15'},\n",
       " '1015': {'name': 'Headphones',\n",
       "  'pr': 670,\n",
       "  'qn': 20,\n",
       "  'category': 'Electronic',\n",
       "  'time_add': '06-09-2021T10:56:59'},\n",
       " '1016': {'name': 'Power ranger toy',\n",
       "  'pr': 70,\n",
       "  'qn': 20,\n",
       "  'category': 'Kids',\n",
       "  'time_add': '06-09-2021T11:04:45'},\n",
       " '1017': {'name': 'Jersey',\n",
       "  'pr': 700,\n",
       "  'qn': 50,\n",
       "  'category': 'Sports',\n",
       "  'time_add': '06-09-2021T11:13:38'},\n",
       " '1018': {'name': 'Football studs',\n",
       "  'pr': 797,\n",
       "  'qn': 15,\n",
       "  'category': 'Sports',\n",
       "  'time_add': '06-09-2021T11:23:59'},\n",
       " '1019': {'name': 'Aeroplane',\n",
       "  'pr': 50,\n",
       "  'qn': 12,\n",
       "  'category': 'Kids',\n",
       "  'time_add': '06-09-2021T11:39:22'},\n",
       " '1020': {'name': 'Sanitizer',\n",
       "  'pr': 220,\n",
       "  'qn': 15,\n",
       "  'category': 'Medical',\n",
       "  'time_add': '06-09-2021T12:24:55'},\n",
       " '1021': {'name': 'Tshirt',\n",
       "  'pr': 500,\n",
       "  'qn': 27,\n",
       "  'category': 'Fashion',\n",
       "  'time_add': '06-09-2021T12:26:47'},\n",
       " '1022': {'name': 'Sunfeast',\n",
       "  'pr': 20,\n",
       "  'qn': 32,\n",
       "  'category': 'Grocery',\n",
       "  'time_add': '06-09-2021T12:29:03'},\n",
       " '1023': {'name': 'Tube light',\n",
       "  'pr': 350,\n",
       "  'qn': 10,\n",
       "  'category': 'Electronic',\n",
       "  'time_add': '06-09-2021T12:30:31'},\n",
       " '1024': {'name': 'Bag',\n",
       "  'pr': 700,\n",
       "  'qn': 8,\n",
       "  'category': 'Fashion',\n",
       "  'time_add': '06-09-2021T12:31:46'},\n",
       " '1025': {'name': 'Trousers',\n",
       "  'pr': 800,\n",
       "  'qn': 9,\n",
       "  'category': 'Fashion',\n",
       "  'time_add': '06-09-2021T12:32:38'},\n",
       " '1026': {'name': 'Dermicool',\n",
       "  'pr': 30,\n",
       "  'qn': 10,\n",
       "  'category': 'Medicine',\n",
       "  'time_add': '06-09-2021T12:33:42'},\n",
       " '1027': {'name': 'Football',\n",
       "  'pr': 800,\n",
       "  'qn': 20,\n",
       "  'category': 'Sports',\n",
       "  'time_add': '06-09-2021T12:34:50'},\n",
       " '1028': {'name': 'Sneakers',\n",
       "  'pr': 1000,\n",
       "  'qn': 15,\n",
       "  'category': 'Fashion',\n",
       "  'time_add': '06-09-2021T12:36:55'},\n",
       " '1029': {'name': 'Cricket bat',\n",
       "  'pr': 500,\n",
       "  'qn': 22,\n",
       "  'category': 'Sports',\n",
       "  'time_add': '06-09-2021T12:37:54'},\n",
       " '1030': {'name': 'Power bank',\n",
       "  'pr': 2000,\n",
       "  'qn': 8,\n",
       "  'category': 'Electronic',\n",
       "  'time_add': '06-09-2021T12:43:28'}}"
      ]
     },
     "execution_count": 45,
     "metadata": {},
     "output_type": "execute_result"
    }
   ],
   "source": [
    "records"
   ]
  },
  {
   "cell_type": "code",
   "execution_count": 46,
   "metadata": {},
   "outputs": [
    {
     "data": {
      "text/plain": [
       "dict_keys(['1001', '1002', '1003', '1004', '1005', '1006', '1007', '1008', '1009', '1010', '1011', '1012', '1013', '1014', '1015', '1016', '1017', '1018', '1019', '1020', '1021', '1022', '1023', '1024', '1025', '1026', '1027', '1028', '1029', '1030'])"
      ]
     },
     "execution_count": 46,
     "metadata": {},
     "output_type": "execute_result"
    }
   ],
   "source": [
    "records.keys()"
   ]
  },
  {
   "cell_type": "markdown",
   "metadata": {
    "id": "WI5f7HTuxwzb"
   },
   "source": [
    "## Purchase"
   ]
  },
  {
   "cell_type": "code",
   "execution_count": 47,
   "metadata": {
    "colab": {
     "base_uri": "https://localhost:8080/"
    },
    "id": "c4E4eIvyuth0",
    "outputId": "91896933-af33-4e3e-ad2b-478c1243c6a3"
   },
   "outputs": [
    {
     "name": "stdout",
     "output_type": "stream",
     "text": [
      "Enter the product_Id: 1022\n",
      "Enter valid quantity: 5\n",
      "Product:  Sunfeast\n",
      "Price:  20\n",
      "Billing Amount:  100\n",
      "Product purchased at:  06-09-2021T22:55:47\n"
     ]
    }
   ],
   "source": [
    "ui_prod  = str(input(\"Enter the product_Id: \"))\n",
    "#ui_quant = int(input(\"Enter the quantity: \"))\n",
    "\n",
    "#---------if prod id exist--------------------\n",
    "if ui_prod not in records.keys():\n",
    "    print(\"Please enter a valid production id\")\n",
    "else:\n",
    "    ui_quant = int(input(\"Enter valid quantity: \"))\n",
    "    \n",
    "\n",
    "#-------if product quantity is zero-------------\n",
    "if records[ui_prod]['qn'] == 0:\n",
    "    print(\"Sorry the product unavailable right now\")\n",
    "    time_purchased = datetime.now().strftime('%d-%m-%YT%H:%M:%S')\n",
    "    print(time_purchased)\n",
    "\n",
    "\n",
    "#-------if product quantity lesss then entered quantity-------------    \n",
    "elif records[ui_prod]['qn'] < ui_quant:\n",
    "    print(\"Sorry less quantity left, We can provide only\" , '\\033[1m' , records[ui_prod]['qn']  , '\\033[0m',\"quantity\")\n",
    "    yes = input(\"If you agree buying mentioned availability type yes or no to proceed further\")\n",
    "    print(\"----\", yes ,\"-----\")\n",
    "\n",
    "    if yes == \"yes\":\n",
    "        ui_quant = records[ui_prod]['qn']\n",
    "        print(\"Product: \", records[ui_prod]['name'])\n",
    "        print(\"Price: \", records[ui_prod]['pr'])\n",
    "        print(\"Billing Amount: \", records[ui_prod]['pr'] * ui_quant)\n",
    "        time_purchased = datetime.now().strftime('%d-%m-%YT%H:%M:%S')\n",
    "        print(\"Product purchased at: \",time_purchased)\n",
    "        records[ui_prod]['qn'] = records[ui_prod]['qn'] - ui_quant\n",
    "    else:\n",
    "        print(\"Check out our other trending products\")\n",
    "        transaction = 0\n",
    "\n",
    "else:\n",
    "    print(\"Product: \", records[ui_prod]['name'])\n",
    "    print(\"Price: \", records[ui_prod]['pr'])\n",
    "    print(\"Billing Amount: \", records[ui_prod]['pr'] * ui_quant)\n",
    "    time_purchased = datetime.now().strftime('%d-%m-%YT%H:%M:%S')\n",
    "    print(\"Product purchased at: \",time_purchased)\n",
    "    records[ui_prod]['qn'] = records[ui_prod]['qn'] - ui_quant"
   ]
  },
  {
   "cell_type": "code",
   "execution_count": null,
   "metadata": {},
   "outputs": [],
   "source": []
  },
  {
   "cell_type": "markdown",
   "metadata": {
    "id": "3h8S8JBVx1_D"
   },
   "source": [
    "## Update Inventory after purchase"
   ]
  },
  {
   "cell_type": "code",
   "execution_count": 48,
   "metadata": {
    "id": "TO68fUvvwzXt"
   },
   "outputs": [],
   "source": [
    "js = json.dumps(records)\n",
    "\n",
    "fd = open(\"record.json\",'w')\n",
    "fd.write(js)\n",
    "fd.close()"
   ]
  },
  {
   "cell_type": "code",
   "execution_count": 49,
   "metadata": {},
   "outputs": [
    {
     "data": {
      "text/plain": [
       "'{\"1001\": {\"name\": \"Choco Cake\", \"qn\": 34, \"pr\": 100, \"category\": \"Grocery\", \"time_add\": \"06-09-2021T08:23:12\"}, \"1002\": {\"name\": \"Milk Cake\", \"pr\": 800, \"qn\": 84, \"category\": \"Grocery\", \"time_add\": \"06-09-2021T09:18:49\"}, \"1003\": {\"name\": \"drink\", \"pr\": 85, \"qn\": 258, \"category\": \"Grocery\", \"time_add\": \"06-09-2021T09:24:27\"}, \"1004\": {\"name\": \"Candy\", \"pr\": 5, \"qn\": 935, \"category\": \"Grocery\", \"time_add\": \"06-09-2021T09:33:11\"}, \"1005\": {\"name\": \"Pen\", \"pr\": 20, \"qn\": 93, \"category\": \"Stationery\", \"time_add\": \"06-09-2021T09:43:17\"}, \"1006\": {\"name\": \"Phone\", \"pr\": 50000, \"qn\": 5, \"category\": \"Electronic\", \"time_add\": \"06-09-2021T09:46:15\"}, \"1007\": {\"name\": \"Mic\", \"pr\": 1500, \"qn\": 0, \"category\": \"Electronic\", \"time_add\": \"06-09-2021T09:55:57\"}, \"1008\": {\"name\": \"Case\", \"pr\": 599, \"qn\": 2, \"category\": \"Stationery\", \"time_add\": \"06-09-2021T10:04:22\"}, \"1009\": {\"name\": \"Keyboard\", \"pr\": 1999, \"qn\": 9, \"category\": \"Electronic\", \"time_add\": \"06-09-2021T10:13:29\"}, \"1010\": {\"name\": \"Dvd\", \"pr\": 25, \"qn\": 10, \"category\": \"Electronic\", \"time_add\": \"06-09-2021T10:17:45\"}, \"1011\": {\"name\": \"stapler\", \"pr\": 25, \"qn\": 494, \"category\": \"Stationery\", \"time_add\": \"06-09-2021T10:23:39\"}, \"1012\": {\"name\": \"Bulbs\", \"pr\": 30, \"qn\": 355, \"category\": \"Electronic\", \"time_add\": \"06-09-2021T10:38:25\"}, \"1013\": {\"name\": \"Lamp\", \"pr\": 5000, \"qn\": 16, \"category\": \"Electronic\", \"time_add\": \"06-09-2021T10:43:46\"}, \"1014\": {\"name\": \"Apples\", \"pr\": 5, \"qn\": 172, \"category\": \"Fruits\", \"time_add\": \"06-09-2021T10:49:15\"}, \"1015\": {\"name\": \"Headphones\", \"pr\": 670, \"qn\": 20, \"category\": \"Electronic\", \"time_add\": \"06-09-2021T10:56:59\"}, \"1016\": {\"name\": \"Power ranger toy\", \"pr\": 70, \"qn\": 20, \"category\": \"Kids\", \"time_add\": \"06-09-2021T11:04:45\"}, \"1017\": {\"name\": \"Jersey\", \"pr\": 700, \"qn\": 50, \"category\": \"Sports\", \"time_add\": \"06-09-2021T11:13:38\"}, \"1018\": {\"name\": \"Football studs\", \"pr\": 797, \"qn\": 15, \"category\": \"Sports\", \"time_add\": \"06-09-2021T11:23:59\"}, \"1019\": {\"name\": \"Aeroplane\", \"pr\": 50, \"qn\": 12, \"category\": \"Kids\", \"time_add\": \"06-09-2021T11:39:22\"}, \"1020\": {\"name\": \"Sanitizer\", \"pr\": 220, \"qn\": 15, \"category\": \"Medical\", \"time_add\": \"06-09-2021T12:24:55\"}, \"1021\": {\"name\": \"Tshirt\", \"pr\": 500, \"qn\": 27, \"category\": \"Fashion\", \"time_add\": \"06-09-2021T12:26:47\"}, \"1022\": {\"name\": \"Sunfeast\", \"pr\": 20, \"qn\": 27, \"category\": \"Grocery\", \"time_add\": \"06-09-2021T12:29:03\"}, \"1023\": {\"name\": \"Tube light\", \"pr\": 350, \"qn\": 10, \"category\": \"Electronic\", \"time_add\": \"06-09-2021T12:30:31\"}, \"1024\": {\"name\": \"Bag\", \"pr\": 700, \"qn\": 8, \"category\": \"Fashion\", \"time_add\": \"06-09-2021T12:31:46\"}, \"1025\": {\"name\": \"Trousers\", \"pr\": 800, \"qn\": 9, \"category\": \"Fashion\", \"time_add\": \"06-09-2021T12:32:38\"}, \"1026\": {\"name\": \"Dermicool\", \"pr\": 30, \"qn\": 10, \"category\": \"Medicine\", \"time_add\": \"06-09-2021T12:33:42\"}, \"1027\": {\"name\": \"Football\", \"pr\": 800, \"qn\": 20, \"category\": \"Sports\", \"time_add\": \"06-09-2021T12:34:50\"}, \"1028\": {\"name\": \"Sneakers\", \"pr\": 1000, \"qn\": 15, \"category\": \"Fashion\", \"time_add\": \"06-09-2021T12:36:55\"}, \"1029\": {\"name\": \"Cricket bat\", \"pr\": 500, \"qn\": 22, \"category\": \"Sports\", \"time_add\": \"06-09-2021T12:37:54\"}, \"1030\": {\"name\": \"Power bank\", \"pr\": 2000, \"qn\": 8, \"category\": \"Electronic\", \"time_add\": \"06-09-2021T12:43:28\"}}'"
      ]
     },
     "execution_count": 49,
     "metadata": {},
     "output_type": "execute_result"
    }
   ],
   "source": [
    "js"
   ]
  },
  {
   "cell_type": "markdown",
   "metadata": {
    "id": "pl_p5yDpyu_9"
   },
   "source": [
    "## Sales JSON"
   ]
  },
  {
   "cell_type": "code",
   "execution_count": 50,
   "metadata": {
    "id": "6R0kXinOyWbK"
   },
   "outputs": [],
   "source": [
    "# Appending ransactions to a JSON file "
   ]
  },
  {
   "cell_type": "code",
   "execution_count": null,
   "metadata": {},
   "outputs": [],
   "source": []
  },
  {
   "cell_type": "code",
   "execution_count": 51,
   "metadata": {},
   "outputs": [
    {
     "name": "stdout",
     "output_type": "stream",
     "text": [
      "Transaction was rejected by user:\n"
     ]
    }
   ],
   "source": [
    "with open(\"sales.json\", \"r+\") as file:\n",
    "    data = json.load(file)\n",
    "    len(data)\n",
    "    #if transaction == 0:\n",
    "    #    print(\"Transaction was rejected by user:\")\n",
    "    #else:\n",
    "    print(\"Transaction was accepted by user:\")\n",
    "    sales = {len(data)+1 : {'prod' : ui_prod, 'qn' : ui_quant, 'amount': records[ui_prod]['pr'] * ui_quant, 'time_activity': time_purchased}}\n",
    "    data.update(sales)\n",
    "    file.seek(0)\n",
    "    json.dump(data, file)"
   ]
  },
  {
   "cell_type": "code",
   "execution_count": 52,
   "metadata": {},
   "outputs": [],
   "source": [
    "fd = open(\"sales.json\",'r')\n",
    "db = fd.read()\n",
    "fd.close()"
   ]
  },
  {
   "cell_type": "code",
   "execution_count": 53,
   "metadata": {},
   "outputs": [
    {
     "data": {
      "text/plain": [
       "'{\"1\": {\"prod\": \"1002\", \"qn\": 4, \"amount\": 3200, \"time_purchased\": \"06-09-2021T10:51:46\"},\\n \"2\": {\"prod\": \"1003\", \"qn\": 11, \"amount\": 935, \"time_purchased\": \"06-09-2021T11:34:25\"},\\n  \"3\": {\"prod\": \"1006\", \"qn\": 2, \"amount\": 30000, \"time_purchased\": \"06-09-2021T11:28:52\"},\\n   \"4\": {\"prod\": \"1004\", \"qn\": 19, \"amount\": 95, \"time_purchased\": \"06-09-2021T12:22:47\"},\\n    \"5\": {\"prod\": \"1015\", \"qn\": 3, \"amount\": 2010, \"time_purchased\": \"06-09-2021T13:05:30\"},\\n     \"6\": {\"prod\": \"1010\", \"qn\": 30, \"amount\": 750, \"time_purchased\": \"06-09-2021T13:30:39\"},\\n      \"7\": {\"prod\": \"1010\", \"qn\": 20, \"amount\": 500, \"time_purchased\": \"06-09-2021T13:36:58\"},\\n       \"8\": {\"prod\": \"1021\", \"qn\": 5, \"amount\": 2500, \"time_purchased\": \"06-09-2021T20:46:11\"},\\n        \"9\": {\"prod\": \"1016\", \"qn\": 3, \"amount\": 210, \"time_purchased\": \"06-09-2021T20:47:34\"},\\n         \"10\": {\"prod\": \"1008\", \"qn\": 10, \"amount\": 5990, \"time_purchased\": \"06-09-2021T20:47:34\"},\\n          \"11\": {\"prod\": \"1008\", \"qn\": 10, \"amount\": 5990, \"time_purchased\": \"06-09-2021T20:56:34\"}}'"
      ]
     },
     "execution_count": 53,
     "metadata": {},
     "output_type": "execute_result"
    }
   ],
   "source": [
    "db"
   ]
  },
  {
   "cell_type": "code",
   "execution_count": 54,
   "metadata": {},
   "outputs": [],
   "source": [
    "sales = json.loads(db)"
   ]
  },
  {
   "cell_type": "code",
   "execution_count": 55,
   "metadata": {},
   "outputs": [
    {
     "data": {
      "text/plain": [
       "{'1': {'prod': '1002',\n",
       "  'qn': 4,\n",
       "  'amount': 3200,\n",
       "  'time_purchased': '06-09-2021T10:51:46'},\n",
       " '2': {'prod': '1003',\n",
       "  'qn': 11,\n",
       "  'amount': 935,\n",
       "  'time_purchased': '06-09-2021T11:34:25'},\n",
       " '3': {'prod': '1006',\n",
       "  'qn': 2,\n",
       "  'amount': 30000,\n",
       "  'time_purchased': '06-09-2021T11:28:52'},\n",
       " '4': {'prod': '1004',\n",
       "  'qn': 19,\n",
       "  'amount': 95,\n",
       "  'time_purchased': '06-09-2021T12:22:47'},\n",
       " '5': {'prod': '1015',\n",
       "  'qn': 3,\n",
       "  'amount': 2010,\n",
       "  'time_purchased': '06-09-2021T13:05:30'},\n",
       " '6': {'prod': '1010',\n",
       "  'qn': 30,\n",
       "  'amount': 750,\n",
       "  'time_purchased': '06-09-2021T13:30:39'},\n",
       " '7': {'prod': '1010',\n",
       "  'qn': 20,\n",
       "  'amount': 500,\n",
       "  'time_purchased': '06-09-2021T13:36:58'},\n",
       " '8': {'prod': '1021',\n",
       "  'qn': 5,\n",
       "  'amount': 2500,\n",
       "  'time_purchased': '06-09-2021T20:46:11'},\n",
       " '9': {'prod': '1016',\n",
       "  'qn': 3,\n",
       "  'amount': 210,\n",
       "  'time_purchased': '06-09-2021T20:47:34'},\n",
       " '10': {'prod': '1008',\n",
       "  'qn': 10,\n",
       "  'amount': 5990,\n",
       "  'time_purchased': '06-09-2021T20:47:34'},\n",
       " '11': {'prod': '1008',\n",
       "  'qn': 10,\n",
       "  'amount': 5990,\n",
       "  'time_purchased': '06-09-2021T20:56:34'}}"
      ]
     },
     "execution_count": 55,
     "metadata": {},
     "output_type": "execute_result"
    }
   ],
   "source": [
    "sales"
   ]
  },
  {
   "cell_type": "code",
   "execution_count": 56,
   "metadata": {},
   "outputs": [
    {
     "data": {
      "text/plain": [
       "11"
      ]
     },
     "execution_count": 56,
     "metadata": {},
     "output_type": "execute_result"
    }
   ],
   "source": [
    "len(sales)"
   ]
  },
  {
   "cell_type": "code",
   "execution_count": 40,
   "metadata": {},
   "outputs": [],
   "source": []
  },
  {
   "cell_type": "code",
   "execution_count": 60,
   "metadata": {},
   "outputs": [],
   "source": []
  },
  {
   "cell_type": "code",
   "execution_count": null,
   "metadata": {},
   "outputs": [],
   "source": []
  },
  {
   "cell_type": "code",
   "execution_count": 62,
   "metadata": {
    "colab": {
     "base_uri": "https://localhost:8080/",
     "height": 52
    },
    "id": "LRbOdbiUycNe",
    "outputId": "d2f68e95-b223-4d6b-f3f0-155466fc18a0"
   },
   "outputs": [],
   "source": []
  },
  {
   "cell_type": "code",
   "execution_count": null,
   "metadata": {},
   "outputs": [],
   "source": []
  },
  {
   "cell_type": "code",
   "execution_count": 89,
   "metadata": {},
   "outputs": [],
   "source": []
  },
  {
   "cell_type": "code",
   "execution_count": null,
   "metadata": {},
   "outputs": [],
   "source": []
  },
  {
   "cell_type": "code",
   "execution_count": null,
   "metadata": {},
   "outputs": [],
   "source": []
  },
  {
   "cell_type": "code",
   "execution_count": null,
   "metadata": {},
   "outputs": [],
   "source": []
  },
  {
   "cell_type": "code",
   "execution_count": null,
   "metadata": {},
   "outputs": [],
   "source": []
  }
 ],
 "metadata": {
  "colab": {
   "name": "Purchasing Products",
   "provenance": []
  },
  "kernelspec": {
   "display_name": "Python 3",
   "language": "python",
   "name": "python3"
  },
  "language_info": {
   "codemirror_mode": {
    "name": "ipython",
    "version": 3
   },
   "file_extension": ".py",
   "mimetype": "text/x-python",
   "name": "python",
   "nbconvert_exporter": "python",
   "pygments_lexer": "ipython3",
   "version": "3.8.3"
  }
 },
 "nbformat": 4,
 "nbformat_minor": 1
}
