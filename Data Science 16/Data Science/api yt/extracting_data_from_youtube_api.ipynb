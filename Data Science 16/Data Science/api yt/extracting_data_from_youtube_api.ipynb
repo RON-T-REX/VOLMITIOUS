{
  "nbformat": 4,
  "nbformat_minor": 0,
  "metadata": {
    "colab": {
      "name": "extracting_data_from_youtube_api.ipynb",
      "provenance": []
    },
    "kernelspec": {
      "name": "python3",
      "display_name": "Python 3"
    },
    "language_info": {
      "name": "python"
    }
  },
  "cells": [
    {
      "cell_type": "code",
      "metadata": {
        "id": "BkqEbyrrSd5D"
      },
      "source": [
        "#import libraries\n",
        "import requests\n",
        "import pandas as pd\n",
        "import time"
      ],
      "execution_count": null,
      "outputs": []
    },
    {
      "cell_type": "code",
      "metadata": {
        "id": "yN5zGnx7XMNa"
      },
      "source": [
        "#Keys\n",
        "API_KEY = \"xxxxxx\"\n",
        "CHANNEL_ID = \"xxxxx\""
      ],
      "execution_count": null,
      "outputs": []
    },
    {
      "cell_type": "code",
      "metadata": {
        "id": "PuvL2HsqoJ8J"
      },
      "source": [
        "def get_video_details(video_id):\n",
        "\n",
        "    #collecting view, like, dislike, comment counts\n",
        "    url_video_stats = \"https://www.googleapis.com/youtube/v3/videos?id=\"+video_id+\"&part=statistics&key=\"+API_KEY\n",
        "    response_video_stats = requests.get(url_video_stats).json()\n",
        "\n",
        "    view_count = response_video_stats['items'][0]['statistics']['viewCount']\n",
        "    like_count = response_video_stats['items'][0]['statistics']['likeCount']\n",
        "    dislike_count = response_video_stats['items'][0]['statistics']['dislikeCount']\n",
        "    comment_count = response_video_stats['items'][0]['statistics']['commentCount']\n",
        "\n",
        "    return view_count, like_count, dislike_count, comment_count"
      ],
      "execution_count": null,
      "outputs": []
    },
    {
      "cell_type": "code",
      "metadata": {
        "id": "8l13hjKIdduW"
      },
      "source": [
        "def get_videos(df):\n",
        "    pageToken = \"\"\n",
        "    while 1:\n",
        "        url = \"https://www.googleapis.com/youtube/v3/search?key=\"+API_KEY+\"&channelId=\"+CHANNEL_ID+\"&part=snippet,id&order=date&maxResults=10000&\"+pageToken\n",
        "\n",
        "        response = requests.get(url).json()\n",
        "        time.sleep(1) #give it a second before starting the for loop\n",
        "        for video in response['items']:\n",
        "            if video['id']['kind'] == \"youtube#video\":\n",
        "                video_id = video['id']['videoId']\n",
        "                video_title = video['snippet']['title']\n",
        "                video_title = str(video_title).replace(\"&amp;\",\"\")\n",
        "                upload_date = video['snippet']['publishedAt']\n",
        "                upload_date = str(upload_date).split(\"T\")[0]\n",
        "                view_count, like_count, dislike_count, comment_count = get_video_details(video_id)\n",
        "\n",
        "                df = df.append({'video_id':video_id,'video_title':video_title,\n",
        "                                \"upload_date\":upload_date,\"view_count\":view_count,\n",
        "                                \"like_count\":like_count,\"dislike_count\":dislike_count,\n",
        "                                \"comment_count\":comment_count},ignore_index=True)\n",
        "        try:\n",
        "            if response['nextPageToken'] != None: #if none, it means it reached the last page and break out of it\n",
        "                pageToken = \"pageToken=\" + response['nextPageToken']\n",
        "\n",
        "        except:\n",
        "            break\n",
        "\n",
        "\n",
        "    return df"
      ],
      "execution_count": null,
      "outputs": []
    },
    {
      "cell_type": "code",
      "metadata": {
        "id": "v1NMEFet6kRC"
      },
      "source": [
        "#main\n",
        "\n",
        "#build our dataframe\n",
        "df2 = pd.DataFrame(columns=[\"video_id\",\"video_title\",\"upload_date\",\"view_count\",\"like_count\",\"dislike_count\",\"comment_count\"]) \n",
        "\n",
        "df2 = get_videos(df2)"
      ],
      "execution_count": null,
      "outputs": []
    },
    {
      "cell_type": "code",
      "metadata": {
        "id": "laI5tSLSvkSx",
        "colab": {
          "base_uri": "https://localhost:8080/",
          "height": 419
        },
        "outputId": "2a575507-d2d6-4668-807a-a401a800b154"
      },
      "source": [
        "df2"
      ],
      "execution_count": null,
      "outputs": [
        {
          "output_type": "execute_result",
          "data": {
            "text/html": [
              "<div>\n",
              "<style scoped>\n",
              "    .dataframe tbody tr th:only-of-type {\n",
              "        vertical-align: middle;\n",
              "    }\n",
              "\n",
              "    .dataframe tbody tr th {\n",
              "        vertical-align: top;\n",
              "    }\n",
              "\n",
              "    .dataframe thead th {\n",
              "        text-align: right;\n",
              "    }\n",
              "</style>\n",
              "<table border=\"1\" class=\"dataframe\">\n",
              "  <thead>\n",
              "    <tr style=\"text-align: right;\">\n",
              "      <th></th>\n",
              "      <th>video_id</th>\n",
              "      <th>video_title</th>\n",
              "      <th>upload_date</th>\n",
              "      <th>view_count</th>\n",
              "      <th>like_count</th>\n",
              "      <th>dislike_count</th>\n",
              "      <th>comment_count</th>\n",
              "    </tr>\n",
              "  </thead>\n",
              "  <tbody>\n",
              "    <tr>\n",
              "      <th>0</th>\n",
              "      <td>fklHBWow8vE</td>\n",
              "      <td>Working with APIs in Python For Your Data Scie...</td>\n",
              "      <td>2021-04-02</td>\n",
              "      <td>419</td>\n",
              "      <td>42</td>\n",
              "      <td>0</td>\n",
              "      <td>13</td>\n",
              "    </tr>\n",
              "    <tr>\n",
              "      <th>1</th>\n",
              "      <td>tNXliLTlrV8</td>\n",
              "      <td>Step-by-step Approach to Solving Any Data Scie...</td>\n",
              "      <td>2021-03-24</td>\n",
              "      <td>1579</td>\n",
              "      <td>65</td>\n",
              "      <td>3</td>\n",
              "      <td>24</td>\n",
              "    </tr>\n",
              "    <tr>\n",
              "      <th>2</th>\n",
              "      <td>XRwxYOhHdE8</td>\n",
              "      <td>Facebook&amp;#39;s Most Common Data Science SQL In...</td>\n",
              "      <td>2021-03-10</td>\n",
              "      <td>1381</td>\n",
              "      <td>42</td>\n",
              "      <td>1</td>\n",
              "      <td>23</td>\n",
              "    </tr>\n",
              "    <tr>\n",
              "      <th>3</th>\n",
              "      <td>pV_mnZgzXEo</td>\n",
              "      <td>Coding Concepts in Data Science Interviews in ...</td>\n",
              "      <td>2021-03-03</td>\n",
              "      <td>835</td>\n",
              "      <td>54</td>\n",
              "      <td>1</td>\n",
              "      <td>13</td>\n",
              "    </tr>\n",
              "    <tr>\n",
              "      <th>4</th>\n",
              "      <td>c4Af2FcgamA</td>\n",
              "      <td>The One and Only Data Science Project You Need</td>\n",
              "      <td>2021-02-24</td>\n",
              "      <td>1538</td>\n",
              "      <td>114</td>\n",
              "      <td>0</td>\n",
              "      <td>35</td>\n",
              "    </tr>\n",
              "    <tr>\n",
              "      <th>...</th>\n",
              "      <td>...</td>\n",
              "      <td>...</td>\n",
              "      <td>...</td>\n",
              "      <td>...</td>\n",
              "      <td>...</td>\n",
              "      <td>...</td>\n",
              "      <td>...</td>\n",
              "    </tr>\n",
              "    <tr>\n",
              "      <th>67</th>\n",
              "      <td>UX4_IgagL9I</td>\n",
              "      <td>How to Use Google Colaboratory | Import a CSV ...</td>\n",
              "      <td>2020-05-02</td>\n",
              "      <td>833</td>\n",
              "      <td>5</td>\n",
              "      <td>0</td>\n",
              "      <td>2</td>\n",
              "    </tr>\n",
              "    <tr>\n",
              "      <th>68</th>\n",
              "      <td>tDdo3FiWpgE</td>\n",
              "      <td>Interview Questions for SQL Joins and Subqueries</td>\n",
              "      <td>2020-02-01</td>\n",
              "      <td>320</td>\n",
              "      <td>4</td>\n",
              "      <td>0</td>\n",
              "      <td>1</td>\n",
              "    </tr>\n",
              "    <tr>\n",
              "      <th>69</th>\n",
              "      <td>wW827gqxlRY</td>\n",
              "      <td>SQL Job Interview Mistakes #2</td>\n",
              "      <td>2019-09-15</td>\n",
              "      <td>523</td>\n",
              "      <td>8</td>\n",
              "      <td>0</td>\n",
              "      <td>0</td>\n",
              "    </tr>\n",
              "    <tr>\n",
              "      <th>70</th>\n",
              "      <td>xbc2GpGUXwc</td>\n",
              "      <td>SQL Job Interview Mistakes #1</td>\n",
              "      <td>2019-08-03</td>\n",
              "      <td>6462</td>\n",
              "      <td>43</td>\n",
              "      <td>11</td>\n",
              "      <td>1</td>\n",
              "    </tr>\n",
              "    <tr>\n",
              "      <th>71</th>\n",
              "      <td>n6gM265zG68</td>\n",
              "      <td>SQL Query Interview Questions And Answers From...</td>\n",
              "      <td>2019-06-26</td>\n",
              "      <td>33211</td>\n",
              "      <td>358</td>\n",
              "      <td>17</td>\n",
              "      <td>2</td>\n",
              "    </tr>\n",
              "  </tbody>\n",
              "</table>\n",
              "<p>72 rows × 7 columns</p>\n",
              "</div>"
            ],
            "text/plain": [
              "       video_id  ... comment_count\n",
              "0   fklHBWow8vE  ...            13\n",
              "1   tNXliLTlrV8  ...            24\n",
              "2   XRwxYOhHdE8  ...            23\n",
              "3   pV_mnZgzXEo  ...            13\n",
              "4   c4Af2FcgamA  ...            35\n",
              "..          ...  ...           ...\n",
              "67  UX4_IgagL9I  ...             2\n",
              "68  tDdo3FiWpgE  ...             1\n",
              "69  wW827gqxlRY  ...             0\n",
              "70  xbc2GpGUXwc  ...             1\n",
              "71  n6gM265zG68  ...             2\n",
              "\n",
              "[72 rows x 7 columns]"
            ]
          },
          "metadata": {
            "tags": []
          },
          "execution_count": 6
        }
      ]
    },
    {
      "cell_type": "code",
      "metadata": {
        "id": "t8laAmHlY7Qw"
      },
      "source": [
        "df2.to_csv('youtube_vids_2nd_pull.csv')"
      ],
      "execution_count": null,
      "outputs": []
    },
    {
      "cell_type": "code",
      "metadata": {
        "id": "DH7hfKCvZDLi"
      },
      "source": [
        ""
      ],
      "execution_count": null,
      "outputs": []
    }
  ]
}